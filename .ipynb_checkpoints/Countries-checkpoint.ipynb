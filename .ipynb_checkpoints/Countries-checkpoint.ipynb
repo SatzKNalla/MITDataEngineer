{
 "cells": [
  {
   "cell_type": "code",
   "execution_count": 14,
   "id": "b3c09795-76a2-4f44-9c1d-f092b7e22dad",
   "metadata": {},
   "outputs": [
    {
     "name": "stdout",
     "output_type": "stream",
     "text": [
      "Luxembourg\n",
      "Mexico\n",
      "Luxembourg\n",
      "Mexico\n"
     ]
    }
   ],
   "source": [
    "from country_list import countries_for_language\n",
    "countries = dict(countries_for_language('en'))\n",
    "\n",
    "for country in countries.values():\n",
    "    if 'x' in country:\n",
    "        print(country)\n",
    "\n",
    "countryDict = {}\n",
    "for country in countries.values():\n",
    "    lst=[]\n",
    "    for letter in country:\n",
    "        if letter != '':\n",
    "            lst.append(letter)\n",
    "    countryDict[country] = list(tuple(lst))\n",
    "\n",
    "for key, value in countryDict.items():\n",
    "    if 'x' in value:\n",
    "        print(key)\n",
    "    "
   ]
  }
 ],
 "metadata": {
  "kernelspec": {
   "display_name": "Python 3",
   "language": "python",
   "name": "python3"
  },
  "language_info": {
   "codemirror_mode": {
    "name": "ipython",
    "version": 3
   },
   "file_extension": ".py",
   "mimetype": "text/x-python",
   "name": "python",
   "nbconvert_exporter": "python",
   "pygments_lexer": "ipython3",
   "version": "3.9.1"
  }
 },
 "nbformat": 4,
 "nbformat_minor": 5
}
