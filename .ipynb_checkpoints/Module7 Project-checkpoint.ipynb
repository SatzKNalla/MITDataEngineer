{
 "cells": [
  {
   "cell_type": "markdown",
   "id": "97d91809-65c7-4348-8e40-d28f4eebc4fe",
   "metadata": {},
   "source": [
    "# House Prices Prediction Project"
   ]
  },
  {
   "cell_type": "markdown",
   "id": "599001b1-aa62-4310-9b90-ef00d91ae075",
   "metadata": {},
   "source": [
    ">In this project with the provided data of various Houses related data and the attributes, we are going to build a *linear regression* algorithm model to predict the ***prices***.\n"
   ]
  },
  {
   "cell_type": "markdown",
   "id": "30a2c6b5-cd9b-4165-8d0d-4328836aed29",
   "metadata": {},
   "source": [
    "## Table of contents\n",
    "* <u>[Summary of Input Data](anchor-example-1)</u>"
   ]
  },
  {
   "cell_type": "code",
   "execution_count": 66,
   "id": "4f49cf77-3b7b-4d26-8793-909f302d1588",
   "metadata": {},
   "outputs": [],
   "source": [
    "import numpy as np\n",
    "import pandas as pd\n",
    "data = pd.read_csv('https://bit.ly/drinksbycountry')"
   ]
  },
  {
   "cell_type": "markdown",
   "id": "ed78c054-27b5-45b7-a50d-b41bc895cffc",
   "metadata": {},
   "source": [
    "## <u> Data Top 5 Rows <a class = \"anchor\" id=\"anchor-example-1\"></a></u>\n",
    "This section gives the summary of the input data what we have for the House Prices Prediction."
   ]
  },
  {
   "cell_type": "markdown",
   "id": "056eb508-3b8c-4e3d-86d0-c3c6b1ebf6d8",
   "metadata": {},
   "source": [
    "Here is the code am going to see the summary of dataframe\n",
    "\n",
    "```python\n",
    "# Consider data as my dataframe\n",
    "data.head()\n",
    "data.tail()\n",
    "data.info()\n",
    "```\n",
    "data.head()"
   ]
  },
  {
   "cell_type": "code",
   "execution_count": 67,
   "id": "a68b8a7d-71f7-482e-9d91-2ded1566d56d",
   "metadata": {},
   "outputs": [
    {
     "name": "stdout",
     "output_type": "stream",
     "text": [
      "<class 'pandas.core.frame.DataFrame'>\n",
      "RangeIndex: 193 entries, 0 to 192\n",
      "Data columns (total 6 columns):\n",
      " #   Column                        Non-Null Count  Dtype  \n",
      "---  ------                        --------------  -----  \n",
      " 0   country                       193 non-null    object \n",
      " 1   beer_servings                 193 non-null    int64  \n",
      " 2   spirit_servings               193 non-null    int64  \n",
      " 3   wine_servings                 193 non-null    int64  \n",
      " 4   total_litres_of_pure_alcohol  193 non-null    float64\n",
      " 5   continent                     193 non-null    object \n",
      "dtypes: float64(1), int64(3), object(2)\n",
      "memory usage: 9.2+ KB\n"
     ]
    }
   ],
   "source": [
    "data.head()\n",
    "data.tail()\n",
    "data.info()"
   ]
  },
  {
   "cell_type": "code",
   "execution_count": null,
   "id": "d77f7018-5109-4980-9a32-c081130246dc",
   "metadata": {},
   "outputs": [],
   "source": []
  }
 ],
 "metadata": {
  "kernelspec": {
   "display_name": "Python 3",
   "language": "python",
   "name": "python3"
  },
  "language_info": {
   "codemirror_mode": {
    "name": "ipython",
    "version": 3
   },
   "file_extension": ".py",
   "mimetype": "text/x-python",
   "name": "python",
   "nbconvert_exporter": "python",
   "pygments_lexer": "ipython3",
   "version": "3.9.1"
  }
 },
 "nbformat": 4,
 "nbformat_minor": 5
}
