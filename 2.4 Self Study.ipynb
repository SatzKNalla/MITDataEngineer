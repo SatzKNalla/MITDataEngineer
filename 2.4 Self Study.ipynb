{
 "cells": [
  {
   "cell_type": "code",
   "execution_count": 1,
   "id": "7cd659b0-77bb-4672-aa2b-2e557c6c054c",
   "metadata": {},
   "outputs": [
    {
     "name": "stdout",
     "output_type": "stream",
     "text": [
      "[0 1 0 1 0 1 0 1]\n",
      "[1 0 1 0 1 0 1 0]\n",
      "[[0 1 0 1 0 1 0 1]\n",
      " [1 0 1 0 1 0 1 0]\n",
      " [0 1 0 1 0 1 0 1]\n",
      " [1 0 1 0 1 0 1 0]\n",
      " [0 1 0 1 0 1 0 1]\n",
      " [1 0 1 0 1 0 1 0]\n",
      " [0 1 0 1 0 1 0 1]\n",
      " [1 0 1 0 1 0 1 0]]\n"
     ]
    },
    {
     "data": {
      "text/plain": [
       "<AxesSubplot: >"
      ]
     },
     "execution_count": 1,
     "metadata": {},
     "output_type": "execute_result"
    },
    {
     "data": {
      "image/png": "[encoded data removed]",
      "text/plain": [
       "<Figure size 432x288 with 1 Axes>"
      ]
     },
     "metadata": {
      "needs_background": "light"
     },
     "output_type": "display_data"
    }
   ],
   "source": [
    "import numpy as np\n",
    "import seaborn as sns\n",
    "\n",
    "a = np.array(range(2,10))\n",
    "b = np.array(range(1,9))\n",
    "\n",
    "a = np.mod(a,2)\n",
    "b = np.mod(b,2)\n",
    "print(a)\n",
    "print(b)\n",
    "\n",
    "z = np.array([a,b,a,b,a,b,a,b])\n",
    "print(z)\n",
    "\n",
    "\n",
    "\n",
    "\n",
    "#sns.heatmap(z,annot = True, linewdiths = 5, cbar = False)\n",
    "sns.heatmap(z,annot = True,  cbar = False)"
   ]
  },
  {
   "cell_type": "code",
   "execution_count": null,
   "id": "4568b749-604b-4787-8ba4-0f5a59d36d22",
   "metadata": {},
   "outputs": [],
   "source": []
  }
 ],
 "metadata": {
  "kernelspec": {
   "display_name": "Python 3",
   "language": "python",
   "name": "python3"
  },
  "language_info": {
   "codemirror_mode": {
    "name": "ipython",
    "version": 3
   },
   "file_extension": ".py",
   "mimetype": "text/x-python",
   "name": "python",
   "nbconvert_exporter": "python",
   "pygments_lexer": "ipython3",
   "version": "3.9.1"
  }
 },
 "nbformat": 4,
 "nbformat_minor": 5
}
