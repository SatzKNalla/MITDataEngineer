{
 "cells": [
  {
   "cell_type": "code",
   "execution_count": 3,
   "id": "8fa8a0d5-be2b-4b4f-9389-0a76a36dd699",
   "metadata": {},
   "outputs": [
    {
     "name": "stdout",
     "output_type": "stream",
     "text": [
      "0\n",
      "apple\n",
      "1\n",
      "peaches\n",
      "2\n",
      "mangoes\n",
      "3\n",
      "bananas\n",
      "4\n",
      "melons\n"
     ]
    }
   ],
   "source": [
    "fruits = ['apple','peaches','mangoes','bananas','melons' ]\n",
    "\n",
    "for ifruits in enumerate(fruits):\n",
    "    print(ifruits[0])\n",
    "    print(ifruits[1])"
   ]
  },
  {
   "cell_type": "code",
   "execution_count": 19,
   "id": "406232d1-a7e7-43ba-9e57-bb172df818c3",
   "metadata": {},
   "outputs": [
    {
     "name": "stdout",
     "output_type": "stream",
     "text": [
      "[{'name': 'satish', 'email': 'satishnalla@Hotmail.com', 'phone': '3472641570'}, {'name': 'nisha', 'email': 'nishac1687@gmail.com', 'phone': '9292783810'}]\n",
      "{'name': 'satish', 'email': 'satishnalla@Hotmail.com', 'phone': '3472641570'}\n",
      "name  -  satish\n",
      "email  -  satishnalla@Hotmail.com\n",
      "phone  -  3472641570\n",
      "{'name': 'nisha', 'email': 'nishac1687@gmail.com', 'phone': '9292783810'}\n",
      "name  -  nisha\n",
      "email  -  nishac1687@gmail.com\n",
      "phone  -  9292783810\n"
     ]
    }
   ],
   "source": [
    "a = [\n",
    "        {'name':'satish','email':'satishnalla@Hotmail.com','phone':'3472641570'}\n",
    "        ,{'name':'nisha','email':'nishac1687@gmail.com','phone':'9292783810'}\n",
    "         ]\n",
    "print(a)\n",
    "\n",
    "for items in a:\n",
    "    print(items)\n",
    "    for key, value in items.items():\n",
    "        print(key, ' - ', value)\n",
    "\n",
    "\n"
   ]
  }
 ],
 "metadata": {
  "kernelspec": {
   "display_name": "Python 3",
   "language": "python",
   "name": "python3"
  },
  "language_info": {
   "codemirror_mode": {
    "name": "ipython",
    "version": 3
   },
   "file_extension": ".py",
   "mimetype": "text/x-python",
   "name": "python",
   "nbconvert_exporter": "python",
   "pygments_lexer": "ipython3",
   "version": "3.9.1"
  }
 },
 "nbformat": 4,
 "nbformat_minor": 5
}
