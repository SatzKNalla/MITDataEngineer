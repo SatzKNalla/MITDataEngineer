{
 "cells": [
  {
   "cell_type": "markdown",
   "metadata": {},
   "source": [
    "# Codio Coding Activity 2.1: NumPy Arrays and Basic Functions\n",
    "\n",
    "### Learning Outcome Addressed\n",
    "\n",
    "- 2. Implement NumPy *arrays*, *functions*, and multidimensional *arrays*.\n",
    "\n",
    "\n",
    "## Index:\n",
    "\n",
    "- [Question 1](#Question-1)\n",
    "- [Question 2](#Question-2)\n",
    "- [Question 3](#Question-3)\n",
    "- [Question 4](#Question-4)\n",
    "- [Question 5](#Question-5)\n",
    "- [Question 6](#Question-6)\n",
    "- [Question 7](#Question-7)\n",
    "- [Question 8](#Question-8)\n",
    "- [Question 9](#Question-9)\n",
    "- [Question 10](#Question-10)\n",
    "- [Question 11](#Question-11)\n",
    " "
   ]
  },
  {
   "cell_type": "markdown",
   "metadata": {},
   "source": [
    "## What is NumPy?\n",
    "\n",
    "*NumPy* is a *Python* library used  in scientific computing. It includes a wide range of *functions* for working in the domain of linear algebra, Fourier transform, and matrices.\n",
    "\n",
    "\n"
   ]
  },
  {
   "cell_type": "markdown",
   "metadata": {},
   "source": [
    "### Importing NumPy\n",
    "\n",
    "Before you begin with this activity, you need to import the *NumPy* library.\n",
    "\n",
    "Run the code cell below."
   ]
  },
  {
   "cell_type": "code",
   "execution_count": 1,
   "metadata": {},
   "outputs": [],
   "source": [
    "import numpy as np"
   ]
  },
  {
   "cell_type": "markdown",
   "metadata": {},
   "source": [
    "### NumPy *Arrays*\n",
    "\n",
    "The main data type of *NumPy* is the *array*. A NumPy *array* is a grid of values, all of the same type, and is indexed by a *tuple* of non-negative integers.\n",
    "\n",
    "A NumPy *array* can be defined by using the *function* *`array()`*.\n",
    "\n",
    "### Question 1\n",
    "*2 points*\n",
    "\n",
    "In the code cell below, create a NumPy *array*, *`ans1a,`* with elements *`0,2,4,` and `6`*.\n",
    "\n",
    "Assign the length of *`ans1a`* to *`ans1b`*.\n",
    "\n",
    "\n",
    "What is the type of *`ans1a`*? Assign your result to *`ans1c`*."
   ]
  },
  {
   "cell_type": "code",
   "execution_count": 13,
   "metadata": {},
   "outputs": [],
   "source": [
    "### GRADED\n",
    "\n",
    "### YOUR SOLUTION HERE\n",
    "ans1a = None\n",
    "ans1b = None\n",
    "ans1c = None\n",
    "\n",
    "### BEGIN SOLUTION\n",
    "ans1a = np.array([0,2,4,6])\n",
    "ans1b = len((ans1a))\n",
    "ans1c = type(ans1a)\n",
    "### END SOLUTION"
   ]
  },
  {
   "cell_type": "markdown",
   "metadata": {},
   "source": [
    "To create an *array*, you can also pass a *list, tuple*, or any *array*-like object into the *`array()`* method, and it will be converted automatically into an *array*.\n",
    "\n",
    "\n",
    "### Question 2\n",
    "*2 points*\n",
    "\n",
    "Define a *list*, *`ans2a`*, with elements *`1, 2, 3, 4,`* and *`5`*, and use that to create an *array*, *`ans2b,`* with the same elements as *`ans2a`*.\n",
    "\n"
   ]
  },
  {
   "cell_type": "code",
   "execution_count": 14,
   "metadata": {},
   "outputs": [],
   "source": [
    "### GRADED\n",
    "\n",
    "### YOUR SOLUTION HERE\n",
    "ans2a = None\n",
    "ans2b = None\n",
    "\n",
    "### BEGIN SOLUTION\n",
    "ans2a = [1,2,3,4,5]\n",
    "ans2b = np.array(ans2a)\n",
    "### END SOLUTION"
   ]
  },
  {
   "cell_type": "markdown",
   "metadata": {},
   "source": [
    "### Question 3\n",
    "*1 point*\n",
    "\n",
    "Define a *tuple*, *`ans3a`*, with elements *`10, 15, 20,`* and *`25`*, and use that to create an *array*, *`ans3b,`* with the same elements as *`ans3a`*.\n",
    "\n"
   ]
  },
  {
   "cell_type": "code",
   "execution_count": 15,
   "metadata": {},
   "outputs": [],
   "source": [
    "### GRADED\n",
    "\n",
    "### YOUR SOLUTION HERE\n",
    "ans3a = None\n",
    "ans3b = None\n",
    "\n",
    "### BEGIN SOLUTION\n",
    "ans3a = (10,15,20,25)\n",
    "ans3b = np.array(ans3a)\n",
    "### END SOLUTION"
   ]
  },
  {
   "cell_type": "markdown",
   "metadata": {},
   "source": [
    "### Dimensions in Arrays\n",
    "\n",
    "A dimension in *arrays* is one level of *array* depth.\n",
    "\n",
    "#### 0-D *Arrays*\n",
    "0-D *arrays*, or scalars, are the elements in an *array*. Each value in an *array* is a 0-D *arrays*.\n",
    "\n",
    "### Question 4\n",
    "*1 point*\n",
    "\n",
    "Create a 0-D *array*, *`ans4a,`* with the value 42.\n",
    "\n",
    "\n"
   ]
  },
  {
   "cell_type": "code",
   "execution_count": 16,
   "metadata": {},
   "outputs": [],
   "source": [
    "### GRADED\n",
    "\n",
    "### YOUR SOLUTION HERE\n",
    "ans4a = None\n",
    "\n",
    "### BEGIN SOLUTION\n",
    "ans4a = np.array([42])\n",
    "### END SOLUTION"
   ]
  },
  {
   "cell_type": "markdown",
   "metadata": {},
   "source": [
    "#### 1-D *Arrays*\n",
    "An *array* that has 0-D *arrays* as its elements is called a uni-dimensional, or 1-D *array*.\n",
    "\n",
    "These are the most common and basic *arrays*.\n",
    "\n",
    "### Question 5\n",
    "*2 points*\n",
    "\n",
    "Create 0-D *arrays*, *`ans5a`*, *`ans5b`*, and *`ans5c,`* with value elements *`10,20`*, and *`30`*, respectively.\n",
    "\n",
    "Define a 1-D *array*, *`ans5d`*, with value elements *`ans5a`*, *`ans5b`*, and *`ans5c`*."
   ]
  },
  {
   "cell_type": "code",
   "execution_count": 17,
   "metadata": {},
   "outputs": [],
   "source": [
    "### GRADED\n",
    "\n",
    "### YOUR SOLUTION HERE\n",
    "ans5a = None\n",
    "ans5b = None\n",
    "ans5c = None\n",
    "ans5d = None\n",
    "\n",
    "### BEGIN SOLUTION\n",
    "ans5a = np.array(10)\n",
    "ans5b = np.array(20)\n",
    "ans5c = np.array(30)\n",
    "ans5d = np.array([ans5a, ans5b, ans5c])\n",
    "### END SOLUTION"
   ]
  },
  {
   "cell_type": "markdown",
   "metadata": {},
   "source": [
    "NumPy *arrays* provide the *`ndim`* attribute that returns an integer that tells you how many dimensions the *array* has.\n",
    "\n",
    "The pseudocode to use this method is provided below.\n",
    "\n",
    "```Python\n",
    "a = np.array(42)\n",
    "a.ndim\n",
    "```\n",
    "\n",
    "### Question 6\n",
    "*2 points*\n",
    "\n",
    "Consider the *array, `ans5d,`* created in Question 5. Use the *`ndim`* attribute to retrieve the dimension. Assign the result to *`ans6a`*."
   ]
  },
  {
   "cell_type": "code",
   "execution_count": 18,
   "metadata": {},
   "outputs": [],
   "source": [
    "### GRADED\n",
    "\n",
    "### YOUR SOLUTION HERE\n",
    "ans6a = None\n",
    "\n",
    "### BEGIN SOLUTION\n",
    "ans5a = np.array(10)\n",
    "ans5b = np.array(20)\n",
    "ans5c = np.array(30)\n",
    "ans5d = np.array([ans5a, ans5b, ans5c])\n",
    "ans6a = ans5d.ndim\n",
    "### END SOLUTION"
   ]
  },
  {
   "cell_type": "markdown",
   "metadata": {},
   "source": [
    "## NumPy *Functions*\n",
    "\n",
    "*NumPy* is a powerful library that comes with an extensive range of *functions*. It would be impossible for us to cover all of them here. \n",
    "\n",
    "Below, you are provided with a summary of the most useful ones.\n",
    "\n",
    "\n",
    "### Creating *Arrays*\n",
    "\n",
    "| Function| Description\n",
    "| --- | --- \n",
    "| *`np.zeros()`* | Creates an *array* with all zero elements|\n",
    "| *`np.ones()`*  | Creates an *array* with all one elements|\n",
    "| *`np.linspace(a,b,n)`* | Creates an *array* with *`n`* equally-spaced elements from *`a`*  to *`b`* |\n",
    "| *`np.arange(a,b,n)`* | Creates an *array* with elements from *`a`*  to *`b`* with step *`n`*|\n",
    "| *`np.random.randn(n)`* | Creates an *array* with *`n`* random normally distributed elements|\n"
   ]
  },
  {
   "cell_type": "markdown",
   "metadata": {},
   "source": [
    "### Question 7\n",
    "*2 points*\n",
    "\n",
    "Create an *array, `ans7a`*, with 20 equally-spaced elements from 0 to 10.\n",
    "\n",
    "Create an *array, `ans7b`*, with 10 normally distributed elements."
   ]
  },
  {
   "cell_type": "code",
   "execution_count": 19,
   "metadata": {},
   "outputs": [],
   "source": [
    "### GRADED\n",
    "\n",
    "### YOUR SOLUTION HERE\n",
    "ans7a = None\n",
    "ans7b = None\n",
    "\n",
    "### BEGIN SOLUTION\n",
    "ans7a = np.linspace(0,10,20)\n",
    "ans7b = np.random.randn(10)\n",
    "### END SOLUTION"
   ]
  },
  {
   "cell_type": "markdown",
   "metadata": {},
   "source": [
    "### Mathematical Functions\n",
    "\n",
    "| Function| Description\n",
    "| --- | --- \n",
    "| *`np.sin()`* | Computes the trigonometric sine.|\n",
    "| *`np.cos()`* | Computes the trigonometric cosine.|\n",
    "| *`np.tan()`* | Computes the trigonometric tangent.|\n",
    "| *`np.exp()`* | Computes the exponential.|\n",
    "| *`np.log()`* | Computes the natural logarithm.|\n",
    "\n",
    "Of course, this list is  much more extensive. Please refer to the [official documentation](https://numpy.org/doc/stable/reference/routines.math.html) for a complete list.\n",
    "\n"
   ]
  },
  {
   "cell_type": "markdown",
   "metadata": {},
   "source": [
    "### Question 8\n",
    "*2 points*\n",
    "\n",
    "Compute the sine of $\\pi/2$. Assign the result to *`ans8a`*.\n",
    "\n",
    "Compute the cosine of $\\pi/4$. Assign the result to *`ans8b`*.\n",
    "\n",
    "**HINT:** $\\pi$ can be defined using the NumPy *function `np.pi()`*."
   ]
  },
  {
   "cell_type": "code",
   "execution_count": 20,
   "metadata": {},
   "outputs": [],
   "source": [
    "### GRADED\n",
    "\n",
    "### YOUR SOLUTION HERE\n",
    "ans8a = None\n",
    "ans8b = None\n",
    "\n",
    "### BEGIN SOLUTION\n",
    "ans8a = np.sin(np.pi/2)\n",
    "ans8b = np.cos(np.pi/4)\n",
    "### END SOLUTION"
   ]
  },
  {
   "cell_type": "markdown",
   "metadata": {},
   "source": [
    "### Question 9\n",
    "*1 point*\n",
    "\n",
    "Compute the natural logarithm of *`2`*. Assign the result to *`ans9a`*.\n"
   ]
  },
  {
   "cell_type": "code",
   "execution_count": 21,
   "metadata": {},
   "outputs": [],
   "source": [
    "### GRADED\n",
    "\n",
    "### YOUR SOLUTION HERE\n",
    "ans9a = None\n",
    "\n",
    "### BEGIN SOLUTION\n",
    "ans9a = np.log(2)\n",
    "### END SOLUTION"
   ]
  },
  {
   "cell_type": "markdown",
   "metadata": {},
   "source": [
    "| Function| Description\n",
    "| --- | --- \n",
    "| *`np.sqrt()`* | Returns the non-negative square-root of an *`array`*, element-wise|\n",
    "| *`np.abs()`* | Calculates the absolute value, element-wise|\n",
    "| *`np.floor()`* |Returns the [floor](https://en.wikipedia.org/wiki/Floor_and_ceiling_functions) of the input, element-wise|\n",
    "| *`np.ceil()`* | Returns the [ceiling](https://en.wikipedia.org/wiki/Floor_and_ceiling_functions) of the input, element-wise|\n"
   ]
  },
  {
   "cell_type": "markdown",
   "metadata": {},
   "source": [
    "### Question 10\n",
    "*2 points*\n",
    "\n",
    "Define an *array, `ans10a`*, with elements *`16, 25, 36`*, and *`100`*. Compute the square root of *`ans10a`* and assign it to *`ans10b`*.\n"
   ]
  },
  {
   "cell_type": "code",
   "execution_count": 22,
   "metadata": {},
   "outputs": [],
   "source": [
    "### GRADED\n",
    "\n",
    "### YOUR SOLUTION HERE\n",
    "ans10a = None\n",
    "ans10b = None\n",
    "\n",
    "### BEGIN SOLUTION\n",
    "ans10a = np.array([16,25,36,100])\n",
    "ans10b = np.sqrt(ans10a)\n",
    "### END SOLUTION"
   ]
  },
  {
   "cell_type": "markdown",
   "metadata": {},
   "source": [
    "### Question 11\n",
    "*2 points*\n",
    "\n",
    "Define an *array, `ans11a`*, with elements *`10.5, 20.87, 40.28`*, and *`100.0`*. \n",
    "\n",
    "Compute the floor of *`ans11a`* and assign it to *`ans11b`*.\n",
    "\n",
    "Compute the ceiling of  *`ans11a`* and assign it to *`ans11c`*."
   ]
  },
  {
   "cell_type": "code",
   "execution_count": 23,
   "metadata": {},
   "outputs": [],
   "source": [
    "### GRADED\n",
    "\n",
    "### YOUR SOLUTION HERE\n",
    "ans11a = None\n",
    "ans11b = None\n",
    "ans11c = None\n",
    "\n",
    "### BEGIN SOLUTION\n",
    "ans11a = np.array([10.5, 20.87, 40.28, 100.0])\n",
    "ans11b = np.floor(ans11a)\n",
    "ans11c = np.ceil(ans11a)\n",
    "### END SOLUTION"
   ]
  }
 ],
 "metadata": {
  "kernelspec": {
   "display_name": "Python 3 (ipykernel)",
   "language": "python",
   "name": "python3"
  },
  "language_info": {
   "codemirror_mode": {
    "name": "ipython",
    "version": 3
   },
   "file_extension": ".py",
   "mimetype": "text/x-python",
   "name": "python",
   "nbconvert_exporter": "python",
   "pygments_lexer": "ipython3",
   "version": "3.9.9"
  }
 },
 "nbformat": 4,
 "nbformat_minor": 4
}
