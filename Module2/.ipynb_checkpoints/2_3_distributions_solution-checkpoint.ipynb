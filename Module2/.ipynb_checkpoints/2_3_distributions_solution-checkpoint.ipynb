{
 "cells": [
  {
   "cell_type": "markdown",
   "metadata": {
    "nbgrader": {
     "grade": false,
     "grade_id": "cell-5a50b3bd255350e9",
     "locked": true,
     "schema_version": 1,
     "solution": false
    }
   },
   "source": [
    "# Codio Coding Activity 2.3: Discrete and Continuous Distributions in Python\n",
    "\n",
    "### Learning Outcome Addressed\n",
    "\n",
    "- 8. Implement discrete and continuous distributions\n",
    "\n",
    "\n",
    "## Index:\n",
    "\n",
    "- [Question 1](#Question-1)\n",
    "- [Question 2](#Question-2)\n",
    "- [Question 3](#Question-3)\n",
    "- [Question 4](#Question-4)\n",
    "- [Question 5](#Question-5)\n",
    "- [Question 6](#Question-6)\n",
    "- [Question 7](#Question-7)"
   ]
  },
  {
   "cell_type": "markdown",
   "metadata": {
    "nbgrader": {
     "grade": false,
     "grade_id": "cell-7803dd6463f0781d",
     "locked": true,
     "schema_version": 1,
     "solution": false
    }
   },
   "source": [
    "## Discrete Distributions in Python\n",
    "\n",
    "Distributions in *Python* can be *plotted* by using the *library* [SciPy](https://www.scipy.org/scipylib/index.html), which include a module for statistics.\n",
    "\n",
    "This activity is designed to give you a gentle introduction to the *library* syntax.\n",
    "\n",
    "### Discrete Distributions\n",
    "\n",
    "As you have learned, if a random variable can take on only a finite number of distinct values, then the corresponding distribution must be discrete.\n",
    "\n",
    "For example, experiments like tossing a coin or rolling a die only have a finite number of outcomes. Therefore, the distribution that represents these outcomes will be discrete.\n",
    "\n",
    "\n"
   ]
  },
  {
   "cell_type": "markdown",
   "metadata": {
    "nbgrader": {
     "grade": false,
     "grade_id": "cell-d33ced98e1b6476d",
     "locked": true,
     "schema_version": 1,
     "solution": false
    }
   },
   "source": [
    "### Tossing a Coin\n",
    "\n",
    "As you have learned, the two possible outcomes of tossing a coin can be mapped to zeros (for tails) and ones (for heads).\n",
    "\n",
    "The distribution that represents this experiment is the Bernoulli distribution.\n",
    "\n",
    "In the code cell below, we import the *function* to generate the values for this distribution."
   ]
  },
  {
   "cell_type": "code",
   "execution_count": 2,
   "metadata": {
    "nbgrader": {
     "grade": false,
     "grade_id": "cell-cff0cfaf7579dad1",
     "locked": true,
     "schema_version": 1,
     "solution": false
    }
   },
   "outputs": [],
   "source": [
    "from scipy.stats import bernoulli \n",
    "import numpy as np"
   ]
  },
  {
   "cell_type": "markdown",
   "metadata": {
    "nbgrader": {
     "grade": false,
     "grade_id": "cell-907f79ffc125cf11",
     "locked": true,
     "schema_version": 1,
     "solution": false
    }
   },
   "source": [
    "### Question 1\n",
    "*3 points*\n",
    "\n",
    "In the code cell below, define a *variable, `ans1a`*, that contains the probability value of getting a head or tail when tossing a coin.\n",
    "\n",
    "Next, generate the random variable values for this experiment by using the *`bernoulli()` function* imported above. Pass the probability value defined above to this *function*. Assign this result to *`ans1b`*.\n",
    "\n",
    "Finally, use the code *`ans2b.rvs()`* with argument equal to *`100`* to generate the samples. Assign this result to *`ans1c`*.\n",
    "\n",
    "Feel free to print *`ans1c`* to your screen to visualize the result."
   ]
  },
  {
   "cell_type": "code",
   "execution_count": 3,
   "metadata": {
    "nbgrader": {
     "grade": false,
     "grade_id": "cell-33b08152084b6ab8",
     "locked": false,
     "schema_version": 1,
     "solution": true
    }
   },
   "outputs": [],
   "source": [
    "### GRADED\n",
    "\n",
    "#random seed for reproducibility\n",
    "np.random.seed(0)\n",
    "### YOUR SOLUTION HERE\n",
    "ans1a = None\n",
    "ans1b = None\n",
    "ans1c = None\n",
    "\n",
    "### BEGIN SOLUTION\n",
    "ans1a = 0.5\n",
    "ans1b=bernoulli(ans1a)\n",
    "ans1c = ans1b.rvs(100)\n",
    "### END SOLUTION"
   ]
  },
  {
   "cell_type": "markdown",
   "metadata": {
    "nbgrader": {
     "grade": false,
     "grade_id": "cell-0519b74b0d571bbf",
     "locked": true,
     "schema_version": 1,
     "solution": false
    }
   },
   "source": [
    "Below is a plotted example of the histogram graph of this distribution.\n",
    "\n",
    "You will learn how to do this on your own in the next Codio activity.\n",
    "\n"
   ]
  },
  {
   "cell_type": "code",
   "execution_count": 4,
   "metadata": {
    "nbgrader": {
     "grade": false,
     "grade_id": "cell-bc4b3784bd214bd6",
     "locked": true,
     "schema_version": 1,
     "solution": false
    }
   },
   "outputs": [
    {
     "data": {
      "image/png": "[encoded data removed]",
      "text/plain": [
       "<Figure size 432x288 with 1 Axes>"
      ]
     },
     "metadata": {
      "needs_background": "light"
     },
     "output_type": "display_data"
    }
   ],
   "source": [
    "from matplotlib import pyplot as plt\n",
    "\n",
    "# Plot the distribution of `xs`\n",
    "plt.hist(ans1c)\n",
    "plt.show()"
   ]
  },
  {
   "cell_type": "markdown",
   "metadata": {
    "nbgrader": {
     "grade": false,
     "grade_id": "cell-0eb2ec59ae9c3588",
     "locked": true,
     "schema_version": 1,
     "solution": false
    }
   },
   "source": [
    "### Rolling a Die\n",
    "\n",
    "When rolling a fair die, the possible outcomes are all the integers from one to six.\n",
    "\n",
    "The distribution that represents this experiment is the uniform distribution.\n",
    "\n",
    "In the code cell below, we create a random variable to store the result of the roll.\n"
   ]
  },
  {
   "cell_type": "code",
   "execution_count": 5,
   "metadata": {
    "nbgrader": {
     "grade": false,
     "grade_id": "cell-266f42e7961df030",
     "locked": true,
     "schema_version": 1,
     "solution": false
    }
   },
   "outputs": [
    {
     "data": {
      "text/plain": [
       "4"
      ]
     },
     "execution_count": 5,
     "metadata": {},
     "output_type": "execute_result"
    }
   ],
   "source": [
    "from random import randint\n",
    "one_die_roll = randint(1,6)\n",
    "one_die_roll"
   ]
  },
  {
   "cell_type": "markdown",
   "metadata": {
    "nbgrader": {
     "grade": false,
     "grade_id": "cell-ea5fe150f13c001a",
     "locked": true,
     "schema_version": 1,
     "solution": false
    }
   },
   "source": [
    "To visualize the distribution, we need to roll more than one die.\n",
    "\n",
    "### Question 2\n",
    "*3 points*\n",
    "\n",
    "In the code cell below, create a *list* containing the results from ten rolls. Assign it to *`ans2a`*. You can use a *list comprehension* for this.\n",
    "\n",
    "Feel free to print *`ans2a`* to your screen to visualize the result."
   ]
  },
  {
   "cell_type": "code",
   "execution_count": 6,
   "metadata": {
    "nbgrader": {
     "grade": false,
     "grade_id": "cell-9a62d504d94cc002",
     "locked": false,
     "schema_version": 1,
     "solution": true
    }
   },
   "outputs": [],
   "source": [
    "### GRADED\n",
    "\n",
    "#random seed for reproducibility\n",
    "import random\n",
    "random.seed(0)\n",
    "### YOUR SOLUTION HERE\n",
    "ans2a = None\n",
    "\n",
    "\n",
    "### BEGIN SOLUTION\n",
    "ans2a = [randint(1,6) for x in range(10)]\n",
    "### END SOLUTION"
   ]
  },
  {
   "cell_type": "markdown",
   "metadata": {
    "nbgrader": {
     "grade": false,
     "grade_id": "cell-63df410bf84c9611",
     "locked": true,
     "schema_version": 1,
     "solution": false
    }
   },
   "source": [
    "Below, we have plotted for you the histogram graph of the distribution for this experiment.\n",
    "\n",
    "You will learn how to do this on your own in the next Codio activity."
   ]
  },
  {
   "cell_type": "code",
   "execution_count": 7,
   "metadata": {
    "nbgrader": {
     "grade": false,
     "grade_id": "cell-f7ac9bd1485f8725",
     "locked": true,
     "schema_version": 1,
     "solution": false
    }
   },
   "outputs": [
    {
     "data": {
      "image/png": "[encoded data removed]",
      "text/plain": [
       "<Figure size 432x288 with 1 Axes>"
      ]
     },
     "metadata": {
      "needs_background": "light"
     },
     "output_type": "display_data"
    }
   ],
   "source": [
    "plt.hist(ans2a,bins=20)\n",
    "plt.show()"
   ]
  },
  {
   "cell_type": "markdown",
   "metadata": {
    "nbgrader": {
     "grade": false,
     "grade_id": "cell-9ec388d15ac5eafa",
     "locked": true,
     "schema_version": 1,
     "solution": false
    }
   },
   "source": [
    "As you can see, the distribution does not appear uniform. This is because we haven't rolled the die enough times."
   ]
  },
  {
   "cell_type": "markdown",
   "metadata": {
    "nbgrader": {
     "grade": false,
     "grade_id": "cell-1ada7cc56c65cdd7",
     "locked": true,
     "schema_version": 1,
     "solution": false
    }
   },
   "source": [
    "### Question 3\n",
    "*2 points*\n",
    "\n",
    "In the code cell below, create a *list* containing the results from 10,000 rolls. Assign it to *`ans3a`*. You can use a *list comprehension* for this.\n",
    "\n",
    "Feel free to print *`ans3a`* to your screen to visualize the result."
   ]
  },
  {
   "cell_type": "code",
   "execution_count": 8,
   "metadata": {
    "nbgrader": {
     "grade": false,
     "grade_id": "cell-27cc59866683ace5",
     "locked": false,
     "schema_version": 1,
     "solution": true
    }
   },
   "outputs": [],
   "source": [
    "### GRADED\n",
    "\n",
    "#random seed for reproducibility\n",
    "import random\n",
    "random.seed(0)\n",
    "### YOUR SOLUTION HERE\n",
    "ans3a = None\n",
    "\n",
    "\n",
    "### BEGIN SOLUTION\n",
    "ans3a = [randint(1,6) for x in range(10000)]\n",
    "### END SOLUTION"
   ]
  },
  {
   "cell_type": "markdown",
   "metadata": {
    "nbgrader": {
     "grade": false,
     "grade_id": "cell-430912365f45388f",
     "locked": true,
     "schema_version": 1,
     "solution": false
    }
   },
   "source": [
    "Now, let's have a look at the new distribution."
   ]
  },
  {
   "cell_type": "code",
   "execution_count": 9,
   "metadata": {
    "nbgrader": {
     "grade": false,
     "grade_id": "cell-8c3a7a2780eef9cd",
     "locked": true,
     "schema_version": 1,
     "solution": false
    }
   },
   "outputs": [
    {
     "data": {
      "image/png": "[encoded data removed]",
      "text/plain": [
       "<Figure size 432x288 with 1 Axes>"
      ]
     },
     "metadata": {
      "needs_background": "light"
     },
     "output_type": "display_data"
    }
   ],
   "source": [
    "plt.hist(ans3a,bins=20)\n",
    "plt.show()"
   ]
  },
  {
   "cell_type": "markdown",
   "metadata": {
    "nbgrader": {
     "grade": false,
     "grade_id": "cell-9551cb973b377220",
     "locked": true,
     "schema_version": 1,
     "solution": false
    }
   },
   "source": [
    "As you can see the distribution looks more uniform now because we have increased the amount of sample data.\n",
    "\n",
    "### Rolling Two Dice\n",
    "\n",
    "The distribution changes its shape when adding the results of rolling two dice. \n",
    "\n",
    "In the code cell below, we have defined a *function `roll_two`* that accepts, as input, the argument *`rolls`* to describe the total number of rolls in our experiment.\n",
    "\n",
    "The *function* returns the sum, *`total`*, of the outcomes of each roll.\n"
   ]
  },
  {
   "cell_type": "code",
   "execution_count": 10,
   "metadata": {
    "nbgrader": {
     "grade": false,
     "grade_id": "cell-1c886ae52a8c3d28",
     "locked": true,
     "schema_version": 1,
     "solution": false
    }
   },
   "outputs": [],
   "source": [
    "def roll_two(rolls):\n",
    "    total = []\n",
    "    \n",
    "    for _ in range(rolls):\n",
    "        roll_1 = randint(1,6)\n",
    "        roll_2 = randint(1,6)\n",
    "        total += [(roll_1 + roll_2)]\n",
    "        \n",
    "    return total"
   ]
  },
  {
   "cell_type": "markdown",
   "metadata": {
    "nbgrader": {
     "grade": false,
     "grade_id": "cell-85a48ecc33dd5063",
     "locked": true,
     "schema_version": 1,
     "solution": false
    }
   },
   "source": [
    "Below, we create a *list* containing the result from adding 1,000 die rolls."
   ]
  },
  {
   "cell_type": "code",
   "execution_count": 11,
   "metadata": {
    "nbgrader": {
     "grade": false,
     "grade_id": "cell-17568f4335124669",
     "locked": true,
     "schema_version": 1,
     "solution": false
    }
   },
   "outputs": [],
   "source": [
    "rolls = 1000\n",
    "new_roll = roll_two(rolls)"
   ]
  },
  {
   "cell_type": "markdown",
   "metadata": {
    "nbgrader": {
     "grade": false,
     "grade_id": "cell-949fadf4dc3c8c13",
     "locked": true,
     "schema_version": 1,
     "solution": false
    }
   },
   "source": [
    "Next, we *plot* for you the histogram graph of the distribution for this experiment."
   ]
  },
  {
   "cell_type": "code",
   "execution_count": 12,
   "metadata": {
    "nbgrader": {
     "grade": false,
     "grade_id": "cell-c42f0d6e64bee82c",
     "locked": true,
     "schema_version": 1,
     "solution": false
    }
   },
   "outputs": [
    {
     "data": {
      "image/png": "[encoded data removed]",
      "text/plain": [
       "<Figure size 432x288 with 1 Axes>"
      ]
     },
     "metadata": {
      "needs_background": "light"
     },
     "output_type": "display_data"
    }
   ],
   "source": [
    "plt.hist(new_roll, bins=20)\n",
    "plt.show()"
   ]
  },
  {
   "cell_type": "markdown",
   "metadata": {
    "nbgrader": {
     "grade": false,
     "grade_id": "cell-5b7343418234a15e",
     "locked": true,
     "schema_version": 1,
     "solution": false
    }
   },
   "source": [
    "Can you think about why the distribution has this shape? Which distribution does it remind you of?"
   ]
  },
  {
   "cell_type": "markdown",
   "metadata": {
    "nbgrader": {
     "grade": false,
     "grade_id": "cell-9d03c68635329dd0",
     "locked": true,
     "schema_version": 1,
     "solution": false
    }
   },
   "source": [
    "### The Uniform Distribution \n",
    "\n",
    "You can visualize uniform distribution in *Python* with the help of a random number generator acting over an interval of numbers *`(a,b)`*. You need to import the *`uniform()` function* from *`scipy.stats` module*."
   ]
  },
  {
   "cell_type": "code",
   "execution_count": 13,
   "metadata": {
    "nbgrader": {
     "grade": false,
     "grade_id": "cell-1c55d3de6ff0282d",
     "locked": true,
     "schema_version": 1,
     "solution": false
    }
   },
   "outputs": [],
   "source": [
    "from scipy.stats import uniform"
   ]
  },
  {
   "cell_type": "markdown",
   "metadata": {
    "nbgrader": {
     "grade": false,
     "grade_id": "cell-868d64f46484be5c",
     "locked": true,
     "schema_version": 1,
     "solution": false
    }
   },
   "source": [
    "The *`uniform()` function* generates a uniform continuous variable between the specified interval. If you want to maintain reproducibility, include a random_state argument assigned to a number.\n",
    "\n",
    "### Question 4\n",
    "*3 points*\n",
    "\n",
    "In the code cell below, assign the values *`1000, 10`* and *`20`* to *`ans4a, ans4b,`* and *`ans4c`*, respectively.\n",
    "\n",
    "Next, generate the random variable values for this experiment by using the *`uniform.rvs()` function* imported above. \n",
    "\n",
    "Inside the *function*, set *`size = ans4a`*, *`loc = ans4b`*, and *`scale = ans4c`*. Assign the result to *`ans4d`*.\n",
    "Pass the probability value defined above to this *function*. Assign this result to *`ans1b`*."
   ]
  },
  {
   "cell_type": "code",
   "execution_count": 14,
   "metadata": {
    "nbgrader": {
     "grade": false,
     "grade_id": "cell-e6e242a27570f43b",
     "locked": false,
     "schema_version": 1,
     "solution": true
    }
   },
   "outputs": [],
   "source": [
    "### GRADED\n",
    "\n",
    "### YOUR SOLUTION HERE\n",
    "ans4a = None\n",
    "ans4b = None\n",
    "ans4c = None\n",
    "ans4d = None\n",
    "\n",
    "### BEGIN SOLUTION\n",
    "ans4a = 1000\n",
    "ans4b = 10\n",
    "ans4c = 20\n",
    "ans4d = uniform.rvs(size=ans4a, loc = ans4b, scale=ans4c)\n",
    "### END SOLUTION"
   ]
  },
  {
   "cell_type": "markdown",
   "metadata": {
    "nbgrader": {
     "grade": false,
     "grade_id": "cell-0a998ca3f2f4c759",
     "locked": true,
     "schema_version": 1,
     "solution": false
    }
   },
   "source": [
    "Below, we use [Seaborn](https://seaborn.pydata.org)  to plot the histogram of the distribution you just created. \n",
    "\n",
    "Seaborn is a more advanced visualization library than Matplotlib. It was designed specifically for data science and statistics, and it offers many more capabilities than Matplotlib for plotting data from these fields."
   ]
  },
  {
   "cell_type": "code",
   "execution_count": 17,
   "metadata": {
    "nbgrader": {
     "grade": false,
     "grade_id": "cell-04d934da59ce26d9",
     "locked": true,
     "schema_version": 1,
     "solution": false
    }
   },
   "outputs": [
    {
     "name": "stderr",
     "output_type": "stream",
     "text": [
      "/usr/local/lib/python3.9/site-packages/seaborn/distributions.py:2619: FutureWarning: `distplot` is a deprecated function and will be removed in a future version. Please adapt your code to use either `displot` (a figure-level function with similar flexibility) or `histplot` (an axes-level function for histograms).\n",
      "  warnings.warn(msg, FutureWarning)\n"
     ]
    },
    {
     "data": {
      "text/plain": [
       "[Text(0.5, 0, 'Uniform Distribution '), Text(0, 0.5, 'Frequency')]"
      ]
     },
     "execution_count": 17,
     "metadata": {},
     "output_type": "execute_result"
    },
    {
     "data": {
      "image/png": "[encoded data removed]",
      "text/plain": [
       "<Figure size 360x360 with 1 Axes>"
      ]
     },
     "metadata": {},
     "output_type": "display_data"
    }
   ],
   "source": [
    "# import seaborn\n",
    "import seaborn as sns\n",
    "# settings for seaborn plot sizes\n",
    "sns.set(rc={'figure.figsize':(5,5)})\n",
    "\n",
    "ax = sns.distplot(ans4d,\n",
    "                  bins=100,\n",
    "                  kde=True,\n",
    "                  color='skyblue',\n",
    "                  hist_kws={\"linewidth\": 15,'alpha':1})\n",
    "ax.set(xlabel='Uniform Distribution ', ylabel='Frequency')"
   ]
  },
  {
   "cell_type": "markdown",
   "metadata": {
    "nbgrader": {
     "grade": false,
     "grade_id": "cell-39ba5291291ae9c2",
     "locked": true,
     "schema_version": 1,
     "solution": false
    }
   },
   "source": [
    "## Continuous Distributions in Python \n",
    "\n",
    "A continuous random variable is one that takes an infinite number of possible values. Continuous random variables are usually measurements. Examples include height and weight, because these types of measurements can assume any value within a specified range.\n",
    "\n",
    "### The Normal Distribution\n",
    "\n",
    "The normal distribution, also known as Gaussian distribution, is arguably the most popular distribution in data science.\n",
    "\n",
    "A normal distribution has a bell-shaped  curve defined by its mean $\\mu$ and standard deviation $\\sigma$. The curve is symmetrical, centered about its mean, with its spread determined by its standard deviation.\n",
    "\n",
    "\n",
    "### Question 5\n",
    "*3 points*\n",
    "\n",
    "A normal sample can be generated by using the *function `norm.rvs()`* from the module *`scipy.stats()`*. Import the necessary *libraries* in the code cell below.\n",
    "\n",
    "Next, generate the sample data points by using the *function* above. Set the argument *`size = 10000`*, *`loc = 0`*, and *`scale = 1`*. Assign your points to the variable *`ans5a`*."
   ]
  },
  {
   "cell_type": "code",
   "execution_count": 18,
   "metadata": {
    "nbgrader": {
     "grade": false,
     "grade_id": "cell-5fc9cfc0ffc73c9e",
     "locked": false,
     "schema_version": 1,
     "solution": true
    }
   },
   "outputs": [],
   "source": [
    "### GRADED\n",
    "\n",
    "\n",
    "### YOUR SOLUTION HERE\n",
    "ans5a = None\n",
    "\n",
    "### BEGIN SOLUTION\n",
    "from scipy.stats import norm\n",
    "ans5a = norm.rvs(size=10000,loc=0,scale=1)\n",
    "### END SOLUTION"
   ]
  },
  {
   "cell_type": "markdown",
   "metadata": {
    "nbgrader": {
     "grade": false,
     "grade_id": "cell-ce10508372410825",
     "locked": true,
     "schema_version": 1,
     "solution": false
    }
   },
   "source": [
    "Below, we use [Seaborn](https://seaborn.pydata.org)  to plot the histogram of the distribution you just created. "
   ]
  },
  {
   "cell_type": "code",
   "execution_count": 19,
   "metadata": {
    "nbgrader": {
     "grade": false,
     "grade_id": "cell-f930bac6036b82f9",
     "locked": true,
     "schema_version": 1,
     "solution": false
    }
   },
   "outputs": [
    {
     "name": "stderr",
     "output_type": "stream",
     "text": [
      "/usr/local/lib/python3.9/site-packages/seaborn/distributions.py:2619: FutureWarning: `distplot` is a deprecated function and will be removed in a future version. Please adapt your code to use either `displot` (a figure-level function with similar flexibility) or `histplot` (an axes-level function for histograms).\n",
      "  warnings.warn(msg, FutureWarning)\n"
     ]
    },
    {
     "data": {
      "text/plain": [
       "[Text(0.5, 0, 'Normal Distribution'), Text(0, 0.5, 'Frequency')]"
      ]
     },
     "execution_count": 19,
     "metadata": {},
     "output_type": "execute_result"
    },
    {
     "data": {
      "image/png": "[encoded data removed]",
      "text/plain": [
       "<Figure size 360x360 with 1 Axes>"
      ]
     },
     "metadata": {},
     "output_type": "display_data"
    }
   ],
   "source": [
    "ax = sns.distplot(ans5a,\n",
    "                  bins=100,\n",
    "                  kde=True,\n",
    "                  color='skyblue',\n",
    "                  hist_kws={\"linewidth\": 15,'alpha':1})\n",
    "ax.set(xlabel='Normal Distribution', ylabel='Frequency')"
   ]
  },
  {
   "cell_type": "markdown",
   "metadata": {
    "nbgrader": {
     "grade": false,
     "grade_id": "cell-caf6f001c2fa4934",
     "locked": true,
     "schema_version": 1,
     "solution": false
    }
   },
   "source": [
    "### Poisson Distribution\n",
    "\n",
    "A Poisson random variable is typically used to model the number of times an event happened in a time interval. For example, the number of times costumers visited a store in an interval can be thought of as a Poisson process.\n",
    "\n",
    "You can generate a Poisson distributed random variable using *`scipy.stats` module's `poisson.rvs()` method* which takes *`mu`* as a shape parameter. This parameter is the equivalent to the parameter $\\lambda$ in the equation on the Poisson distribution you saw in Mini-Lesson 2.5."
   ]
  },
  {
   "cell_type": "markdown",
   "metadata": {
    "nbgrader": {
     "grade": false,
     "grade_id": "cell-91c40fe908171b77",
     "locked": true,
     "schema_version": 1,
     "solution": false
    }
   },
   "source": [
    "### Question 6\n",
    "*3 points*\n",
    "\n",
    "A Poisson sample can be generated by using the *function `poisson.rvs()`* from the module *`scipy.stats()`*. Import the necessary *libraries* in the code cell below.\n",
    "\n",
    "Next, generate the sample data points by using the *function* above. Set the argument *`mu = 3.54`* and *`size = 10000`*. Assign your points to the variable *`ans6a`*."
   ]
  },
  {
   "cell_type": "code",
   "execution_count": 20,
   "metadata": {
    "nbgrader": {
     "grade": false,
     "grade_id": "cell-cbbb87db0438c3c2",
     "locked": false,
     "schema_version": 1,
     "solution": true
    }
   },
   "outputs": [],
   "source": [
    "### GRADED\n",
    "\n",
    "\n",
    "### YOUR SOLUTION HERE\n",
    "ans6a = None\n",
    "\n",
    "### BEGIN SOLUTION\n",
    "from scipy.stats import poisson\n",
    "ans6a = poisson.rvs(mu = 3.54, size=10000)\n",
    "### END SOLUTION"
   ]
  },
  {
   "cell_type": "markdown",
   "metadata": {
    "nbgrader": {
     "grade": false,
     "grade_id": "cell-b73fc48d4018676b",
     "locked": true,
     "schema_version": 1,
     "solution": false
    }
   },
   "source": [
    "Below, we use [Seaborn](https://seaborn.pydata.org)  to plot the histogram of the distribution you just created. "
   ]
  },
  {
   "cell_type": "code",
   "execution_count": 22,
   "metadata": {
    "nbgrader": {
     "grade": false,
     "grade_id": "cell-4d7128255ca2da61",
     "locked": true,
     "schema_version": 1,
     "solution": false
    }
   },
   "outputs": [
    {
     "name": "stderr",
     "output_type": "stream",
     "text": [
      "/usr/local/lib/python3.9/site-packages/seaborn/distributions.py:2619: FutureWarning: `distplot` is a deprecated function and will be removed in a future version. Please adapt your code to use either `displot` (a figure-level function with similar flexibility) or `histplot` (an axes-level function for histograms).\n",
      "  warnings.warn(msg, FutureWarning)\n"
     ]
    },
    {
     "data": {
      "text/plain": [
       "[Text(0.5, 0, 'Poisson Distribution'), Text(0, 0.5, 'Frequency')]"
      ]
     },
     "execution_count": 22,
     "metadata": {},
     "output_type": "execute_result"
    },
    {
     "data": {
      "image/png": "[encoded data removed]",
      "text/plain": [
       "<Figure size 360x360 with 1 Axes>"
      ]
     },
     "metadata": {},
     "output_type": "display_data"
    }
   ],
   "source": [
    "ax = sns.distplot(ans6a,\n",
    "                  bins=30,\n",
    "                  kde = False,\n",
    "                  color='skyblue',\n",
    "                  hist_kws={\"linewidth\": 15,'alpha':1})\n",
    "ax.set(xlabel='Poisson Distribution', ylabel='Frequency')"
   ]
  },
  {
   "cell_type": "markdown",
   "metadata": {
    "nbgrader": {
     "grade": false,
     "grade_id": "cell-b505a3f6e4ff6a5a",
     "locked": true,
     "schema_version": 1,
     "solution": false
    }
   },
   "source": [
    "### Exponential Distribution Function\n",
    "\n",
    "The exponential distribution describes the time between events in a Poisson process.\n",
    "\n",
    "You can generate an exponentially distributed random variable using *`scipy.stats` module's `expon.rvs()` method,* which takes *`scale`* as a shape parameter. This parameter is the equivalent to the parameter $1/\\lambda$ in the equation on the Poisson distribution you saw in Mini-Lesson 2.5.\n",
    "\n",
    "The *`loc`* argument shift distribution and *`size`* decides the number of random samples in the distribution."
   ]
  },
  {
   "cell_type": "markdown",
   "metadata": {
    "nbgrader": {
     "grade": false,
     "grade_id": "cell-df20a5e9f9eb2f53",
     "locked": true,
     "schema_version": 1,
     "solution": false
    }
   },
   "source": [
    "### Question 7\n",
    "*3 points*\n",
    "\n",
    "An exponential sample can be generated by using the *function `expon.rvs()`* from the module *`scipy.stats()`*. Import the necessary *libraries* in the code cell below.\n",
    "\n",
    "Next, generate the sample data points by using the *function* above. Set the argument *`scale = 4.67`*, *`loc = 1`*, and *`size = 10000`*. Assign your points to the variable *`ans7a`*."
   ]
  },
  {
   "cell_type": "code",
   "execution_count": 23,
   "metadata": {
    "nbgrader": {
     "grade": false,
     "grade_id": "cell-18c08985d8663e5c",
     "locked": false,
     "schema_version": 1,
     "solution": true
    }
   },
   "outputs": [],
   "source": [
    "### GRADED\n",
    "\n",
    "### YOUR SOLUTION HERE\n",
    "ans7a = None\n",
    "\n",
    "### BEGIN SOLUTION\n",
    "from scipy.stats import expon\n",
    "ans7a = expon.rvs(scale = 4.67, loc =1, size=10000)\n",
    "### END SOLUTION"
   ]
  }
 ],
 "metadata": {
  "celltoolbar": "Create Assignment",
  "kernelspec": {
   "display_name": "Python 3 (ipykernel)",
   "language": "python",
   "name": "python3"
  },
  "language_info": {
   "codemirror_mode": {
    "name": "ipython",
    "version": 3
   },
   "file_extension": ".py",
   "mimetype": "text/x-python",
   "name": "python",
   "nbconvert_exporter": "python",
   "pygments_lexer": "ipython3",
   "version": "3.9.9"
  }
 },
 "nbformat": 4,
 "nbformat_minor": 4
}
