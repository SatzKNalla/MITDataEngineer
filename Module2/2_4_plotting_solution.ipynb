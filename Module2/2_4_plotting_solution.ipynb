{
 "cells": [
  {
   "cell_type": "markdown",
   "metadata": {
    "nbgrader": {
     "grade": false,
     "grade_id": "cell-a25cf4511afb40c9",
     "locked": true,
     "schema_version": 1,
     "solution": false
    }
   },
   "source": [
    "# Codio Coding Activity 2.4: Plotting in Python\n",
    "\n",
    "### Learning Outcome Addressed\n",
    "\n",
    "- 10. Visualize data using Matplotlib graphs.\n",
    "\n",
    "\n",
    "## Index:\n",
    "\n",
    "- [Question 1](#Question-1)\n",
    "- [Question 2](#Question-2)\n",
    "- [Question 3](#Question-3)\n",
    "- [Question 4](#Question-4)\n",
    "- [Question 5](#Question-5)\n",
    "- [Question 6](#Question-6)\n",
    "\n",
    "**IMPORTANT INSTRUCTIONS:** \n",
    "\n",
    "- To be able to test for this activity, you will be asked to save your figures as PNG files into a folder called *`results`*. Please don't change the name we ask you to give to the plots, so you are able to get all the points in every question. The code you will use to save the PNG files is: *`plt.savefig(\"results/plot_name.png\")`*\n",
    "- Don't add any customization  into the plots that is not specified in the instructions for each exercise."
   ]
  },
  {
   "cell_type": "markdown",
   "metadata": {
    "nbgrader": {
     "grade": false,
     "grade_id": "cell-05dfb1978b05eb5c",
     "locked": true,
     "schema_version": 1,
     "solution": false
    }
   },
   "source": [
    "## Plotting in Python\n",
    "\n",
    "Plotting in *Python* can be achieved by using the library *Matplotlib*.\n",
    "\n",
    "Before you start, we import the library below."
   ]
  },
  {
   "cell_type": "code",
   "execution_count": 1,
   "metadata": {
    "nbgrader": {
     "grade": false,
     "grade_id": "cell-c14c2213d7ed6261",
     "locked": true,
     "schema_version": 1,
     "solution": false
    }
   },
   "outputs": [],
   "source": [
    "import matplotlib.pyplot as plt\n",
    "import numpy as np"
   ]
  },
  {
   "cell_type": "markdown",
   "metadata": {
    "nbgrader": {
     "grade": false,
     "grade_id": "cell-37f4fc163921f976",
     "locked": true,
     "schema_version": 1,
     "solution": false
    }
   },
   "source": [
    "## Line *Plots*\n",
    "\n",
    "### Question 1\n",
    "*2 points*\n",
    "\n",
    "Use the command `plot()` to create a basic *lineplot* with the data *`x = [1,2,3,4]`* and *`y = [1,2,3,4]`* defined for you below. Add a **y**-label with the words *`\"numbers y\"`* and add an **x**-label with the words *`\"numbers x\"`*.\n",
    "\n",
    "Use the *`pyplot` function `savefig`* to save your *plot* as a *`png`* file with the name *`plot1.png`* in the folder *`results`* as directed above."
   ]
  },
  {
   "cell_type": "code",
   "execution_count": 2,
   "metadata": {
    "nbgrader": {
     "grade": false,
     "grade_id": "cell-ec058f4d566012ef",
     "locked": false,
     "schema_version": 1,
     "solution": true
    }
   },
   "outputs": [
    {
     "data": {
      "image/png": "[encoded data removed]",
      "text/plain": [
       "<Figure size 432x288 with 1 Axes>"
      ]
     },
     "metadata": {
      "needs_background": "light"
     },
     "output_type": "display_data"
    }
   ],
   "source": [
    "### GRADED \n",
    "\n",
    "# Data\n",
    "x = [1,2,3,4]\n",
    "y = [1,2,3,4]\n",
    "\n",
    "### YOUR SOLUTION HERE\n",
    "\n",
    "### BEGIN SOLUTION\n",
    "plt.plot([1,2,3,4],[1,2,3,4])\n",
    "plt.ylabel(\"numbers y\")\n",
    "plt.xlabel(\"numbers x\")\n",
    "plt.savefig(\"results/plot1.png\")\n",
    "### END SOLUTION"
   ]
  },
  {
   "cell_type": "markdown",
   "metadata": {
    "nbgrader": {
     "grade": false,
     "grade_id": "cell-bcd1182bfb722000",
     "locked": true,
     "schema_version": 1,
     "solution": false
    }
   },
   "source": [
    "\n",
    "It is also possible to plot different lines on the same graphs.\n",
    "\n",
    "\n",
    "### Question 2\n",
    "*4 points*\n",
    "\n",
    "    \n",
    "In the code cell below, we have defined the  *array `t`* for you. \n",
    "\n",
    "On the same graph, plot *`t`*, *`t^2`*, and *`t^4`*.\n",
    "\n",
    "Save your *plot* as a *`png`* with the name *`plot2.png`* in the folder *`results`*.\n",
    "\n",
    "**HINT:** Your result should look like the image below:\n",
    "\n",
    "<img src=\"2.png\" alt=\"Drawing\" style=\"width: 400px;\"/>\n",
    "\n",
    "You can use the command `plt.show()` to visualize your *plot*."
   ]
  },
  {
   "cell_type": "code",
   "execution_count": 3,
   "metadata": {
    "nbgrader": {
     "grade": false,
     "grade_id": "cell-efbbf457a643cca8",
     "locked": false,
     "schema_version": 1,
     "solution": true
    }
   },
   "outputs": [
    {
     "data": {
      "image/png": "[encoded data removed]",
      "text/plain": [
       "<Figure size 432x288 with 1 Axes>"
      ]
     },
     "metadata": {
      "needs_background": "light"
     },
     "output_type": "display_data"
    }
   ],
   "source": [
    "### GRADED \n",
    "\n",
    "# Data\n",
    "t = np.arange(0., 5., 0.2)\n",
    "\n",
    "### YOUR SOLUTION HERE\n",
    "\n",
    "### BEGIN SOLUTION\n",
    "plt.plot(t, t, t, t**2, t, t**4)\n",
    "plt.savefig(\"results/plot2.png\")\n",
    "### END SOLUTION"
   ]
  },
  {
   "cell_type": "markdown",
   "metadata": {
    "nbgrader": {
     "grade": false,
     "grade_id": "cell-bd118c13a279e71f",
     "locked": true,
     "schema_version": 1,
     "solution": false
    }
   },
   "source": [
    "### Question 3\n",
    "*4 points*\n",
    "    \n",
    "In the code cell below, we have defined an *array `x`* with values from $0$ to $2\\pi$.\n",
    "\n",
    "Set *`y_sin`* equal to $\\sin(x)$ and *`y_cos`* equal to $3\\cos(x)$.\n",
    "\n",
    "On the same *figure*, plot *`y_sin`* and *`y_cos`*. \n",
    "\n",
    "Customize the *plot* with the following settings:\n",
    "\n",
    "- Title: *`Function plots`*\n",
    "- **y**-label = *`values`*\n",
    "- **x**-label = *`angles`*\n",
    "\n",
    "\n",
    "Save your *plot* as a *`png`* file with the name *`plot3.png`* in the folder *`results`*.\n",
    "\n",
    "**HINT:** Use the *NumPy functions *`sin()`* and *`cos()`* to define your dependent variables. Your result should look like the image below:\n",
    "\n",
    "<img src=\"3.png\" alt=\"Drawing\" style=\"width: 400px;\"/>"
   ]
  },
  {
   "cell_type": "code",
   "execution_count": 6,
   "metadata": {
    "nbgrader": {
     "grade": false,
     "grade_id": "cell-7710f1ae58336980",
     "locked": false,
     "schema_version": 1,
     "solution": true
    }
   },
   "outputs": [
    {
     "data": {
      "image/png": "[encoded data removed]",
      "text/plain": [
       "<Figure size 432x288 with 1 Axes>"
      ]
     },
     "metadata": {
      "needs_background": "light"
     },
     "output_type": "display_data"
    }
   ],
   "source": [
    "### GRADED \n",
    "\n",
    "# the x axis: ndarray object of angles between 0 and 2π\n",
    "x = np.arange(0, np.pi*2, 0.05)\n",
    "\n",
    "### YOUR SOLUTION HERE\n",
    "\n",
    "### BEGIN SOLUTION\n",
    "y_sin = np.sin(x)\n",
    "y_cos = 3 * np.cos(x)\n",
    "\n",
    "plt.plot(x,y_sin,x,y_cos)\n",
    "plt.xlabel(\"angles\")\n",
    "plt.ylabel(\"values\")\n",
    "plt.title('Function plots')\n",
    "plt.savefig(\"results/plot3.png\")\n",
    "### END SOLUTION"
   ]
  },
  {
   "cell_type": "markdown",
   "metadata": {
    "nbgrader": {
     "grade": false,
     "grade_id": "cell-1f10cf489ba4092e",
     "locked": true,
     "schema_version": 1,
     "solution": false
    }
   },
   "source": [
    "## Bar *Plots*\n",
    "\n",
    "\n",
    "A bar *plot* is a chart or graph that presents categorical data with rectangular bars with heights or lengths proportional to the values that they represent.\n",
    "\n",
    "*Matplotlib* provides the *[`bar()`](https://matplotlib.org/stable/api/_as_gen/matplotlib.pyplot.bar.html) function* for creating bar *plots*. \n",
    "\n",
    "You can use the *`bar()`* function parameters below with the *axes* object."
   ]
  },
  {
   "cell_type": "markdown",
   "metadata": {
    "nbgrader": {
     "grade": false,
     "grade_id": "cell-17cb07ef1cb0b379",
     "locked": true,
     "schema_version": 1,
     "solution": false
    }
   },
   "source": [
    "### Question 4\n",
    "*3 points*\n",
    "\n",
    "Given the data *`bars`, `y_pos`*, and *`stu`* defined for  you in the code cell below, use the *Matplotlib function `bar()`* to create a bar *plot*. Do so by using the arguments `y_pos`and `stu`. Additionally, inside the *`bar()` function*, set the *argument `color`* equal to *`(0.2, 0.4, 0.6, 0.6)`*. \n",
    "\n",
    "Make the following customizations to the *plot*:\n",
    "\n",
    "- Set the *title* equal to *`Student background`*\n",
    "- Set [`plt.xticks`](https://matplotlib.org/stable/api/_as_gen/matplotlib.pyplot.xticks.html) equal to *`(y_pos, bars)`*.\n",
    "\n",
    "Save your *plot* as a *`png`* file with the name *`plot4.png`* in the folder *`results`*.\n",
    "\n",
    "**HINT:** Your result should look like the image below:\n",
    "\n",
    "<img src=\"4.png\" alt=\"Drawing\" style=\"width: 400px;\"/>"
   ]
  },
  {
   "cell_type": "code",
   "execution_count": 7,
   "metadata": {
    "nbgrader": {
     "grade": false,
     "grade_id": "cell-861c3769a8ec2311",
     "locked": false,
     "schema_version": 1,
     "solution": true
    }
   },
   "outputs": [
    {
     "data": {
      "image/png": "[encoded data removed]",
      "text/plain": [
       "<Figure size 432x288 with 1 Axes>"
      ]
     },
     "metadata": {
      "needs_background": "light"
     },
     "output_type": "display_data"
    }
   ],
   "source": [
    "### GRADED \n",
    "\n",
    "# Data\n",
    "bars = ('Europe', 'Asia', 'North America', 'Australia', 'Africa')\n",
    "y_pos = np.arange(len(bars))\n",
    "stu = [16, 21, 50, 1, 1]\n",
    "\n",
    "### YOUR SOLUTION HERE\n",
    "\n",
    "### BEGIN SOLUTION\n",
    "plt.bar(y_pos, stu, color=(0.2, 0.4, 0.6, 0.6))\n",
    "plt.title(\"Student background\")\n",
    "plt.xticks(y_pos, bars)\n",
    "plt.savefig(\"results/plot4.png\")\n",
    "### END SOLUTION"
   ]
  },
  {
   "cell_type": "markdown",
   "metadata": {
    "nbgrader": {
     "grade": false,
     "grade_id": "cell-a08da58ca2ff351a",
     "locked": true,
     "schema_version": 1,
     "solution": false
    }
   },
   "source": [
    "## Histograms\n",
    "\n",
    "A histogram is a display of statistical information that uses rectangles to show the frequency of data items in successive numerical intervals of equal size. \n",
    "\n",
    "Arguably, histograms and bar *plots* look somewhat familiar. However, it is important that these two are not confused. \n",
    "\n",
    "Histograms are used to show distributions of variables while bar *plots* are used to compare variables. Histograms plot quantitative data with ranges of the data grouped into bins while bar charts plot categorical data.\n",
    "\n",
    "*Matplotlib* provides the *[`pyplot.hist()`](https://matplotlib.org/stable/api/_as_gen/matplotlib.pyplot.hist.html)* function for creating histogram *plots*. "
   ]
  },
  {
   "cell_type": "markdown",
   "metadata": {
    "nbgrader": {
     "grade": false,
     "grade_id": "cell-a4140eae467689cd",
     "locked": true,
     "schema_version": 1,
     "solution": false
    }
   },
   "source": [
    "### Question 5\n",
    "*4 points*\n",
    "\n",
    "In the code cell below, we have set the values of *`N_points`* and *`n_bins`* for you, as well as a random seed generator for reproducibility of the results.\n",
    "\n",
    "\n",
    "Generate the data *`x`* for a normal distribution by passing the argument *`N_points`* to the *NumPy function `random.randn()`*.\n",
    "\n",
    "Generate a histogram for the data *`x`*. Inside your plotting *function*, set the parameter *`bins = n_bins`*.\n",
    "\n",
    "Save your *plot* as a *`png`* file with the name *`plot5.png`* in the folder *`results`*.\n",
    "\n",
    "**HINT:** Your result should look like the image below:\n",
    "\n",
    "<img src=\"5.png\" alt=\"Drawing\" style=\"width: 400px;\"/>\n"
   ]
  },
  {
   "cell_type": "code",
   "execution_count": 8,
   "metadata": {
    "nbgrader": {
     "grade": false,
     "grade_id": "cell-b57f43a2528ffe05",
     "locked": false,
     "schema_version": 1,
     "solution": true
    }
   },
   "outputs": [
    {
     "data": {
      "image/png": "[encoded data removed]",
      "text/plain": [
       "<Figure size 432x288 with 1 Axes>"
      ]
     },
     "metadata": {
      "needs_background": "light"
     },
     "output_type": "display_data"
    }
   ],
   "source": [
    "### GRADED \n",
    "\n",
    "\n",
    "N_points = 100000\n",
    "n_bins = 20\n",
    "np.random.seed(123)\n",
    "\n",
    "### YOUR SOLUTION HERE\n",
    "x = None\n",
    "\n",
    "### BEGIN SOLUTION\n",
    "x = np.random.randn(N_points)\n",
    "plt.hist(x, bins=n_bins)\n",
    "plt.savefig(\"results/plot5.png\")\n",
    "### END SOLUTION"
   ]
  },
  {
   "cell_type": "markdown",
   "metadata": {
    "nbgrader": {
     "grade": false,
     "grade_id": "cell-f4b511278a1e29fd",
     "locked": true,
     "schema_version": 1,
     "solution": false
    }
   },
   "source": [
    "## Scatter *Plots*\n",
    "\n",
    "A scatter *plot* is a type of *plot* that shows the data as a collection of points. \n",
    "\n",
    "*Matplotlib* provides the *[`pyplot.scatter()`](https://matplotlib.org/stable/api/_as_gen/matplotlib.axes.Axes.scatter.html?highlight=scatte#matplotlib.axes.Axes.scatter)* function for creating scatter *plots*. "
   ]
  },
  {
   "cell_type": "markdown",
   "metadata": {
    "nbgrader": {
     "grade": false,
     "grade_id": "cell-34e4f3428f9924d7",
     "locked": true,
     "schema_version": 1,
     "solution": false
    }
   },
   "source": [
    "### Question 6\n",
    "*2 points*\n",
    "\n",
    "In the code cell below, we have generated normally distributed data *`x`* and *`y`*.\n",
    "\n",
    "Generate a scatter *plot* for the data *`x`* and *`y`*. \n",
    "\n",
    "Inside the *title* of your *plot* equal to *`Normally distributed data`*.\n",
    "\n",
    "Save your plot as a *`png`* file with the name *`plot6.png`* in the folder *`results`*.\n",
    "\n",
    "**HINT:** Your result should look like the image below:\n",
    "\n",
    "<img src=\"6.png\" alt=\"Drawing\" style=\"width: 400px;\"/>"
   ]
  },
  {
   "cell_type": "code",
   "execution_count": 9,
   "metadata": {
    "nbgrader": {
     "grade": false,
     "grade_id": "cell-4a93d39986383246",
     "locked": false,
     "schema_version": 1,
     "solution": true
    }
   },
   "outputs": [
    {
     "data": {
      "image/png": "[encoded data removed]",
      "text/plain": [
       "<Figure size 432x288 with 1 Axes>"
      ]
     },
     "metadata": {
      "needs_background": "light"
     },
     "output_type": "display_data"
    }
   ],
   "source": [
    "### GRADED \n",
    "\n",
    "np.random.seed(0)\n",
    "x = np.random.rand(500)\n",
    "y = np.random.rand(500)\n",
    "\n",
    "### YOUR SOLUTION HERE\n",
    "\n",
    "\n",
    "### BEGIN SOLUTION\n",
    "plt.scatter(x, y)\n",
    "plt.title('Normally distributed data')\n",
    "plt.savefig(\"results/plot6.png\")\n",
    "### END SOLUTION"
   ]
  },
  {
   "cell_type": "code",
   "execution_count": null,
   "metadata": {},
   "outputs": [],
   "source": []
  },
  {
   "cell_type": "code",
   "execution_count": null,
   "metadata": {},
   "outputs": [],
   "source": []
  },
  {
   "cell_type": "code",
   "execution_count": null,
   "metadata": {},
   "outputs": [],
   "source": []
  }
 ],
 "metadata": {
  "celltoolbar": "Create Assignment",
  "kernelspec": {
   "display_name": "Python 3",
   "language": "python",
   "name": "python3"
  },
  "language_info": {
   "codemirror_mode": {
    "name": "ipython",
    "version": 3
   },
   "file_extension": ".py",
   "mimetype": "text/x-python",
   "name": "python",
   "nbconvert_exporter": "python",
   "pygments_lexer": "ipython3",
   "version": "3.9.1"
  }
 },
 "nbformat": 4,
 "nbformat_minor": 4
}
