{
 "cells": [
  {
   "cell_type": "markdown",
   "metadata": {},
   "source": [
    "# Try-It Activity 2.1: Histograms in Python\n",
    "\n",
    "\n",
    "**IMPORTANT INSTRUCTIONS:** This activity is designed for you to experiment with `Python` code that generates normally distributed data, histograms, and continuous distribution *functions*. Feel free to change any numerical value throughout the code in the activity to visualize different outcomes and results."
   ]
  },
  {
   "cell_type": "markdown",
   "metadata": {},
   "source": [
    "## What is a Histogram?\n",
    "\n",
    "A histogram is a display of statistical information that uses rectangles to show the frequency of data items in successive numerical intervals of equal size. \n",
    "\n",
    "\n",
    "The `Python` plotting library `Matplotlib` provides the *`plt.hist()`* *function* for creating histograms *plots*. \n",
    "\n",
    "Run the code cell below to import the necessary libraries for this activity."
   ]
  },
  {
   "cell_type": "code",
   "execution_count": 97,
   "metadata": {},
   "outputs": [],
   "source": [
    "import numpy as np\n",
    "import matplotlib.pyplot as plt"
   ]
  },
  {
   "cell_type": "markdown",
   "metadata": {},
   "source": [
    "Next, you need to define some data so you can generate your first histogram.\n",
    "\n",
    "For this example, let's suppose you have available to you the weight measurements of 250 people (in lbs). Suppose further that the mean is around 170 and the data has a standard deviation equal to 10.\n",
    "\n",
    "In the code cell below, fill in the ellipsis to generate the data described above."
   ]
  },
  {
   "cell_type": "code",
   "execution_count": 98,
   "metadata": {},
   "outputs": [],
   "source": [
    "#x = np.random.normal(..., ..., ...)\n",
    "\n",
    "x = np.random.normal(170, 10, 250)"
   ]
  },
  {
   "cell_type": "markdown",
   "metadata": {},
   "source": [
    "Note that above, you have used the *function `normal()`* from the `NumPy random()` *module* to generate your sample."
   ]
  },
  {
   "cell_type": "markdown",
   "metadata": {},
   "source": [
    "Next, let's try to produce your first *plot*.\n",
    "\n",
    "As mentioned above, to accomplish this, you can use the *function `plt.hist()`* mentioned above.\n",
    "\n",
    "In the simplest case, this *function* only takes, as parameter, the data you want to *plot*.\n",
    "\n",
    "In the code cell below, *plot* the data generated above."
   ]
  },
  {
   "cell_type": "code",
   "execution_count": 99,
   "metadata": {},
   "outputs": [
    {
     "data": {
      "image/png": "[encoded data removed]",
      "text/plain": [
       "<Figure size 432x288 with 1 Axes>"
      ]
     },
     "metadata": {
      "needs_background": "light"
     },
     "output_type": "display_data"
    }
   ],
   "source": [
    "#plt.hist(...)\n",
    "\n",
    "\n",
    "plt.hist(x)\n",
    "plt.show()"
   ]
  },
  {
   "cell_type": "markdown",
   "metadata": {},
   "source": [
    "As you already know, a histogram can be interpreted as a *plot* that displays the frequency of each outcome. \n",
    "\n",
    "Mathematically, a histogram is a mapping of *bins* (intervals) to frequencies. Each *bin* is plotted as a bar whose height corresponds to how many data points are in that *bin*.\n",
    "\n",
    "It follows that changing the number of *bins* changes the appearance of your *plot*. This parameter can be regulated by setting the argument *`bins = n`*, where *`n`* is the desired of number of *bins*, inside the *function `hist()`*.\n",
    "\n",
    "In the code cell below, *plot* the data *`x`* by setting the number of *bins* equal to 20."
   ]
  },
  {
   "cell_type": "code",
   "execution_count": 100,
   "metadata": {},
   "outputs": [
    {
     "data": {
      "image/png": "[encoded data removed]",
      "text/plain": [
       "<Figure size 432x288 with 1 Axes>"
      ]
     },
     "metadata": {
      "needs_background": "light"
     },
     "output_type": "display_data"
    }
   ],
   "source": [
    "#plt.hist(x, bins = ...)\n",
    "\n",
    "\n",
    "plt.hist(x, bins = 20)\n",
    "plt.show()"
   ]
  },
  {
   "cell_type": "markdown",
   "metadata": {},
   "source": [
    "Feel free the change the number of *bins* above to any value you like to see how the distribution changes.\n",
    "\n",
    "Visualizing the frequency of the available values using a histogram can be very useful, However, sometimes you might be interested in visualizing the probability of each outcome.\n",
    "\n",
    "This can be accomplished by setting the argument *`density`*,  to true inside the *function `hist()`*.\n",
    "\n",
    "In the code cell below, try to visualize the frequency of each outcome as a probability value.\n"
   ]
  },
  {
   "cell_type": "code",
   "execution_count": 101,
   "metadata": {},
   "outputs": [
    {
     "data": {
      "image/png": "[encoded data removed]",
      "text/plain": [
       "<Figure size 432x288 with 1 Axes>"
      ]
     },
     "metadata": {
      "needs_background": "light"
     },
     "output_type": "display_data"
    }
   ],
   "source": [
    "#plt.hist(x, bins = ...)\n",
    "\n",
    "\n",
    "plt.hist(x, bins = 20, density = True)\n",
    "plt.show()"
   ]
  },
  {
   "cell_type": "markdown",
   "metadata": {},
   "source": [
    "## Continuous Probability Distribution and Probability Density *Function*\n",
    "\n",
    "A continuous distribution describes the probabilities of the possible values of a continuous random variable. A continuous random variable is a random variable with an infinite set of possible values. \n",
    "\n",
    "A probability density describes the relationship between the continuous random variable observations and their probability.\n",
    "\n",
    "The overall shape of the probability density is referred to as a probability distribution, and the calculation of probabilities for specific outcomes of a random variable is performed by a probability density *function*, or PDF for short.\n",
    "\n",
    "\n",
    "### Measuring the Height of the Rocky Mountains\n",
    "\n",
    "Let's try to understand how to compute the probability density *function* of a continuous distribution with an example.\n",
    "\n",
    "Suppose you are measuring the height of the Rocky Mountains. You find that the shortest mountain is 1,734m tall and that the tallest mountain is 4,356m tall. Since the mountain range is extensive, you want to find the probability that any random mountain will be shorter than 3,000m.\n",
    "\n",
    "Interestingly enough, you also find that the distribution of the mountain heights follows a normal distribution with a mean of 3,062 and a standard deviation of 500, as shown below:"
   ]
  },
  {
   "cell_type": "markdown",
   "metadata": {},
   "source": [
    "In the code cell below, fill in the ellipsis to generate a `NumPy` *array* with values between 1,734 and 4,356 and step 1."
   ]
  },
  {
   "cell_type": "code",
   "execution_count": 1,
   "metadata": {},
   "outputs": [
    {
     "ename": "NameError",
     "evalue": "name 'np' is not defined",
     "output_type": "error",
     "traceback": [
      "\u001b[0;31m---------------------------------------------------------------------------\u001b[0m",
      "\u001b[0;31mNameError\u001b[0m                                 Traceback (most recent call last)",
      "\u001b[0;32m<ipython-input-1-8e1f92d5d629>\u001b[0m in \u001b[0;36m<module>\u001b[0;34m\u001b[0m\n\u001b[1;32m      2\u001b[0m \u001b[0;31m#x_axis = np.arange(..., ..., ...)\u001b[0m\u001b[0;34m\u001b[0m\u001b[0;34m\u001b[0m\u001b[0;34m\u001b[0m\u001b[0m\n\u001b[1;32m      3\u001b[0m \u001b[0;34m\u001b[0m\u001b[0m\n\u001b[0;32m----> 4\u001b[0;31m \u001b[0mx_axis\u001b[0m \u001b[0;34m=\u001b[0m \u001b[0mnp\u001b[0m\u001b[0;34m.\u001b[0m\u001b[0marange\u001b[0m\u001b[0;34m(\u001b[0m\u001b[0;36m1734\u001b[0m\u001b[0;34m,\u001b[0m \u001b[0;36m4356\u001b[0m\u001b[0;34m,\u001b[0m \u001b[0;36m1\u001b[0m\u001b[0;34m)\u001b[0m\u001b[0;34m\u001b[0m\u001b[0;34m\u001b[0m\u001b[0m\n\u001b[0m",
      "\u001b[0;31mNameError\u001b[0m: name 'np' is not defined"
     ]
    }
   ],
   "source": [
    "# Plot between 1734 and 4356m with step 1.\n",
    "#x_axis = np.arange(..., ..., ...)\n",
    "\n",
    "x_axis = np.arange(1734, 4356, 1)\n"
   ]
  },
  {
   "cell_type": "markdown",
   "metadata": {},
   "source": [
    "In the code cell below, you have been provided with the code to *plot* the values above.\n",
    "\n",
    "The *function `norm.pdf()`* from `SciPy` help us to visualize the PDF of your data."
   ]
  },
  {
   "cell_type": "code",
   "execution_count": 103,
   "metadata": {},
   "outputs": [
    {
     "data": {
      "image/png": "[encoded data removed]",
      "text/plain": [
       "<Figure size 432x288 with 1 Axes>"
      ]
     },
     "metadata": {
      "needs_background": "light"
     },
     "output_type": "display_data"
    }
   ],
   "source": [
    "from scipy.stats import norm\n",
    "\n",
    "#plotting our distribution\n",
    "plt.plot(x_axis, norm.pdf(x_axis,3026,500))\n",
    "plt.xlabel(\"Height\")\n",
    "plt.ylabel(\"Probability\")\n",
    "plt.show()"
   ]
  },
  {
   "cell_type": "markdown",
   "metadata": {},
   "source": [
    "Note that above, it is assumed the your measurements have a mean equal to 3,026 and a standard deviation equal to 500.\n",
    "\n",
    "In the code below, fill in the ellipsis so that the variable *`H`* is a normal random variable with mean and standard deviation equal to the values above."
   ]
  },
  {
   "cell_type": "code",
   "execution_count": 104,
   "metadata": {},
   "outputs": [],
   "source": [
    "#H = norm(...,...)\n",
    "\n",
    "H = norm(3026,500)"
   ]
  },
  {
   "cell_type": "markdown",
   "metadata": {},
   "source": [
    "#### Cumulative Distribution *Function*\n",
    "\n",
    "The cumulative distribution *function* (CDF) of a random variable  is the probability that the random variable\n",
    "will take a value less than or equal to $x$.\n",
    "\n",
    "In `Python`, if you want to compute the probability that a mountain is shorter than 3,000m, you can use the *function* `cdf()` on your random variable.\n",
    "\n",
    "Observe the code in the cell below."
   ]
  },
  {
   "cell_type": "code",
   "execution_count": 105,
   "metadata": {},
   "outputs": [
    {
     "name": "stdout",
     "output_type": "stream",
     "text": [
      "0.47926434670771967\n"
     ]
    }
   ],
   "source": [
    "#computing the the probability density for P(<3000)\n",
    "print(H.cdf(3000))"
   ]
  },
  {
   "cell_type": "markdown",
   "metadata": {},
   "source": [
    "It appears that the probability that a mountain is less than 3,000m is around 0.47. In other words, 47% of mountains would be shorter that 3,000m tall.\n",
    "\n",
    "Change the code cell above to compute the probability that a mountain is less than 3,298m.\n",
    "\n",
    "To challenge yourself further, consider another data calculation. How would you change the code above to compute the probability that a mountain is taller than 3,000m?"
   ]
  },
  {
   "cell_type": "markdown",
   "metadata": {},
   "source": [
    "### Distribution of Women's Weight\n",
    "\n",
    "In the final example, suppose that you have the following data available that represents the weight of women."
   ]
  },
  {
   "cell_type": "code",
   "execution_count": 88,
   "metadata": {},
   "outputs": [],
   "source": [
    "w = np.random.normal(150, 2, 10000)"
   ]
  },
  {
   "cell_type": "markdown",
   "metadata": {},
   "source": [
    "In the code cell below, fill in the ellipsis to *plot* the data *`w`* as a histogram."
   ]
  },
  {
   "cell_type": "code",
   "execution_count": 106,
   "metadata": {},
   "outputs": [
    {
     "data": {
      "image/png": "[encoded data removed]",
      "text/plain": [
       "<Figure size 432x288 with 1 Axes>"
      ]
     },
     "metadata": {
      "needs_background": "light"
     },
     "output_type": "display_data"
    }
   ],
   "source": [
    "#plt.hist(...)\n",
    "\n",
    "plt.hist(w, bins = 30)\n",
    "plt.show()"
   ]
  },
  {
   "cell_type": "markdown",
   "metadata": {},
   "source": [
    "The shape of the distribution above is really similar to the shape of a very common continuous distribution, the normal distribution.\n",
    "\n",
    "In fact, you can fit a normal distribution on top of the one you have just obtained.\n",
    "\n",
    "In the code cell below, fill in the ellipsis to generate a normal random variable *`W`* with a mean of 150 and a standard deviation of 2."
   ]
  },
  {
   "cell_type": "code",
   "execution_count": 107,
   "metadata": {},
   "outputs": [],
   "source": [
    "#generating the normal PDF\n",
    "#W = norm(..., ...)\n",
    "\n",
    "W = norm(150, 2)"
   ]
  },
  {
   "cell_type": "markdown",
   "metadata": {},
   "source": [
    "Next, choose the range on which you’ll *plot* the PDF and the probabilities for that range."
   ]
  },
  {
   "cell_type": "code",
   "execution_count": 108,
   "metadata": {},
   "outputs": [],
   "source": [
    "#lower bound\n",
    "min_weight = np.min(w)\n",
    "#upper bound\n",
    "max_weight = np.max(w)\n",
    "#generate a sequence of equally spaces values\n",
    "values = list(range(int(min_weight), int(max_weight)))\n",
    "#generate probabilities for each value (these will follow the shape of a normal distribution!)\n",
    "probabilities = [W.pdf(v) for v in values]"
   ]
  },
  {
   "cell_type": "markdown",
   "metadata": {},
   "source": [
    "Finally, you *plot* the sample distribution and the PDF you have generated."
   ]
  },
  {
   "cell_type": "code",
   "execution_count": 109,
   "metadata": {},
   "outputs": [
    {
     "data": {
      "text/plain": [
       "[<matplotlib.lines.Line2D at 0x1405eee10>]"
      ]
     },
     "execution_count": 109,
     "metadata": {},
     "output_type": "execute_result"
    },
    {
     "data": {
      "image/png": "[encoded data removed]",
      "text/plain": [
       "<Figure size 432x288 with 1 Axes>"
      ]
     },
     "metadata": {
      "needs_background": "light"
     },
     "output_type": "display_data"
    }
   ],
   "source": [
    "#plotting weight distribution\n",
    "plt.hist(w, bins=30, density = True) \n",
    "#plotting normal distribution (orange line)\n",
    "plt.plot(values, probabilities)"
   ]
  }
 ],
 "metadata": {
  "kernelspec": {
   "display_name": "Python 3",
   "language": "python",
   "name": "python3"
  },
  "language_info": {
   "codemirror_mode": {
    "name": "ipython",
    "version": 3
   },
   "file_extension": ".py",
   "mimetype": "text/x-python",
   "name": "python",
   "nbconvert_exporter": "python",
   "pygments_lexer": "ipython3",
   "version": "3.8.8"
  }
 },
 "nbformat": 4,
 "nbformat_minor": 4
}
