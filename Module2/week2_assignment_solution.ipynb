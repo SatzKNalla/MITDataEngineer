{
 "cells": [
  {
   "cell_type": "markdown",
   "metadata": {
    "nbgrader": {
     "grade": false,
     "grade_id": "cell-b90c92aa7552cbda",
     "locked": true,
     "schema_version": 1,
     "solution": false
    }
   },
   "source": [
    "# Codio Coding Assignment 2.1: NumPy Arrays and Functions, Distributions, and Plotting Data Using Matplotlib\n",
    "\n",
    "### Learning Outcomes Addressed\n",
    "\n",
    "- 1. Implement NumPy arrays, functions, and multidimensional arrays.\n",
    "- 8. Implement discrete and continuous distributions.\n",
    "- 9. Visualize data using Matplotlib graphs.\n",
    "- 10. Interpret data using Matplotlib graphs.\n",
    "\n",
    "\n",
    "\n",
    "\n",
    "## Index:\n",
    "\n",
    "- [Question 1](#Question-1)\n",
    "- [Question 2](#Question-2)\n",
    "- [Question 3](#Question-3)\n",
    "- [Question 4](#Question-4)\n",
    "- [Question 5](#Question-5)\n",
    "- [Question 6](#Question-6)\n",
    "- [Question 7](#Question-7)\n",
    "- [Question 8](#Question-8)\n",
    "- [Question 9](#Question-9)\n",
    "- [Question 10](#Question-10)\n",
    "- [Question 11](#Question-11)\n",
    "- [Question 12](#Question-12)\n",
    "- [Question 13](#Question-13)\n",
    "- [Question 14](#Question-14)\n",
    "- [Question 15](#Question-15)\n",
    "- [Question 16](#Question-16)\n",
    "- [Question 17](#Question-17)\n",
    "- [Question 18](#Question-18)\n",
    "- [Question 19](#Question-19)\n",
    "\n"
   ]
  },
  {
   "cell_type": "code",
   "execution_count": 1,
   "metadata": {
    "nbgrader": {
     "grade": false,
     "grade_id": "cell-22a65818612e5604",
     "locked": true,
     "schema_version": 1,
     "solution": false
    }
   },
   "outputs": [],
   "source": [
    "import numpy as np"
   ]
  },
  {
   "cell_type": "markdown",
   "metadata": {
    "nbgrader": {
     "grade": false,
     "grade_id": "cell-5bf49834b36cdc0d",
     "locked": true,
     "schema_version": 1,
     "solution": false
    }
   },
   "source": [
    "\n",
    "### Question 1\n",
    "\n",
    "*5 points*\n",
    "\n",
    "Create a *NumPy array, `ans1`*, with elements *`2000, 4000, 6000, 7000,`* and *`1000.`*"
   ]
  },
  {
   "cell_type": "code",
   "execution_count": 2,
   "metadata": {
    "nbgrader": {
     "grade": false,
     "grade_id": "cell-8aca6bb2f75a47e5",
     "locked": false,
     "schema_version": 1,
     "solution": true
    }
   },
   "outputs": [],
   "source": [
    "### GRADED\n",
    "\n",
    "### YOUR SOLUTION HERE\n",
    "ans1 = None\n",
    "\n",
    "### BEGIN SOLUTION\n",
    "ans1 = np.array([2000,4000,6000,7000,1000])\n",
    "### END SOLUTION"
   ]
  },
  {
   "cell_type": "markdown",
   "metadata": {
    "nbgrader": {
     "grade": false,
     "grade_id": "cell-6f05aa14e9cd7db8",
     "locked": true,
     "schema_version": 1,
     "solution": false
    }
   },
   "source": [
    "### Question 2\n",
    "\n",
    "*3 points*\n",
    "\n",
    "Divide *`ans1`* by 1,000 to convert the distance to kilometers. Name this *array `ans2`*."
   ]
  },
  {
   "cell_type": "code",
   "execution_count": 3,
   "metadata": {
    "nbgrader": {
     "grade": false,
     "grade_id": "cell-6b291ab5954cd3a6",
     "locked": false,
     "schema_version": 1,
     "solution": true
    }
   },
   "outputs": [],
   "source": [
    "### GRADED\n",
    "### YOUR SOLUTION HERE\n",
    "ans2 = None\n",
    "\n",
    "### BEGIN SOLUTION\n",
    "ans2 = ans1/1000\n",
    "### END SOLUTION"
   ]
  },
  {
   "cell_type": "markdown",
   "metadata": {
    "nbgrader": {
     "grade": false,
     "grade_id": "cell-ff926c52101cfe00",
     "locked": true,
     "schema_version": 1,
     "solution": false
    }
   },
   "source": [
    "### Question 3\n",
    "\n",
    "*4 points*\n",
    "\n",
    "Transform the *list `time=[0.5, 1, 1.3, 1.5, 2],`* defined below into a *NumPy array*. Name this *array `ans3a`*. \n",
    "\n",
    "Next, divide *`ans2`* by *`ans3a`*. Assign this *array* to  *`ans3b`*."
   ]
  },
  {
   "cell_type": "code",
   "execution_count": 4,
   "metadata": {
    "nbgrader": {
     "grade": false,
     "grade_id": "cell-01cc3b2e9c801e5e",
     "locked": false,
     "schema_version": 1,
     "solution": true
    }
   },
   "outputs": [],
   "source": [
    "### GRADED\n",
    "time=[0.5, 1,1.3,1.5,2]\n",
    "\n",
    "### YOUR SOLUTION HERE\n",
    "ans3a = None\n",
    "ans3b = None\n",
    "\n",
    "\n",
    "### BEGIN SOLUTION\n",
    "ans3a = np.array(time)\n",
    "ans3b = ans2/ans3a\n",
    "### END SOLUTION"
   ]
  },
  {
   "cell_type": "markdown",
   "metadata": {
    "nbgrader": {
     "grade": false,
     "grade_id": "cell-0d4c5783718bb68c",
     "locked": true,
     "schema_version": 1,
     "solution": false
    }
   },
   "source": [
    "### Question 4\n",
    "\n",
    "*3 points*\n",
    "\n",
    "You just received some new information and want to update your data.\n",
    "\n",
    "Make a copy of *`ans3b`* and store it in a new *array* called *`ans4`*. Then, change the second to last element of this new *array* to *`1.8`*."
   ]
  },
  {
   "cell_type": "code",
   "execution_count": 5,
   "metadata": {
    "nbgrader": {
     "grade": false,
     "grade_id": "cell-6705db8c4ddd268a",
     "locked": false,
     "schema_version": 1,
     "solution": true
    }
   },
   "outputs": [],
   "source": [
    "### GRADED\n",
    "### YOUR SOLUTION HERE\n",
    "ans4 = None\n",
    "\n",
    "### BEGIN SOLUTION\n",
    "ans4 = ans3b\n",
    "ans4[-2] = 1.8\n",
    "### END SOLUTION"
   ]
  },
  {
   "cell_type": "markdown",
   "metadata": {
    "nbgrader": {
     "grade": false,
     "grade_id": "cell-7128da58e3077ff0",
     "locked": true,
     "schema_version": 1,
     "solution": false
    }
   },
   "source": [
    "### Question 5\n",
    "\n",
    "*4 points*\n",
    "\n",
    "The *list `body_measurement,`* defined below, contains the body measurements of four students. Each of its elements is another *list* containing the height and weight in centimeters and kilograms of each of the four students.\n",
    "\n",
    "\n",
    "Convert *`body_measurement`* defined below into a 2-D *NumPy array, `np_body_measurement`*.\n"
   ]
  },
  {
   "cell_type": "code",
   "execution_count": 6,
   "metadata": {
    "nbgrader": {
     "grade": false,
     "grade_id": "cell-e0d1b7387743767c",
     "locked": false,
     "schema_version": 1,
     "solution": true
    }
   },
   "outputs": [],
   "source": [
    "### GRADED\n",
    "body_measurement = [[168, 55.4],\n",
    "                    [155, 47.7],\n",
    "                    [175, 69.5],\n",
    "                    [189, 90.2]]\n",
    "\n",
    "### YOUR SOLUTION HERE\n",
    "np_body_measurement= None\n",
    "\n",
    "### BEGIN SOLUTION\n",
    "np_body_measurement = np.array(body_measurement)\n",
    "### END SOLUTION"
   ]
  },
  {
   "cell_type": "markdown",
   "metadata": {
    "nbgrader": {
     "grade": false,
     "grade_id": "cell-eb1a40d27e0b317e",
     "locked": true,
     "schema_version": 1,
     "solution": false
    }
   },
   "source": [
    "### Question 6\n",
    "\n",
    "*3 points*\n",
    "\n",
    "Use the correct *function* to get the shape of *`np_body_measurement`*. Assign the result to the variable *`ans6`*."
   ]
  },
  {
   "cell_type": "code",
   "execution_count": 7,
   "metadata": {
    "nbgrader": {
     "grade": false,
     "grade_id": "cell-b1711da93f8dd089",
     "locked": false,
     "schema_version": 1,
     "solution": true
    }
   },
   "outputs": [],
   "source": [
    "### GRADED\n",
    "### YOUR SOLUTION HERE\n",
    "ans6= None\n",
    "\n",
    "### BEGIN SOLUTION\n",
    "ans6 = np_body_measurement.shape\n",
    "### END SOLUTION"
   ]
  },
  {
   "cell_type": "markdown",
   "metadata": {
    "nbgrader": {
     "grade": false,
     "grade_id": "cell-cb0503a45f1c4ea7",
     "locked": true,
     "schema_version": 1,
     "solution": false
    }
   },
   "source": [
    "### Question 7\n",
    "\n",
    "*4 points*\n",
    "\n",
    "Select the body measurements of the second student (the one with index one) in *`np_body_measurement`* and assign them to *`ans7`*."
   ]
  },
  {
   "cell_type": "code",
   "execution_count": 8,
   "metadata": {
    "nbgrader": {
     "grade": false,
     "grade_id": "cell-6239473a144f827e",
     "locked": false,
     "schema_version": 1,
     "solution": true
    }
   },
   "outputs": [],
   "source": [
    "### GRADED\n",
    "### YOUR SOLUTION HERE\n",
    "ans7 = None\n",
    "\n",
    "### BEGIN SOLUTION\n",
    "ans7 = np_body_measurement[1,:]\n",
    "### END SOLUTION"
   ]
  },
  {
   "cell_type": "markdown",
   "metadata": {
    "nbgrader": {
     "grade": false,
     "grade_id": "cell-d478e93c7c5b1d5d",
     "locked": true,
     "schema_version": 1,
     "solution": false
    }
   },
   "source": [
    "### Question 8\n",
    "\n",
    "*3 points*\n",
    "\n",
    "Select the weight of the third student (the one with index two) in *`np_body_measurement`* and assign it to *`ans8`*."
   ]
  },
  {
   "cell_type": "code",
   "execution_count": 9,
   "metadata": {
    "nbgrader": {
     "grade": false,
     "grade_id": "cell-8d00281a191d047e",
     "locked": false,
     "schema_version": 1,
     "solution": true
    }
   },
   "outputs": [],
   "source": [
    "### GRADED\n",
    "### YOUR SOLUTION HERE\n",
    "ans8= None\n",
    "\n",
    "### BEGIN SOLUTION\n",
    "ans8 = np_body_measurement[2,1]\n",
    "### END SOLUTION"
   ]
  },
  {
   "cell_type": "markdown",
   "metadata": {
    "nbgrader": {
     "grade": false,
     "grade_id": "cell-b7aa847b64117cb2",
     "locked": true,
     "schema_version": 1,
     "solution": false
    }
   },
   "source": [
    "### Question 9\n",
    "\n",
    "*5 points*\n",
    "\n",
    "Define `array_9a` with two dimension, shape *`(5,2),`* and elements *`[0,0],[1,11],[2,22],[3,33],[4,44]`*, and an *array, `array_9b`* with elements *`[-1,-1]`*.\n",
    "\n",
    "Subtract *`array_9b`* from *`array_9a`* and assign the result to *`ans9a`*."
   ]
  },
  {
   "cell_type": "code",
   "execution_count": 10,
   "metadata": {
    "nbgrader": {
     "grade": false,
     "grade_id": "cell-62d711c8871d28ed",
     "locked": false,
     "schema_version": 1,
     "solution": true
    }
   },
   "outputs": [],
   "source": [
    "### GRADED\n",
    "\n",
    "### YOUR SOLUTION HERE\n",
    "ans9a = None\n",
    "\n",
    "### BEGIN SOLUTION\n",
    "array_9a = np.array([[0,0],[1,11],[2,22],[3,33],[4,44]])\n",
    "array_9b = np.array([-1, -1])\n",
    "ans9a = array_9a-array_9b\n",
    "### END SOLUTION"
   ]
  },
  {
   "cell_type": "markdown",
   "metadata": {
    "nbgrader": {
     "grade": false,
     "grade_id": "cell-a55c9510b194fd3f",
     "locked": true,
     "schema_version": 1,
     "solution": false
    }
   },
   "source": [
    "### Question 10\n",
    "*8 points*\n",
    "\n",
    "Define `array_10a` with two dimension, shape *`(3,4)`*, and elements *`[0,0,0,0],[1,2,3,4],[5,6,7,8]`*, and an *array, `array_10b`* with elements *`[-2,-2,-1, 0]`*.\n",
    "\n",
    "Subtract *`array_10b`* from each row of *`array_10a`* and assign the result to *`ans10a`*."
   ]
  },
  {
   "cell_type": "code",
   "execution_count": 11,
   "metadata": {
    "nbgrader": {
     "grade": false,
     "grade_id": "cell-0b599e9608251d5b",
     "locked": false,
     "schema_version": 1,
     "solution": true
    }
   },
   "outputs": [],
   "source": [
    "### GRADED\n",
    "\n",
    "### YOUR SOLUTION HERE\n",
    "ans10a = None\n",
    "\n",
    "### BEGIN SOLUTION\n",
    "array_10a = np.array([[ 0,  0,  0, 0],[1,2,3,4],[5,6,7,8]])\n",
    "array_10b = np.array([-2, -2, -1, 0])\n",
    "ans10a = np.empty_like(array_10a)\n",
    "for i in range(3):\n",
    "    ans10a[i, :] = array_10a[i, :] - array_10b\n",
    "### END SOLUTION"
   ]
  },
  {
   "cell_type": "markdown",
   "metadata": {
    "nbgrader": {
     "grade": false,
     "grade_id": "cell-68e2b8411b5bf1e2",
     "locked": true,
     "schema_version": 1,
     "solution": false
    }
   },
   "source": [
    "### Question 11\n",
    "*4 points*\n",
    "\n",
    "Define an *array, `array_11`* with two dimension, shape *`(4,2),`* and elements *`[-1,-2,-3,-4],[0,1,-1, 2],[2,-2,2,-1]`*.\n",
    "\n",
    "Extract the *indexes* of the elements of *`array_11`* that are less than -1. Assign the result to *`ans11a`*."
   ]
  },
  {
   "cell_type": "code",
   "execution_count": 12,
   "metadata": {
    "nbgrader": {
     "grade": false,
     "grade_id": "cell-b3c273b69146f29a",
     "locked": false,
     "schema_version": 1,
     "solution": true
    }
   },
   "outputs": [],
   "source": [
    "### GRADED\n",
    "\n",
    "### YOUR SOLUTION HERE\n",
    "ans11a = None\n",
    "\n",
    "### BEGIN SOLUTION\n",
    "array_11 = np.array([[-1,-2,-3,-4],[0,1,-1, 2],[2,-2,2,-1]])\n",
    "ans11a = np.where(array_11 < -1)\n",
    "### END SOLUTION"
   ]
  },
  {
   "cell_type": "markdown",
   "metadata": {
    "nbgrader": {
     "grade": false,
     "grade_id": "cell-3240a1ba4e671475",
     "locked": true,
     "schema_version": 1,
     "solution": false
    }
   },
   "source": [
    "### Question 12\n",
    "*4 points*\n",
    "\n",
    "Define an *array, `ans12a`*, with elements *`16, -25, -36`*, and *`1`*. Compute the absolute value of *`ans12a`* and assign it to *`ans12b`*."
   ]
  },
  {
   "cell_type": "code",
   "execution_count": 14,
   "metadata": {
    "nbgrader": {
     "grade": false,
     "grade_id": "cell-309a796ce11755a6",
     "locked": false,
     "schema_version": 1,
     "solution": true
    }
   },
   "outputs": [],
   "source": [
    "### GRADED\n",
    "\n",
    "### YOUR SOLUTION HERE\n",
    "ans12a = None\n",
    "ans12b = None\n",
    "\n",
    "### BEGIN SOLUTION\n",
    "ans12a = np.array([16,-25,-36,1])\n",
    "ans12b = np.abs(ans12a)\n",
    "### END SOLUTION"
   ]
  },
  {
   "cell_type": "markdown",
   "metadata": {
    "nbgrader": {
     "grade": true,
     "grade_id": "cell-36b68486e090b50b",
     "locked": false,
     "points": 0,
     "schema_version": 1,
     "solution": true
    }
   },
   "source": [
    "### Question 13\n",
    "*6 points*\n",
    "\n",
    "In the code cell below, define a *variable, `ans13a`*, that contains the probability value of getting heads or tail  when tossing a coin.\n",
    "\n",
    "Next, generate the random variable values for this experiment by using the *`bernoulli()` function* imported above. Assign this result to *`ans13b`*.\n",
    "\n",
    "Finally, generate 150 samples for this experiment. Assign this result to *`ans3c`*."
   ]
  },
  {
   "cell_type": "code",
   "execution_count": 15,
   "metadata": {
    "nbgrader": {
     "grade": false,
     "grade_id": "cell-badebb0cf28f61e7",
     "locked": false,
     "schema_version": 1,
     "solution": true
    }
   },
   "outputs": [],
   "source": [
    "### GRADED\n",
    "\n",
    "#importing the function\n",
    "from scipy.stats import bernoulli \n",
    "#random seed for reproducibility\n",
    "np.random.seed(0)\n",
    "### YOUR SOLUTION HERE\n",
    "ans13a = None\n",
    "ans13b = None\n",
    "ans13c = None\n",
    "\n",
    "### BEGIN SOLUTION\n",
    "ans13a = 0.5\n",
    "ans13b=bernoulli(ans13a)\n",
    "ans13c = ans13b.rvs(150)\n",
    "### END SOLUTION"
   ]
  },
  {
   "cell_type": "markdown",
   "metadata": {
    "nbgrader": {
     "grade": false,
     "grade_id": "cell-d929973fe7d6983e",
     "locked": true,
     "schema_version": 1,
     "solution": false
    }
   },
   "source": [
    "### Question 14\n",
    "*6 points*\n",
    "\n",
    "Generate 500 uniform random variable values distributed between 10 and 30 by using the *`uniform.rvs()` function* imported above. \n",
    "\n",
    "Assign the result to *`ans14`*."
   ]
  },
  {
   "cell_type": "code",
   "execution_count": 16,
   "metadata": {
    "nbgrader": {
     "grade": false,
     "grade_id": "cell-e2a24db6107f3271",
     "locked": false,
     "schema_version": 1,
     "solution": true
    }
   },
   "outputs": [],
   "source": [
    "### GRADED\n",
    "#Importing the library\n",
    "from scipy.stats import uniform\n",
    "#Setting random seed\n",
    "np.random.seed(10)\n",
    "\n",
    "### YOUR SOLUTION HERE\n",
    "ans14 = None\n",
    "\n",
    "### BEGIN SOLUTION\n",
    "ans14 = uniform.rvs(size=500, loc = 10, scale=20)\n",
    "### END SOLUTION"
   ]
  },
  {
   "cell_type": "markdown",
   "metadata": {
    "nbgrader": {
     "grade": false,
     "grade_id": "cell-d3a654266bede889",
     "locked": true,
     "schema_version": 1,
     "solution": false
    }
   },
   "source": [
    "### Question 15\n",
    "*4 points*\n",
    "\n",
    "Generate 2,000 normally distributed samples of data with mean and standard deviation equal to 1. Assign your points to the variable *`ans15`*."
   ]
  },
  {
   "cell_type": "code",
   "execution_count": 17,
   "metadata": {
    "nbgrader": {
     "grade": false,
     "grade_id": "cell-acc5fc085dbf7d21",
     "locked": false,
     "schema_version": 1,
     "solution": true
    }
   },
   "outputs": [],
   "source": [
    "### GRADED\n",
    "\n",
    "#Setting random seed\n",
    "np.random.seed(10)\n",
    "\n",
    "### YOUR SOLUTION HERE\n",
    "ans15 = None\n",
    "\n",
    "### BEGIN SOLUTION\n",
    "from scipy.stats import norm\n",
    "ans15 = norm.rvs(size=2000,loc=1,scale=1)\n",
    "### END SOLUTION"
   ]
  },
  {
   "cell_type": "markdown",
   "metadata": {
    "nbgrader": {
     "grade": false,
     "grade_id": "cell-03a3e0287a3c465e",
     "locked": true,
     "schema_version": 1,
     "solution": false
    }
   },
   "source": [
    "### Question 16\n",
    "*8 points*\n",
    "\n",
    "    \n",
    "The  *array `t`* has been defined in the code cell below. \n",
    "\n",
    "On the same graph, plot *`t`*, $\\sqrt(t)$, and *`t^3`*.\n",
    "\n",
    "Save your *plot* as a *`png`* with the name *`plot1.png`* in the folder *`results`*.\n",
    "\n"
   ]
  },
  {
   "cell_type": "code",
   "execution_count": 18,
   "metadata": {
    "nbgrader": {
     "grade": false,
     "grade_id": "cell-9afc4fad07422eb5",
     "locked": true,
     "schema_version": 1,
     "solution": false
    }
   },
   "outputs": [],
   "source": [
    "import matplotlib.pyplot as plt"
   ]
  },
  {
   "cell_type": "code",
   "execution_count": 19,
   "metadata": {},
   "outputs": [],
   "source": [
    "### GRADED\n",
    "\n",
    "\n",
    "# Data\n",
    "t = np.arange(0., 10., 0.5)\n",
    "\n",
    "### YOUR SOLUTION HERE\n",
    "\n",
    "### BEGIN SOLUTION\n",
    "plt.plot(t, t, t, np.sqrt(t), t, t**3)\n",
    "plt.savefig(\"results/plot1.png\")\n",
    "plt.close()\n",
    "### END SOLUTION"
   ]
  },
  {
   "cell_type": "markdown",
   "metadata": {
    "nbgrader": {
     "grade": false,
     "grade_id": "cell-3b4f44b0987c8cd7",
     "locked": true,
     "schema_version": 1,
     "solution": false
    }
   },
   "source": [
    "### Question 17\n",
    "*10 points*\n",
    "\n",
    "\n",
    "\n",
    "On the same graph, *plot* the *functions* $\\sin(t)$, $\\cos(t)$, and $\\tan^{-1}(t)$, where *`t`* is an *array* from $-10\\pi$ to $10\\pi$ with spacing $0.02$.\n",
    "\n",
    "Label the x-axis and the y-axis `x-coordinate` and `y-coordinate`, respectively, and set the title of the graph to  `Some trigonometric functions`.\n",
    "\n",
    "\n",
    "Save your *plot* as a *`png`* with the name *`plot2.png`* in the folder *`results`*."
   ]
  },
  {
   "cell_type": "code",
   "execution_count": 20,
   "metadata": {
    "nbgrader": {
     "grade": false,
     "grade_id": "cell-26cc96ab6725feca",
     "locked": false,
     "schema_version": 1,
     "solution": true
    }
   },
   "outputs": [],
   "source": [
    "### GRADED\n",
    "\n",
    "### YOUR SOLUTION HERE\n",
    "\n",
    "### BEGIN SOLUTION\n",
    "t = np.arange(-10*np.pi, 10*np.pi, 0.02)\n",
    "x_sin = np.sin( t)\n",
    "x_cos = np.cos(t)\n",
    "x_tan = np.arctan(t)\n",
    "\n",
    "plt.plot(t, x_sin, t, x_cos, t, x_tan)\n",
    "\n",
    "plt.title('Some trigonometric functions')\n",
    "plt.xlabel('x-coordinate')\n",
    "plt.ylabel('y-coordinate')\n",
    "plt.savefig(\"results/plot2.png\")\n",
    "plt.close()\n",
    "### END SOLUTION"
   ]
  },
  {
   "cell_type": "markdown",
   "metadata": {
    "nbgrader": {
     "grade": false,
     "grade_id": "cell-8c8705547a1e400f",
     "locked": true,
     "schema_version": 1,
     "solution": false
    }
   },
   "source": [
    "### Question 18\n",
    "*10 points*\n",
    "\n",
    "Below, we set a random seed equal to `38472`.\n",
    "\n",
    "Generate two *arrays `x`* and *`y`*, each with 15 random entries.\n",
    "\n",
    "Create two *scatter plots*, one beside the other, displaying the data defined above. Set the marker for the first plot to be a \"filled circle\" and for the second plot to be a \"plus sign\".  Set the size of the marker `s` equal to $90$.\n",
    "\n",
    "\n",
    "Save your *plot* as a *`png`* with the name *`plot3.png`* in the folder *`results`*."
   ]
  },
  {
   "cell_type": "code",
   "execution_count": 21,
   "metadata": {
    "nbgrader": {
     "grade": false,
     "grade_id": "cell-2c75dc1182f20a58",
     "locked": false,
     "schema_version": 1,
     "solution": true
    }
   },
   "outputs": [],
   "source": [
    "### GRADED\n",
    "\n",
    "### YOUR SOLUTION HERE\n",
    "np.random.seed(38472)\n",
    "\n",
    "\n",
    "### BEGIN SOLUTION\n",
    "\n",
    "\n",
    "\n",
    "x = np.random.rand(15)\n",
    "y = np.random.rand(15)\n",
    "\n",
    "plt.subplot(121)\n",
    "plt.scatter(x, y, s=90,  marker=\"o\")\n",
    "\n",
    "plt.subplot(122)\n",
    "plt.scatter(x, y, s=90,   marker=\"+\")\n",
    "plt.savefig(\"results/plot3.png\")\n",
    "plt.close()\n",
    "### END SOLUTION"
   ]
  },
  {
   "cell_type": "markdown",
   "metadata": {
    "nbgrader": {
     "grade": false,
     "grade_id": "cell-e8ee43b3fe7c2fe2",
     "locked": true,
     "schema_version": 1,
     "solution": false
    }
   },
   "source": [
    "### Question 19\n",
    "*6 points*\n",
    "\n",
    "\n",
    "In the code cell below, all the necessary data to reproduce the following *plot* has been defined.\n",
    "\n",
    "\n",
    "Create a *histogram* using the data *`x`* and the number of bins given *`num_bins`*. Additionally, set the arguments *`density=1`, `facecolor=red`*, and *`alpha=0.6`*.\n",
    "\n",
    "Save your *plot* as a *`png`* with the name *`plot4.png`* in the folder *`results`*."
   ]
  },
  {
   "cell_type": "code",
   "execution_count": 23,
   "metadata": {
    "nbgrader": {
     "grade": false,
     "grade_id": "cell-ec8ba2cdf6a745ec",
     "locked": false,
     "schema_version": 1,
     "solution": true
    }
   },
   "outputs": [],
   "source": [
    "### GRADED\n",
    "\n",
    "# Data\n",
    "np.random.seed(123)\n",
    "mu = 10\n",
    "sigma = 2\n",
    "x = mu + sigma * np.random.randn(10000)\n",
    "num_bins = 20\n",
    "\n",
    "### YOUR SOLUTION HERE\n",
    "\n",
    "### BEGIN SOLUTION\n",
    "plt.hist(x, num_bins, density=1, facecolor='red', alpha=0.6)\n",
    "plt.savefig(\"results/plot4.png\")\n",
    "plt.close()\n",
    "### END SOLUTION"
   ]
  },
  {
   "cell_type": "code",
   "execution_count": null,
   "metadata": {},
   "outputs": [],
   "source": []
  }
 ],
 "metadata": {
  "celltoolbar": "Create Assignment",
  "kernelspec": {
   "display_name": "Python 3",
   "language": "python",
   "name": "python3"
  },
  "language_info": {
   "codemirror_mode": {
    "name": "ipython",
    "version": 3
   },
   "file_extension": ".py",
   "mimetype": "text/x-python",
   "name": "python",
   "nbconvert_exporter": "python",
   "pygments_lexer": "ipython3",
   "version": "3.9.1"
  }
 },
 "nbformat": 4,
 "nbformat_minor": 4
}
