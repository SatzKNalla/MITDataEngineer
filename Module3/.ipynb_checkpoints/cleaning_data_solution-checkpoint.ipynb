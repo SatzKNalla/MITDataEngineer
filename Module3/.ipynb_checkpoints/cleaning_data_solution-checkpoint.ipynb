{
 "cells": [
  {
   "cell_type": "markdown",
   "metadata": {},
   "source": [
    "# Codio Coding Activity 3.2: Cleaning Data\n",
    "\n",
    "### Learning Outcome Addressed\n",
    "\n",
    "- 3. Perform data cleaning in pandas.\n",
    "\n",
    "\n",
    "## Index:\n",
    "\n",
    "- [Question 1](#Question-1)\n",
    "- [Question 2](#Question-2)\n",
    "- [Question 3](#Question-3)\n",
    "- [Question 4](#Question-4)\n",
    "- [Question 5](#Question-5)\n",
    "- [Question 6](#Question-6)\n",
    "- [Question 7](#Question-7)"
   ]
  },
  {
   "cell_type": "markdown",
   "metadata": {},
   "source": [
    "### Importing Pandas\n",
    "\n",
    "Before you begin this activity, you need to import the *pandas library*.\n",
    "\n",
    "Run the code cell below."
   ]
  },
  {
   "cell_type": "code",
   "execution_count": null,
   "metadata": {},
   "outputs": [],
   "source": [
    "import pandas as pd"
   ]
  },
  {
   "cell_type": "markdown",
   "metadata": {},
   "source": [
    "Next, you need to lead the dataset that you will be using for this activity."
   ]
  },
  {
   "cell_type": "markdown",
   "metadata": {},
   "source": [
    "### Question 1\n",
    "*2 points*\n",
    "\n",
    "Read the dataset `melbourne_housing.csv` in the `data` folder and assign it to the *dataframe `ans1a`*."
   ]
  },
  {
   "cell_type": "code",
   "execution_count": null,
   "metadata": {},
   "outputs": [],
   "source": [
    "### GRADED\n",
    "\n",
    "\n",
    "### YOUR SOLUTION HERE\n",
    "ans1a = None\n",
    "\n",
    "### BEGIN SOLUTION\n",
    "ans1a = pd.read_csv('data/melbourne_housing.csv')\n",
    "### END SOLUTION"
   ]
  },
  {
   "cell_type": "markdown",
   "metadata": {},
   "source": [
    "As you can see, the *dataframe* has some missing values. However, before dealing with them, it's a good idea to use some basic data exploration *functions* to become more familiar with your data.\n",
    "\n",
    "In the code cell below, the *attribute `head()`* is used to see how many rows and columns are in your *dataframe*.\n",
    "\n",
    "Run the code cell below."
   ]
  },
  {
   "cell_type": "code",
   "execution_count": null,
   "metadata": {},
   "outputs": [],
   "source": [
    "ans1a.shape"
   ]
  },
  {
   "cell_type": "markdown",
   "metadata": {},
   "source": [
    "Because the *dataframe* is quite large, you will drop the last 60,000 rows to speed up the computations.\n",
    "\n",
    "Run the code cell below."
   ]
  },
  {
   "cell_type": "code",
   "execution_count": null,
   "metadata": {},
   "outputs": [],
   "source": [
    "ans1a.iloc[:-60000]"
   ]
  },
  {
   "cell_type": "markdown",
   "metadata": {},
   "source": [
    "### Question 2\n",
    "*2 points*\n",
    "\n",
    "Suppose that for your analysis you don't need the columns `Method` and `Propertycount`.\n",
    "\n",
    "Drop these columns and assign the modified *dataframe* to *`ans2a.`*"
   ]
  },
  {
   "cell_type": "code",
   "execution_count": null,
   "metadata": {},
   "outputs": [],
   "source": [
    "### GRADED\n",
    "\n",
    "\n",
    "### YOUR SOLUTION HERE\n",
    "asn2a = None\n",
    "\n",
    "### BEGIN SOLUTION\n",
    "ans2a = ans1a.drop(['Method', 'Propertycount'], axis = 1)\n",
    "### END SOLUTION"
   ]
  },
  {
   "cell_type": "markdown",
   "metadata": {},
   "source": [
    "One possible step for data cleaning is to rename columns so they are more conveniently named."
   ]
  },
  {
   "cell_type": "markdown",
   "metadata": {},
   "source": [
    "### Question 3\n",
    "*4 points*\n",
    "\n",
    "Consider the *dataframe `ans2a`* defined above.\n",
    "\n",
    "Increment each *index* value in the *dataframe* by one unit. Assign the new *dataframe* to *`ans3a`*.\n",
    "\n",
    "Below is the pseudocode to complete this question.\n",
    "\n",
    "```Python\n",
    "#new_index\n",
    "df.index = range(1, len(df)+increment_value)\n",
    "```"
   ]
  },
  {
   "cell_type": "code",
   "execution_count": null,
   "metadata": {},
   "outputs": [],
   "source": [
    "### GRADED\n",
    "\n",
    "\n",
    "### YOUR SOLUTION HERE\n",
    "\n",
    "### BEGIN SOLUTION\n",
    "ans3a = ans2a\n",
    "ans3a.index = range(1,len(ans3a)+1)\n",
    "### END SOLUTION"
   ]
  },
  {
   "cell_type": "markdown",
   "metadata": {},
   "source": [
    "### Question 4\n",
    "*4 points*\n",
    "\n",
    "Consider the *dataframe `ans3a`* defined above.\n",
    "\n",
    "Count the value of NaN's in each column. Assign the result to the *series `ans4a`*. \n",
    "\n",
    "What is the type of *`ans4a`*? Assign the result to *`ans4b`*."
   ]
  },
  {
   "cell_type": "code",
   "execution_count": null,
   "metadata": {},
   "outputs": [],
   "source": [
    "### GRADED\n",
    "\n",
    "\n",
    "### YOUR SOLUTION HERE\n",
    "ans4a = None\n",
    "asn4b = None\n",
    "\n",
    "\n",
    "### BEGIN SOLUTION\n",
    "ans4a = ans3a.isnull().sum()\n",
    "ans4b = type(ans4a)\n",
    "### END SOLUTION"
   ]
  },
  {
   "cell_type": "markdown",
   "metadata": {},
   "source": [
    "Another important step is to understand what the percentage of missing values is.\n",
    "\n",
    "To compute this, you can multiply the number of missing values in each column by 100 and divide the result by the number of rows in the *dataframe*:\n",
    "\n",
    "$$\\text{percentage NaN} = \\frac{\\text{missing values per column}*100}{\\text{number of rows}}$$"
   ]
  },
  {
   "cell_type": "markdown",
   "metadata": {},
   "source": [
    "### Question 5\n",
    "*3 points*\n",
    "\n",
    "Compute the percentage of missing values in each column of *`ans3a.`* Assign the values to *`ans5a`.*"
   ]
  },
  {
   "cell_type": "code",
   "execution_count": null,
   "metadata": {},
   "outputs": [],
   "source": [
    "### GRADED\n",
    "\n",
    "\n",
    "### YOUR SOLUTION HERE\n",
    "ans5a = None\n",
    "\n",
    "\n",
    "### BEGIN SOLUTION\n",
    "ans5a = (ans3a.isnull().sum()*100)/len(ans3a)\n",
    "### END SOLUTION"
   ]
  },
  {
   "cell_type": "markdown",
   "metadata": {},
   "source": [
    "Let's print *`ans5a`*. \n",
    "\n",
    "Run the code cell below."
   ]
  },
  {
   "cell_type": "code",
   "execution_count": null,
   "metadata": {},
   "outputs": [],
   "source": [
    "ans5a"
   ]
  },
  {
   "cell_type": "markdown",
   "metadata": {},
   "source": [
    "You can see that the column `Price` has just over 23.0% of missing values.\n",
    "\n",
    "One possible strategy to deal with this would be to impute the values with the median of the not NaN values in the column."
   ]
  },
  {
   "cell_type": "markdown",
   "metadata": {},
   "source": [
    "### Question 6\n",
    "*3 points*\n",
    "\n",
    "Impute the missing values in *`ans3a`* with the median of the not missing values. Assign the new *dataframe* to *`ans6a`.*"
   ]
  },
  {
   "cell_type": "code",
   "execution_count": null,
   "metadata": {},
   "outputs": [],
   "source": [
    "### GRADED\n",
    "\n",
    "\n",
    "### YOUR SOLUTION HERE\n",
    "ans6a = None\n",
    "\n",
    "\n",
    "### BEGIN SOLUTION\n",
    "ans6a = ans3a.fillna(ans3a.median())\n",
    "### END SOLUTION"
   ]
  },
  {
   "cell_type": "markdown",
   "metadata": {},
   "source": [
    "Finally, you must make sure that our *dataframe* has no more missing values."
   ]
  },
  {
   "cell_type": "markdown",
   "metadata": {},
   "source": [
    "### Question 7\n",
    "*2 points*\n",
    "\n",
    "Check that *`ans6a`* has no more missing values. Assign the resulting *series* to *`ans7a.`*"
   ]
  },
  {
   "cell_type": "code",
   "execution_count": null,
   "metadata": {},
   "outputs": [],
   "source": [
    "### GRADED\n",
    "\n",
    "\n",
    "### YOUR SOLUTION HERE\n",
    "ans7a = None\n",
    "\n",
    "\n",
    "### BEGIN SOLUTION\n",
    "ans7a = ans6a.isnull().sum()\n",
    "### END SOLUTION"
   ]
  },
  {
   "cell_type": "markdown",
   "metadata": {},
   "source": [
    "Now, print *`ans7a`* to verify that you have no more missing values.\n",
    "\n",
    "Run the code cell below."
   ]
  },
  {
   "cell_type": "code",
   "execution_count": null,
   "metadata": {},
   "outputs": [],
   "source": [
    "ans7a"
   ]
  },
  {
   "cell_type": "markdown",
   "metadata": {},
   "source": [
    "Great! You have successfully cleaned your *dataframe*."
   ]
  }
 ],
 "metadata": {
  "kernelspec": {
   "display_name": "Python 3 (ipykernel)",
   "language": "python",
   "name": "python3"
  },
  "language_info": {
   "codemirror_mode": {
    "name": "ipython",
    "version": 3
   },
   "file_extension": ".py",
   "mimetype": "text/x-python",
   "name": "python",
   "nbconvert_exporter": "python",
   "pygments_lexer": "ipython3",
   "version": "3.9.9"
  }
 },
 "nbformat": 4,
 "nbformat_minor": 4
}
