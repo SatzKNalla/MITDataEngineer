{
 "cells": [
  {
   "cell_type": "markdown",
   "metadata": {},
   "source": [
    "# Codio Coding Activity 3.4: Designing, Structuring, and Indexing Pandas Dataframes\n",
    "\n",
    "### Learning Outcome Addressed\n",
    "\n",
    "- 8. Design *dataframes* in pandas.\n",
    "\n",
    "\n",
    "## Index:\n",
    "\n",
    "- [Question 1](#Question-1)\n",
    "- [Question 2](#Question-2)\n",
    "- [Question 3](#Question-3)\n",
    "- [Question 4](#Question-4)\n",
    "- [Question 5](#Question-5)\n",
    "- [Question 6](#Question-6)\n",
    "- [Question 7](#Question-7)\n",
    "- [Question 8](#Question-8)\n",
    "- [Question 9](#Question-9)\n"
   ]
  },
  {
   "cell_type": "markdown",
   "metadata": {},
   "source": [
    "### Importing Pandas\n",
    "\n",
    "Before you begin this activity, you need to import the *pandas* library.\n",
    "\n",
    "Run the code cell below:"
   ]
  },
  {
   "cell_type": "code",
   "execution_count": null,
   "metadata": {},
   "outputs": [],
   "source": [
    "import pandas as pd"
   ]
  },
  {
   "cell_type": "markdown",
   "metadata": {},
   "source": [
    "### A Note about the Data\n",
    "\n",
    "The datasets used throughout this activity are saved inside the folder `/data`.\n",
    "\n",
    "More information about this dataset can be found on Kaggle at this link:\n",
    "\n",
    "https://www.kaggle.com/heesoo37/120-years-of-olympic-history-athletes-and-results\n",
    "\n",
    "Each row in the file `athlete_events.csv` corresponds to an individual athlete competing in an individual Olympic event. The columns in the *dataframe* are:\n",
    "\n",
    "- ID - Unique number for each athlete\n",
    "- Name - Athlete's name\n",
    "- Sex - M or F\n",
    "- Age - Athlete's age\n",
    "- Height - In centimeters\n",
    "- Weight - In kilograms\n",
    "- Team - Team name\n",
    "- NOC - National Olympic Committee 3-letter code\n",
    "- Games - Year and season\n",
    "- Year - Year of game\n",
    "- Season - Summer or Winter\n",
    "- City - Host city\n",
    "- Sport - Sport\n",
    "- Event - Event\n",
    "- Medal - Gold, Silver, Bronze, or NA\n",
    "\n",
    "\n",
    "**References:**\n",
    "Rgriffin. (2018). “120 years of Olympic history: athletes and results.” Accessed July 15, 2021. \n",
    "https://www.kaggle.com/heesoo37/120-years-of-olympic-history-athletes-and-results ."
   ]
  },
  {
   "cell_type": "markdown",
   "metadata": {},
   "source": [
    "### Question 1\n",
    "*1 point*\n",
    "\n",
    "Read the file `\"athlete_events.csv\"` in the `data/` folder and assign it to a *dataframe* called `athletes`."
   ]
  },
  {
   "cell_type": "code",
   "execution_count": null,
   "metadata": {},
   "outputs": [],
   "source": [
    "### GRADED\n",
    "\n",
    "### YOUR SOLUTION HERE\n",
    "athletes = None\n",
    "\n",
    "### BEGIN SOLUTION\n",
    "athletes = pd.read_csv(\"data/athlete_events.csv\")\n",
    "### END SOLUTION"
   ]
  },
  {
   "cell_type": "markdown",
   "metadata": {},
   "source": [
    "Let's take a look at the *dataframe* *`athletes`*.\n"
   ]
  },
  {
   "cell_type": "code",
   "execution_count": null,
   "metadata": {},
   "outputs": [],
   "source": [
    "athletes.head()"
   ]
  },
  {
   "cell_type": "markdown",
   "metadata": {},
   "source": [
    "### Question 2\n",
    "*3 points*\n",
    "\n",
    "Create a new *dataframe, `ans2a,`* by selecting the following from the *dataframe `athletes`*:\n",
    "    \n",
    "- the rows with labels from 3 through 11.\n",
    "- the columns from `ID` to `Height`."
   ]
  },
  {
   "cell_type": "code",
   "execution_count": null,
   "metadata": {},
   "outputs": [],
   "source": [
    "### GRADED\n",
    "\n",
    "### YOUR SOLUTION HERE\n",
    "ans2a = None\n",
    "\n",
    "### BEGIN SOLUTION\n",
    "ans2a =athletes.loc[3:11, \"ID\": \"Height\"]\n",
    "### END SOLUTION"
   ]
  },
  {
   "cell_type": "markdown",
   "metadata": {},
   "source": [
    "### Question 3\n",
    "*3 points*\n",
    "\n",
    "Select all the rows from the *dataframe `athletes`* where *`Year`* is greater than 1980. \n",
    "Assign this *dataframe* to *`ans3a`*."
   ]
  },
  {
   "cell_type": "code",
   "execution_count": null,
   "metadata": {},
   "outputs": [],
   "source": [
    "### GRADED\n",
    "\n",
    "### YOUR SOLUTION HERE\n",
    "ans3a = None\n",
    "\n",
    "### BEGIN SOLUTION\n",
    "ans3a = athletes.loc[athletes.Year > 1980]\n",
    "### END SOLUTION"
   ]
  },
  {
   "cell_type": "markdown",
   "metadata": {},
   "source": [
    "### Question 4\n",
    "*3 points*\n",
    "\n",
    "Select the rows with *index* 0, 10, 20, 40, 43, 66 and the columns with *index* 0, 3, 5 from the *dataframe `athletes.`* Store your results in a *dataframe* called *`ans4a`*."
   ]
  },
  {
   "cell_type": "code",
   "execution_count": null,
   "metadata": {},
   "outputs": [],
   "source": [
    "### GRADED\n",
    "\n",
    "### YOUR SOLUTION HERE\n",
    "ans4a = None\n",
    "\n",
    "### BEGIN SOLUTION\n",
    "ans4a = athletes.iloc[[0, 10, 20, 40, 43, 66],[0, 3, 5]]\n",
    "### END SOLUTION"
   ]
  },
  {
   "cell_type": "markdown",
   "metadata": {},
   "source": [
    "### Question 5\n",
    "*2 points*\n",
    "\n",
    "Define a *pandas dataframe, `ans5a,`* with the following elements:\n",
    "    \n",
    "    \n",
    "| Country Code | Country | \n",
    "| --- | --- | \n",
    "| USA| United States| \n",
    "| ITA| Italy| \n",
    "| CAN| Canada|\n",
    "| DEU| Germany| \n",
    "\n",
    "Next, define a *pandas dataframe, `ans5b,`* with the following entries:\n",
    "\n",
    "| Country Code | Country | \n",
    "| --- | --- | \n",
    "| FRA| France| \n",
    "| GBT| NaN| \n",
    "\n",
    "**HINT:** Use *`np.NaN`* to define the missing values."
   ]
  },
  {
   "cell_type": "code",
   "execution_count": null,
   "metadata": {},
   "outputs": [],
   "source": [
    "### GRADED\n",
    "\n",
    "### YOUR SOLUTION HERE\n",
    "ans5a = None\n",
    "ans5b = None\n",
    "\n",
    "\n",
    "### BEGIN SOLUTION\n",
    "country1 = {'Country Code': ['USA', 'ITA', 'CAN', 'DEU'], 'Country': ['United States', 'Italy', 'Canada', 'Germany']}\n",
    "country2 = {'Country Code': ['FRA', 'GBT'], 'Country': ['France', np.NaN]}\n",
    "ans5a = pd.DataFrame(country1)\n",
    "ans5b =  pd.DataFrame(country2)\n",
    "### END SOLUTION"
   ]
  },
  {
   "cell_type": "markdown",
   "metadata": {},
   "source": [
    "### Question 6\n",
    "*2 points*\n",
    "\n",
    "Perform a union between *`ans5a`* and *`ans5b`*. Assign the new *dataframe* to *`ans6a`*. Reset the *index*."
   ]
  },
  {
   "cell_type": "code",
   "execution_count": null,
   "metadata": {},
   "outputs": [],
   "source": [
    "### GRADED\n",
    "\n",
    "### YOUR SOLUTION HERE\n",
    "ans6a = None\n",
    "\n",
    "\n",
    "### BEGIN SOLUTION\n",
    "ans6a = pd.concat([ans5a, ans5b]).reset_index(drop = True)\n",
    "### END SOLUTION"
   ]
  },
  {
   "cell_type": "markdown",
   "metadata": {},
   "source": [
    "Run the code cell below to visualize the *dataframe `ans6a.`*"
   ]
  },
  {
   "cell_type": "code",
   "execution_count": null,
   "metadata": {
    "scrolled": true
   },
   "outputs": [],
   "source": [
    "ans6a.head(6)"
   ]
  },
  {
   "cell_type": "markdown",
   "metadata": {},
   "source": [
    "### Question 7\n",
    "*1 point*\n",
    "\n",
    "Define a *pandas dataframe, `ans7a,`* with the following elements:\n",
    "    \n",
    "    \n",
    "| Country Code | Capital | \n",
    "| --- | --- | \n",
    "| USA| Washington| \n",
    "| ITA| Rome| \n",
    "| CAN| NaN|\n",
    "| DEU| Berlin|\n",
    "| GBT| NaN|"
   ]
  },
  {
   "cell_type": "code",
   "execution_count": null,
   "metadata": {},
   "outputs": [],
   "source": [
    "### GRADED\n",
    "\n",
    "### YOUR SOLUTION HERE\n",
    "ans7a = None\n",
    "\n",
    "\n",
    "### BEGIN SOLUTION\n",
    "capital = {'Country Code': ['USA', 'ITA', 'CAN', 'DEU', 'GBT'], \n",
    "           'Capital': ['Washington', 'Rome', np.NaN, 'Berlin', np.NaN]}\n",
    "ans7a = pd.DataFrame(capital)\n",
    "### END SOLUTION"
   ]
  },
  {
   "cell_type": "markdown",
   "metadata": {},
   "source": [
    "### Question 8\n",
    "*3 points*\n",
    "\n",
    "Perform an inner *join* on the column *`Country Code`* between *`ans6a`* and *`ans7a`*. Assign the new *dataframe* to *`ans8a`*.\n",
    "\n",
    "How many NaNs are in the resulting *dataframe*? Assign your response as an integer to *`ans8b`*."
   ]
  },
  {
   "cell_type": "code",
   "execution_count": null,
   "metadata": {},
   "outputs": [],
   "source": [
    "### GRADED\n",
    "\n",
    "### YOUR SOLUTION HERE\n",
    "ans8a = None\n",
    "ans8b = None\n",
    "\n",
    "### BEGIN SOLUTION\n",
    "ans8a = pd.merge(ans6a, ans7a, on = 'Country Code', how = 'inner')\n",
    "ans8b = 3\n",
    "### END SOLUTION"
   ]
  },
  {
   "cell_type": "markdown",
   "metadata": {},
   "source": [
    "### Question 9\n",
    "*2 points*\n",
    "\n",
    "Perform a left *join* on the column *`Country Code`* between *`ans6a`* and *`ans7a`*. Assign the new *dataframe* to *`ans9a`*.\n",
    "\n",
    "How many NaNs are in the resulting *dataframe*? Assign your response as an integer to *`ans9b`*."
   ]
  },
  {
   "cell_type": "code",
   "execution_count": null,
   "metadata": {},
   "outputs": [],
   "source": [
    "### GRADED\n",
    "\n",
    "### YOUR SOLUTION HERE\n",
    "ans9a = None\n",
    "ans9b = None\n",
    "\n",
    "### BEGIN SOLUTION\n",
    "ans9a = pd.merge(ans6a, ans7a, on = 'Country Code', how = 'left')\n",
    "ans9b = 4\n",
    "### END SOLUTION"
   ]
  }
 ],
 "metadata": {
  "kernelspec": {
   "display_name": "Python 3 (ipykernel)",
   "language": "python",
   "name": "python3"
  },
  "language_info": {
   "codemirror_mode": {
    "name": "ipython",
    "version": 3
   },
   "file_extension": ".py",
   "mimetype": "text/x-python",
   "name": "python",
   "nbconvert_exporter": "python",
   "pygments_lexer": "ipython3",
   "version": "3.9.9"
  }
 },
 "nbformat": 4,
 "nbformat_minor": 4
}
