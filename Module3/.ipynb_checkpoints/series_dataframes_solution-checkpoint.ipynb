{
 "cells": [
  {
   "cell_type": "markdown",
   "metadata": {},
   "source": [
    "# Codio Coding Activity 3.1: Series and Dataframes\n",
    "\n",
    "### Learning Outcome Addressed\n",
    "\n",
    "- 2. Implement pandas *series* and *dataframes*.\n",
    "\n",
    "\n",
    "## Index:\n",
    "\n",
    "- [Question 1](#Question-1)\n",
    "- [Question 2](#Question-2)\n",
    "- [Question 3](#Question-3)\n",
    "- [Question 4](#Question-4)\n",
    "- [Question 5](#Question-5)\n",
    "- [Question 6](#Question-6)\n",
    "- [Question 7](#Question-7)\n",
    "- [Question 8](#Question-8)"
   ]
  },
  {
   "cell_type": "markdown",
   "metadata": {},
   "source": [
    "### Importing Pandas\n",
    "\n",
    "Before you begin with this activity, you need to import the *pandas* library.\n",
    "\n",
    "Run the code cell below."
   ]
  },
  {
   "cell_type": "code",
   "execution_count": 1,
   "metadata": {},
   "outputs": [],
   "source": [
    "import pandas as pd"
   ]
  },
  {
   "cell_type": "markdown",
   "metadata": {},
   "source": [
    "## Pandas *Series*\n",
    "\n",
    "\n",
    "A *pandas series* is a one-dimensional *indexed array* capable of storing any data type as long as all the elements stored in it are of the same type.\n",
    "\n",
    "### Question 1\n",
    "*2 points*\n",
    "\n",
    "The *list,* *`list1,`* has been defined for you below. \n",
    "\n",
    "Create a *pandas series*, *`ans1a,`* with the same elements stored in *`list1.`*\n",
    "\n",
    "Assign the length of *`ans1a`* to *`ans1b`*.\n",
    "\n",
    "\n",
    "What is the type of *`ans1a`*? Assign your result to *`ans1c`*."
   ]
  },
  {
   "cell_type": "code",
   "execution_count": 2,
   "metadata": {},
   "outputs": [],
   "source": [
    "### GRADED\n",
    "list1 = [2,4,6,8]\n",
    "\n",
    "\n",
    "### YOUR SOLUTION HERE\n",
    "ans1a = None\n",
    "ans1b = None\n",
    "ans1c = None\n",
    "\n",
    "### BEGIN SOLUTION\n",
    "ans1a = pd.Series(list1)\n",
    "ans1b = len((ans1a))\n",
    "ans1c = type(ans1a)\n",
    "### END SOLUTION"
   ]
  },
  {
   "cell_type": "markdown",
   "metadata": {},
   "source": [
    "### Question 2\n",
    "*2 points*\n",
    "\n",
    "Consider the *series `ans1a`* defined in Question 1.\n",
    "\n",
    "Re-create the *series* in the exact same way, but now include an index with elements `a`, `b`, `c`, and `d`. Assign the new *series* to *`ans2a`*."
   ]
  },
  {
   "cell_type": "code",
   "execution_count": 9,
   "metadata": {},
   "outputs": [],
   "source": [
    "### GRADED\n",
    "\n",
    "### YOUR SOLUTION HERE\n",
    "ans2a = None\n",
    "\n",
    "### BEGIN SOLUTION\n",
    "ans2a = pd.Series(data = [2,4,6,8], index = ['a', 'b', 'c', 'd'])\n",
    "### END SOLUTION"
   ]
  },
  {
   "cell_type": "markdown",
   "metadata": {},
   "source": [
    "A *pandas series* can also be defined from a *dictionary* by using the *pandas function `Series().`*"
   ]
  },
  {
   "cell_type": "markdown",
   "metadata": {},
   "source": [
    "### Question 3\n",
    "*2 points*\n",
    "\n",
    "The *dictionary* *`students`* has been defined for you below. \n",
    "\n",
    "Create a *pandas series*, *`ans3a,`* from *`students.`*\n",
    "\n",
    "Assign the length of *`ans3a`* to *`ans3b`*."
   ]
  },
  {
   "cell_type": "code",
   "execution_count": 10,
   "metadata": {},
   "outputs": [],
   "source": [
    "### GRADED\n",
    "students = {'Id1' : 'Mary', 'Id2' : 'Jessica', 'Id3' : 'Sophie'}\n",
    "\n",
    "### YOUR SOLUTION HERE\n",
    "ans3a = None\n",
    "ans3b = None\n",
    "\n",
    "### BEGIN SOLUTION\n",
    "ans3a = pd.Series(students)\n",
    "ans3b = len(ans3a)\n",
    "### END SOLUTION"
   ]
  },
  {
   "cell_type": "markdown",
   "metadata": {},
   "source": [
    "### Question 4\n",
    "*2 points*\n",
    "\n",
    "Create a copy of *`ans3a`*, assigned to *`ans4a`*, but change the second value to *`Dayna`*."
   ]
  },
  {
   "cell_type": "code",
   "execution_count": 11,
   "metadata": {},
   "outputs": [],
   "source": [
    "### GRADED\n",
    "\n",
    "### YOUR SOLUTION HERE\n",
    "ans4a = None\n",
    "\n",
    "### BEGIN SOLUTION\n",
    "ans4a = ans3a\n",
    "ans4a[1] = 'Dayna'\n",
    "### END SOLUTION"
   ]
  },
  {
   "cell_type": "markdown",
   "metadata": {},
   "source": [
    "### Question 5\n",
    "*3 points*\n",
    "\n",
    "Define a datetime *index, `ans5a,`* with ten elements spaced daily starting from July 1, 2021 and 12:00pm in the Europe/Berlin timezone."
   ]
  },
  {
   "cell_type": "code",
   "execution_count": 12,
   "metadata": {},
   "outputs": [],
   "source": [
    "### GRADED\n",
    "\n",
    "### YOUR SOLUTION HERE\n",
    "ans5a = None\n",
    "\n",
    "### BEGIN SOLUTION\n",
    "ans5a = pd.date_range(start = '2021-07-01 12:00', freq = 'd', periods = 10, tz = 'Europe/Berlin')\n",
    "### END SOLUTION"
   ]
  },
  {
   "cell_type": "markdown",
   "metadata": {},
   "source": [
    "### Question 6\n",
    "*3 points*\n",
    "\n",
    "Define a *NumPy array, `ans6a`*, with shape *`(4,4)`* and random *integer* elements between *`0`* and  *`16.`*\n",
    "\n",
    "Define a  datetime *index, `ans6b,`* with 4 elements spaced daily starting from April 30, 2021.\n",
    "\n",
    "Create a *dataframe, `ans6c,`* that has the elements of *`ans6a`* as entries and the elements in *`ans6b`* as *index*.\n",
    "\n",
    "**Note:** The necessary *libraries* for this question have been imported for you in the code cell below."
   ]
  },
  {
   "cell_type": "code",
   "execution_count": 13,
   "metadata": {},
   "outputs": [],
   "source": [
    "### GRADED\n",
    "import numpy as np\n",
    "np.random.seed(123)\n",
    "\n",
    "\n",
    "### YOUR SOLUTION HERE\n",
    "ans6a = None\n",
    "ans6b = None\n",
    "ans6c = None\n",
    "\n",
    "### BEGIN SOLUTION\n",
    "ans6a = np.random.randint(1,16, size =(4,4))\n",
    "ans6b = pd.date_range(start = '2021-04-30', freq = 'd', periods =4)\n",
    "ans6c= pd.DataFrame(data = ans6a, index=ans6b)\n",
    "### END SOLUTION"
   ]
  },
  {
   "cell_type": "markdown",
   "metadata": {},
   "source": [
    "### Question 7\n",
    "*3 points*\n",
    "\n",
    "Consider the *dataframe, `ans6c,`* that you have defined in the previous question.\n",
    "\n",
    "\n",
    "Recreate the *dataframe* in the exact same way, but now including columns to be equal to `Adults`, `Seniors`, `Teenagers`, and `Children`. Assign the new *dataframe* to *`ans7a`*."
   ]
  },
  {
   "cell_type": "code",
   "execution_count": 14,
   "metadata": {},
   "outputs": [
    {
     "data": {
      "text/html": [
       "<div>\n",
       "<style scoped>\n",
       "    .dataframe tbody tr th:only-of-type {\n",
       "        vertical-align: middle;\n",
       "    }\n",
       "\n",
       "    .dataframe tbody tr th {\n",
       "        vertical-align: top;\n",
       "    }\n",
       "\n",
       "    .dataframe thead th {\n",
       "        text-align: right;\n",
       "    }\n",
       "</style>\n",
       "<table border=\"1\" class=\"dataframe\">\n",
       "  <thead>\n",
       "    <tr style=\"text-align: right;\">\n",
       "      <th></th>\n",
       "      <th>Adults</th>\n",
       "      <th>Seniors</th>\n",
       "      <th>Teenagers</th>\n",
       "      <th>Children</th>\n",
       "    </tr>\n",
       "  </thead>\n",
       "  <tbody>\n",
       "    <tr>\n",
       "      <th>2021-04-30</th>\n",
       "      <td>15</td>\n",
       "      <td>14</td>\n",
       "      <td>15</td>\n",
       "      <td>3</td>\n",
       "    </tr>\n",
       "    <tr>\n",
       "      <th>2021-05-01</th>\n",
       "      <td>13</td>\n",
       "      <td>3</td>\n",
       "      <td>7</td>\n",
       "      <td>2</td>\n",
       "    </tr>\n",
       "    <tr>\n",
       "      <th>2021-05-02</th>\n",
       "      <td>4</td>\n",
       "      <td>11</td>\n",
       "      <td>12</td>\n",
       "      <td>10</td>\n",
       "    </tr>\n",
       "    <tr>\n",
       "      <th>2021-05-03</th>\n",
       "      <td>7</td>\n",
       "      <td>2</td>\n",
       "      <td>1</td>\n",
       "      <td>2</td>\n",
       "    </tr>\n",
       "  </tbody>\n",
       "</table>\n",
       "</div>"
      ],
      "text/plain": [
       "            Adults  Seniors  Teenagers  Children\n",
       "2021-04-30      15       14         15         3\n",
       "2021-05-01      13        3          7         2\n",
       "2021-05-02       4       11         12        10\n",
       "2021-05-03       7        2          1         2"
      ]
     },
     "execution_count": 14,
     "metadata": {},
     "output_type": "execute_result"
    }
   ],
   "source": [
    "### GRADED\n",
    "import numpy as np\n",
    "np.random.seed(123)\n",
    "\n",
    "\n",
    "### YOUR SOLUTION HERE\n",
    "ans7a = None\n",
    "\n",
    "### BEGIN SOLUTION\n",
    "ans7a= pd.DataFrame(data = ans6a, index=ans6b, columns = ['Adults', 'Seniors', 'Teenagers', 'Children'])\n",
    "ans7a\n",
    "### END SOLUTION"
   ]
  },
  {
   "cell_type": "markdown",
   "metadata": {},
   "source": [
    "### Question 8\n",
    "*3 points*\n",
    "\n",
    "\n",
    "Read the file `women.csv` in the `data` folder. Assign the data to the *dataframe `ans8a`*.\n",
    "\n",
    "Drop the column `position` and change the name of the column `name` to `first_name`."
   ]
  },
  {
   "cell_type": "code",
   "execution_count": 9,
   "metadata": {},
   "outputs": [],
   "source": [
    "### GRADED\n",
    "\n",
    "\n",
    "### YOUR SOLUTION HERE\n",
    "\n",
    "### BEGIN SOLUTION\n",
    "ans8a= pd.read_csv('data/women.csv')\n",
    "ans8a = ans8a.drop('position', axis = 1)\n",
    "ans8a.columns.values[0] = 'first_name'\n",
    "### END SOLUTION"
   ]
  }
 ],
 "metadata": {
  "kernelspec": {
   "display_name": "Python 3 (ipykernel)",
   "language": "python",
   "name": "python3"
  },
  "language_info": {
   "codemirror_mode": {
    "name": "ipython",
    "version": 3
   },
   "file_extension": ".py",
   "mimetype": "text/x-python",
   "name": "python",
   "nbconvert_exporter": "python",
   "pygments_lexer": "ipython3",
   "version": "3.9.9"
  }
 },
 "nbformat": 4,
 "nbformat_minor": 4
}
