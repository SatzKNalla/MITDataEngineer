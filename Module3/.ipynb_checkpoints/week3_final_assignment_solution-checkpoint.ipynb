{
 "cells": [
  {
   "cell_type": "markdown",
   "metadata": {},
   "source": [
    "# Codio Coding Assignment 3.1: Pandas Foundations, Data Cleaning, and Manipulation\n",
    "\n",
    "### Learning Outcomes Addressed\n",
    "\n",
    "- 2. Implement pandas *series* and *dataframes*.\n",
    "- 3. Perform data cleaning in pandas.\n",
    "- 4. Prepare data using one-hot encoding in pandas.\n",
    "- 7. Analyze data in pandas.\n",
    "- 8. Design *dataframes* in pandas.\n",
    "\n",
    "\n",
    "## Index:\n",
    "\n",
    "- [Question 1](#Question-1)\n",
    "- [Question 2](#Question-2)\n",
    "- [Question 3](#Question-3)\n",
    "- [Question 4](#Question-4)\n",
    "- [Question 5](#Question-5)\n",
    "- [Question 6](#Question-6)\n",
    "- [Question 7](#Question-7)\n",
    "- [Question 8](#Question-8)\n",
    "- [Question 9](#Question-9)\n",
    "- [Question 10](#Question-10)\n",
    "- [Question 11](#Question-11)\n",
    "- [Question 12](#Question-12)\n",
    "- [Question 13](#Question-13)\n",
    "- [Question 14](#Question-14)\n",
    "- [Question 15](#Question-15)\n",
    "- [Question 16](#Question-16)\n",
    "- [Question 17](#Question-17)"
   ]
  },
  {
   "cell_type": "markdown",
   "metadata": {},
   "source": [
    "### Importing Pandas\n",
    "\n",
    "Before you begin this activity, you need to import the *pandas library*.\n",
    "\n",
    "Run the code cell below:"
   ]
  },
  {
   "cell_type": "code",
   "execution_count": 1,
   "metadata": {},
   "outputs": [],
   "source": [
    "import pandas as pd\n",
    "import numpy as np"
   ]
  },
  {
   "cell_type": "markdown",
   "metadata": {},
   "source": [
    "## Question 1\n",
    "\n",
    "*3 points*\n",
    "\n",
    "Create a `pandas` *dataframe, `df,`* containing three columns named *`id, name,`* and *`last_name`* and the values listed in the table below:\n",
    "\n",
    "| id | name  | last_name |\n",
    "|----|-------|-----------|\n",
    "| 1  | Peter | Homs      |\n",
    "| 2  | James | Miller    |\n",
    "| 3  | Mark  | Huldi     |"
   ]
  },
  {
   "cell_type": "code",
   "execution_count": 4,
   "metadata": {},
   "outputs": [],
   "source": [
    "### GRADED\n",
    "import pandas as pd\n",
    "\n",
    "### YOUR SOLUTION HERE\n",
    "df = None\n",
    "\n",
    "### BEGIN SOLUTION\n",
    "df = pd.DataFrame({\"id\": [1,2,3], \"name\": [\"Peter\", \"James\", \"Mark\"], \"last_name\": [\"Homs\", \"Miller\", \"Huldi\"]})\n",
    "### END SOLUTION"
   ]
  },
  {
   "cell_type": "markdown",
   "metadata": {},
   "source": [
    "## Question 2\n",
    "\n",
    "*3 points*\n",
    "\n",
    "Consider the *dataframe, `df,`* from Question 1. Select the column `name` and assign it to a variable called *`ans2a`*. \n",
    "\n",
    "What is the type of *`ans2a`*? Assign your result to *`ans2b.`*"
   ]
  },
  {
   "cell_type": "code",
   "execution_count": 5,
   "metadata": {},
   "outputs": [],
   "source": [
    "### GRADED\n",
    "### YOUR SOLUTION HERE\n",
    "ans2a = None\n",
    "ans2b = None\n",
    "\n",
    "### BEGIN SOLUTION\n",
    "ans2a = df[\"name\"]\n",
    "ans2b = type(ans2a)\n",
    "### END SOLUTION"
   ]
  },
  {
   "cell_type": "markdown",
   "metadata": {},
   "source": [
    "## Question 3\n",
    "\n",
    "*5 points*\n",
    "\n",
    "Consider the *dataframe, `df,`* from Question 1. Rename the first column to `Name` and the second one to `Last_Name`."
   ]
  },
  {
   "cell_type": "code",
   "execution_count": 5,
   "metadata": {},
   "outputs": [],
   "source": [
    "### GRADED\n",
    "### YOUR SOLUTION HERE\n",
    "\n",
    "\n",
    "### BEGIN SOLUTION\n",
    "newcols = {\"name\": \"Name\",\"last_name\": \"Last_Name\"}\n",
    "df.rename(columns=newcols, inplace=True)\n",
    "### END SOLUTION"
   ]
  },
  {
   "cell_type": "markdown",
   "metadata": {},
   "source": [
    "## Question 4\n",
    "\n",
    "*4 points*\n",
    "\n",
    "Read the .csv file `\"data.csv\"` inside the `data` folder and assign it to a *dataframe* called *`df_4`*. \n",
    "\n",
    "Group by the column *`season`* and count how many times each feature appears in each season. Assign the solution to the *dataframe `df_4_grouped`*.\n"
   ]
  },
  {
   "cell_type": "code",
   "execution_count": 6,
   "metadata": {},
   "outputs": [],
   "source": [
    "### GRADED\n",
    "### YOUR SOLUTION HERE\n",
    "df_4 = None\n",
    "df_4_grouped = None\n",
    "\n",
    "### BEGIN SOLUTION\n",
    "df_4 = pd.read_csv(\"data/data.csv\")\n",
    "df_4_grouped = df_4.groupby(\"season\").count()\n",
    "### END SOLUTION"
   ]
  },
  {
   "cell_type": "markdown",
   "metadata": {},
   "source": [
    "Run the code cell below to visualize the first five rows of your *dataframe*."
   ]
  },
  {
   "cell_type": "code",
   "execution_count": 7,
   "metadata": {},
   "outputs": [
    {
     "data": {
      "text/html": [
       "<div>\n",
       "<style scoped>\n",
       "    .dataframe tbody tr th:only-of-type {\n",
       "        vertical-align: middle;\n",
       "    }\n",
       "\n",
       "    .dataframe tbody tr th {\n",
       "        vertical-align: top;\n",
       "    }\n",
       "\n",
       "    .dataframe thead th {\n",
       "        text-align: right;\n",
       "    }\n",
       "</style>\n",
       "<table border=\"1\" class=\"dataframe\">\n",
       "  <thead>\n",
       "    <tr style=\"text-align: right;\">\n",
       "      <th></th>\n",
       "      <th>datetime</th>\n",
       "      <th>season</th>\n",
       "      <th>holiday</th>\n",
       "      <th>workingday</th>\n",
       "      <th>weather</th>\n",
       "      <th>temp</th>\n",
       "      <th>atemp</th>\n",
       "      <th>humidity</th>\n",
       "      <th>windspeed</th>\n",
       "      <th>casual</th>\n",
       "      <th>registered</th>\n",
       "      <th>count</th>\n",
       "      <th>hour</th>\n",
       "      <th>year</th>\n",
       "      <th>month</th>\n",
       "      <th>weather_label</th>\n",
       "    </tr>\n",
       "  </thead>\n",
       "  <tbody>\n",
       "    <tr>\n",
       "      <th>0</th>\n",
       "      <td>2011-01-01 00:00:00</td>\n",
       "      <td>1</td>\n",
       "      <td>0</td>\n",
       "      <td>0</td>\n",
       "      <td>1</td>\n",
       "      <td>9.843750</td>\n",
       "      <td>14.398438</td>\n",
       "      <td>81</td>\n",
       "      <td>0.0</td>\n",
       "      <td>3</td>\n",
       "      <td>13</td>\n",
       "      <td>16</td>\n",
       "      <td>0</td>\n",
       "      <td>2011</td>\n",
       "      <td>1</td>\n",
       "      <td>Clear</td>\n",
       "    </tr>\n",
       "    <tr>\n",
       "      <th>1</th>\n",
       "      <td>2011-01-01 01:00:00</td>\n",
       "      <td>1</td>\n",
       "      <td>0</td>\n",
       "      <td>0</td>\n",
       "      <td>1</td>\n",
       "      <td>9.023438</td>\n",
       "      <td>13.632812</td>\n",
       "      <td>80</td>\n",
       "      <td>0.0</td>\n",
       "      <td>8</td>\n",
       "      <td>32</td>\n",
       "      <td>40</td>\n",
       "      <td>1</td>\n",
       "      <td>2011</td>\n",
       "      <td>1</td>\n",
       "      <td>Clear</td>\n",
       "    </tr>\n",
       "    <tr>\n",
       "      <th>2</th>\n",
       "      <td>2011-01-01 02:00:00</td>\n",
       "      <td>1</td>\n",
       "      <td>0</td>\n",
       "      <td>0</td>\n",
       "      <td>1</td>\n",
       "      <td>9.023438</td>\n",
       "      <td>13.632812</td>\n",
       "      <td>80</td>\n",
       "      <td>0.0</td>\n",
       "      <td>5</td>\n",
       "      <td>27</td>\n",
       "      <td>32</td>\n",
       "      <td>2</td>\n",
       "      <td>2011</td>\n",
       "      <td>1</td>\n",
       "      <td>Clear</td>\n",
       "    </tr>\n",
       "    <tr>\n",
       "      <th>3</th>\n",
       "      <td>2011-01-01 03:00:00</td>\n",
       "      <td>1</td>\n",
       "      <td>0</td>\n",
       "      <td>0</td>\n",
       "      <td>1</td>\n",
       "      <td>9.843750</td>\n",
       "      <td>14.398438</td>\n",
       "      <td>75</td>\n",
       "      <td>0.0</td>\n",
       "      <td>3</td>\n",
       "      <td>10</td>\n",
       "      <td>13</td>\n",
       "      <td>3</td>\n",
       "      <td>2011</td>\n",
       "      <td>1</td>\n",
       "      <td>Clear</td>\n",
       "    </tr>\n",
       "    <tr>\n",
       "      <th>4</th>\n",
       "      <td>2011-01-01 04:00:00</td>\n",
       "      <td>1</td>\n",
       "      <td>0</td>\n",
       "      <td>0</td>\n",
       "      <td>1</td>\n",
       "      <td>9.843750</td>\n",
       "      <td>14.398438</td>\n",
       "      <td>75</td>\n",
       "      <td>0.0</td>\n",
       "      <td>0</td>\n",
       "      <td>1</td>\n",
       "      <td>1</td>\n",
       "      <td>4</td>\n",
       "      <td>2011</td>\n",
       "      <td>1</td>\n",
       "      <td>Clear</td>\n",
       "    </tr>\n",
       "  </tbody>\n",
       "</table>\n",
       "</div>"
      ],
      "text/plain": [
       "              datetime  season  holiday  workingday  weather      temp  \\\n",
       "0  2011-01-01 00:00:00       1        0           0        1  9.843750   \n",
       "1  2011-01-01 01:00:00       1        0           0        1  9.023438   \n",
       "2  2011-01-01 02:00:00       1        0           0        1  9.023438   \n",
       "3  2011-01-01 03:00:00       1        0           0        1  9.843750   \n",
       "4  2011-01-01 04:00:00       1        0           0        1  9.843750   \n",
       "\n",
       "       atemp  humidity  windspeed  casual  registered  count  hour  year  \\\n",
       "0  14.398438        81        0.0       3          13     16     0  2011   \n",
       "1  13.632812        80        0.0       8          32     40     1  2011   \n",
       "2  13.632812        80        0.0       5          27     32     2  2011   \n",
       "3  14.398438        75        0.0       3          10     13     3  2011   \n",
       "4  14.398438        75        0.0       0           1      1     4  2011   \n",
       "\n",
       "   month weather_label  \n",
       "0      1         Clear  \n",
       "1      1         Clear  \n",
       "2      1         Clear  \n",
       "3      1         Clear  \n",
       "4      1         Clear  "
      ]
     },
     "execution_count": 7,
     "metadata": {},
     "output_type": "execute_result"
    }
   ],
   "source": [
    "df_4.head()"
   ]
  },
  {
   "cell_type": "markdown",
   "metadata": {},
   "source": [
    "## Question 5\n",
    "\n",
    "*5 points*\n",
    "\n",
    "Consider the  *dataframe `df_4`* from Question 4.  Create a filter to get all the rows where the column `humidity` is less than or equal to 85. Assign the new *dataframe* to *`ans5a`*."
   ]
  },
  {
   "cell_type": "code",
   "execution_count": 8,
   "metadata": {},
   "outputs": [],
   "source": [
    "### GRADED\n",
    "### YOUR SOLUTION HERE\n",
    "ans5a = None\n",
    "\n",
    "### BEGIN SOLUTION\n",
    "ans5a= df_4[df_4[\"humidity\"] <= 85]\n",
    "### END SOLUTION"
   ]
  },
  {
   "cell_type": "markdown",
   "metadata": {},
   "source": [
    "## Question 6\n",
    "\n",
    "*4 points*\n",
    "\n",
    "Consider the  *dataframe `df_4`* from Question 4. Create a filter to get all the rows where the column `atemp` is greater than or equal to 15. Assign this new *dataframe* to *`ans6a`*."
   ]
  },
  {
   "cell_type": "code",
   "execution_count": 9,
   "metadata": {},
   "outputs": [],
   "source": [
    "### GRADED\n",
    "### YOUR SOLUTION HERE\n",
    "ans6 = None\n",
    "### BEGIN SOLUTION\n",
    "ans6a = df_4[df_4[\"atemp\"] >= 15]\n",
    "### END SOLUTION"
   ]
  },
  {
   "cell_type": "markdown",
   "metadata": {},
   "source": [
    "## Question 7\n",
    "\n",
    "*5 points*\n",
    "\n",
    "Consider the *dataframe `df_4`*. Compute the average of the column *`windspeed`* and assign the value to the variable *`ans7a`*.\n",
    "\n",
    "**HINT:** For this question, use the *function [mean()](https://pandas.pydata.org/pandas-docs/stable/reference/api/pandas.DataFrame.mean.html).*"
   ]
  },
  {
   "cell_type": "code",
   "execution_count": 11,
   "metadata": {},
   "outputs": [],
   "source": [
    "### GRADED\n",
    "### YOUR SOLUTION HERE\n",
    "ans7a = None\n",
    "\n",
    "### BEGIN SOLUTION\n",
    "ans7a = df_4[\"windspeed\"].mean()\n",
    "### END SOLUTION"
   ]
  },
  {
   "cell_type": "markdown",
   "metadata": {},
   "source": [
    "## Question 8\n",
    "\n",
    "*6 points*\n",
    "\n",
    "Create a *pandas dataframe, `df_8`*, containing five columns named `name, age, gender, state, and num_pets` and the following values:\n",
    "\n",
    "| name | age| gender|state|num_pets |\n",
    "|------|----|-------|-----|---------|\n",
    "| john | 23 | M     |california|5|\n",
    "| mary | 78 | F     |dc|1|\n",
    "| peter| 22 | M     |california|0|\n",
    "|jeff  |19  | M     |dc|5|\n",
    "|bill  |45  | M     |dc|2|\n",
    "|lisa  |33  | NaN     |california|2|\n",
    "|jose|20|M|texas|3\n",
    "\n",
    "You can use the provided lists to avoid typing errors. \n",
    "\n",
    "Next, sort the column age in descending order and assign it to a variable called *`ans8a`*.\n",
    "\n",
    "**HINT:** Use the *function [sort_values](https://pandas.pydata.org/pandas-docs/stable/reference/api/pandas.DataFrame.sort_values.html?highlight=sort_values#pandas.DataFrame.sort_values)*."
   ]
  },
  {
   "cell_type": "code",
   "execution_count": 2,
   "metadata": {},
   "outputs": [],
   "source": [
    "name = ['john','mary','peter','jeff','bill','lisa','jose']\n",
    "age = [23,78,22,np.NaN,45,33,20]\n",
    "gender = ['M','F','M','M','M',np.NaN,'M']\n",
    "state = ['california','dc','california','dc','dc','california','texas']\n",
    "num_pets = [5,1,0,5,2,2,3]\n",
    "\n",
    "### YOUR SOLUTION HERE\n",
    "df_8 = None\n",
    "ans8a = None\n",
    "\n",
    "### BEGIN SOLUTION\n",
    "df_8 = pd.DataFrame({\n",
    " 'name': name,\n",
    " 'age': age,\n",
    " 'gender': gender,\n",
    " 'state': state,\n",
    " 'num_pets':num_pets\n",
    "})\n",
    "\n",
    "ans8a = df_8.sort_values('age', ascending=False)\n",
    "### END SOLUTION"
   ]
  },
  {
   "cell_type": "markdown",
   "metadata": {},
   "source": [
    "## Question 9\n",
    "\n",
    "*6 points*\n",
    "\n",
    "Remove the duplicates from the column *`state`* in *`df_8`* and assign the result to a new *dataframe* called *`ans9a`*.\n",
    "\n",
    "**HINT:** Use the *function [drop_duplicates](https://pandas.pydata.org/pandas-docs/stable/reference/api/pandas.DataFrame.drop_duplicates.html?highlight=drop_duplicates#pandas.DataFrame.drop_duplicates)*."
   ]
  },
  {
   "cell_type": "code",
   "execution_count": 13,
   "metadata": {},
   "outputs": [],
   "source": [
    "### GRADED\n",
    "### YOUR SOLUTION HERE\n",
    "ans9a = None\n",
    "\n",
    "### BEGIN SOLUTION\n",
    "ans9a = df_8.drop_duplicates(\"state\")\n",
    "### END SOLUTION"
   ]
  },
  {
   "cell_type": "markdown",
   "metadata": {},
   "source": [
    "## Question 10\n",
    "\n",
    "*6 points*\n",
    "\n",
    "Remove all the missing values in *`df_8`* and assign the result to a new *dataframe* called *`ans10a`*."
   ]
  },
  {
   "cell_type": "code",
   "execution_count": 14,
   "metadata": {},
   "outputs": [],
   "source": [
    "### GRADED\n",
    "### YOUR SOLUTION HERE\n",
    "ans10a = None\n",
    "\n",
    "### BEGIN SOLUTION\n",
    "ans10a = df_8.dropna()\n",
    "### END SOLUTION"
   ]
  },
  {
   "cell_type": "markdown",
   "metadata": {},
   "source": [
    "## Question 11\n",
    "\n",
    "*5 points*\n",
    "\n",
    "What day of the week was October 24, 1990? Assign your answer as a *string* to *`ans11a`*.\n"
   ]
  },
  {
   "cell_type": "code",
   "execution_count": 15,
   "metadata": {},
   "outputs": [],
   "source": [
    "### GRADED\n",
    "\n",
    "\n",
    "### YOUR SOLUTION HERE\n",
    "ans11a = None\n",
    "\n",
    "### BEGIN SOLUTION\n",
    "ans11a = pd.Series([1,2,3,4,5,6,7])\n",
    "ans11a.index = pd.date_range(start = '24/10/1990', periods = 7)\n",
    "ans11a.index.dayofweek\n",
    "ans11a = 'Wednesday'\n",
    "### END SOLUTION"
   ]
  },
  {
   "cell_type": "markdown",
   "metadata": {},
   "source": [
    "## Question 12\n",
    "\n",
    "*5 points*\n",
    "\n",
    "Use the *method* [is_leap_year](https://pandas.pydata.org/docs/reference/api/pandas.DatetimeIndex.is_leap_year.html) to check whether 2000 was a leap year. Assign your answer to *`ans12a.`*"
   ]
  },
  {
   "cell_type": "code",
   "execution_count": 16,
   "metadata": {},
   "outputs": [],
   "source": [
    "### GRADED\n",
    "\n",
    "\n",
    "### YOUR SOLUTION HERE\n",
    "ans12a = None\n",
    "\n",
    "### BEGIN SOLUTION\n",
    "ans12a = pd.date_range(\"1999-01-01\", \"2001-01-01\", freq=\"Y\")\n",
    "ans12a = ans12a.is_leap_year[1]\n",
    "### END SOLUTION"
   ]
  },
  {
   "cell_type": "markdown",
   "metadata": {},
   "source": [
    "## The Athletes Events Dataset\n",
    "\n",
    "In the next few questions, you will utilize the datasets `athlete_events.csv` and `regions.csv`.\n",
    "\n",
    "The datasets used throughout this activity are saved inside the folder `/data`.\n",
    "\n",
    "More information about this dataset can be found on Kaggle at this link:\n",
    "\n",
    "https://www.kaggle.com/heesoo37/120-years-of-olympic-history-athletes-and-results\n",
    "    \n",
    "**References:**\n",
    "Rgriffin. (2018). “120 years of Olympic history: athletes and results.” Accessed July 15, 2021. \n",
    "https://www.kaggle.com/heesoo37/120-years-of-olympic-history-athletes-and-results ."
   ]
  },
  {
   "cell_type": "markdown",
   "metadata": {},
   "source": [
    "Run the code cell below to load the datasets in `pandas`."
   ]
  },
  {
   "cell_type": "code",
   "execution_count": 22,
   "metadata": {},
   "outputs": [],
   "source": [
    "df_athletes = pd.read_csv(\"data/athlete_events.csv\")\n",
    "df_regions = pd.read_csv(\"data/noc_regions.csv\")"
   ]
  },
  {
   "cell_type": "markdown",
   "metadata": {},
   "source": [
    "Run the code cells below to visualize the first few rows in your *dataframe*."
   ]
  },
  {
   "cell_type": "code",
   "execution_count": 23,
   "metadata": {},
   "outputs": [
    {
     "data": {
      "text/html": [
       "<div>\n",
       "<style scoped>\n",
       "    .dataframe tbody tr th:only-of-type {\n",
       "        vertical-align: middle;\n",
       "    }\n",
       "\n",
       "    .dataframe tbody tr th {\n",
       "        vertical-align: top;\n",
       "    }\n",
       "\n",
       "    .dataframe thead th {\n",
       "        text-align: right;\n",
       "    }\n",
       "</style>\n",
       "<table border=\"1\" class=\"dataframe\">\n",
       "  <thead>\n",
       "    <tr style=\"text-align: right;\">\n",
       "      <th></th>\n",
       "      <th>ID</th>\n",
       "      <th>Name</th>\n",
       "      <th>Sex</th>\n",
       "      <th>Age</th>\n",
       "      <th>Height</th>\n",
       "      <th>Weight</th>\n",
       "      <th>Team</th>\n",
       "      <th>NOC</th>\n",
       "      <th>Games</th>\n",
       "      <th>Year</th>\n",
       "      <th>Season</th>\n",
       "      <th>City</th>\n",
       "      <th>Sport</th>\n",
       "      <th>Event</th>\n",
       "      <th>Medal</th>\n",
       "    </tr>\n",
       "  </thead>\n",
       "  <tbody>\n",
       "    <tr>\n",
       "      <th>0</th>\n",
       "      <td>1</td>\n",
       "      <td>A Dijiang</td>\n",
       "      <td>M</td>\n",
       "      <td>24.0</td>\n",
       "      <td>180.0</td>\n",
       "      <td>80.0</td>\n",
       "      <td>China</td>\n",
       "      <td>CHN</td>\n",
       "      <td>1992 Summer</td>\n",
       "      <td>1992</td>\n",
       "      <td>Summer</td>\n",
       "      <td>Barcelona</td>\n",
       "      <td>Basketball</td>\n",
       "      <td>Basketball Men's Basketball</td>\n",
       "      <td>NaN</td>\n",
       "    </tr>\n",
       "    <tr>\n",
       "      <th>1</th>\n",
       "      <td>2</td>\n",
       "      <td>A Lamusi</td>\n",
       "      <td>M</td>\n",
       "      <td>23.0</td>\n",
       "      <td>170.0</td>\n",
       "      <td>60.0</td>\n",
       "      <td>China</td>\n",
       "      <td>CHN</td>\n",
       "      <td>2012 Summer</td>\n",
       "      <td>2012</td>\n",
       "      <td>Summer</td>\n",
       "      <td>London</td>\n",
       "      <td>Judo</td>\n",
       "      <td>Judo Men's Extra-Lightweight</td>\n",
       "      <td>NaN</td>\n",
       "    </tr>\n",
       "    <tr>\n",
       "      <th>2</th>\n",
       "      <td>3</td>\n",
       "      <td>Gunnar Nielsen Aaby</td>\n",
       "      <td>M</td>\n",
       "      <td>24.0</td>\n",
       "      <td>NaN</td>\n",
       "      <td>NaN</td>\n",
       "      <td>Denmark</td>\n",
       "      <td>DEN</td>\n",
       "      <td>1920 Summer</td>\n",
       "      <td>1920</td>\n",
       "      <td>Summer</td>\n",
       "      <td>Antwerpen</td>\n",
       "      <td>Football</td>\n",
       "      <td>Football Men's Football</td>\n",
       "      <td>NaN</td>\n",
       "    </tr>\n",
       "    <tr>\n",
       "      <th>3</th>\n",
       "      <td>4</td>\n",
       "      <td>Edgar Lindenau Aabye</td>\n",
       "      <td>M</td>\n",
       "      <td>34.0</td>\n",
       "      <td>NaN</td>\n",
       "      <td>NaN</td>\n",
       "      <td>Denmark/Sweden</td>\n",
       "      <td>DEN</td>\n",
       "      <td>1900 Summer</td>\n",
       "      <td>1900</td>\n",
       "      <td>Summer</td>\n",
       "      <td>Paris</td>\n",
       "      <td>Tug-Of-War</td>\n",
       "      <td>Tug-Of-War Men's Tug-Of-War</td>\n",
       "      <td>Gold</td>\n",
       "    </tr>\n",
       "    <tr>\n",
       "      <th>4</th>\n",
       "      <td>5</td>\n",
       "      <td>Christine Jacoba Aaftink</td>\n",
       "      <td>F</td>\n",
       "      <td>21.0</td>\n",
       "      <td>185.0</td>\n",
       "      <td>82.0</td>\n",
       "      <td>Netherlands</td>\n",
       "      <td>NED</td>\n",
       "      <td>1988 Winter</td>\n",
       "      <td>1988</td>\n",
       "      <td>Winter</td>\n",
       "      <td>Calgary</td>\n",
       "      <td>Speed Skating</td>\n",
       "      <td>Speed Skating Women's 500 metres</td>\n",
       "      <td>NaN</td>\n",
       "    </tr>\n",
       "  </tbody>\n",
       "</table>\n",
       "</div>"
      ],
      "text/plain": [
       "   ID                      Name Sex   Age  Height  Weight            Team  \\\n",
       "0   1                 A Dijiang   M  24.0   180.0    80.0           China   \n",
       "1   2                  A Lamusi   M  23.0   170.0    60.0           China   \n",
       "2   3       Gunnar Nielsen Aaby   M  24.0     NaN     NaN         Denmark   \n",
       "3   4      Edgar Lindenau Aabye   M  34.0     NaN     NaN  Denmark/Sweden   \n",
       "4   5  Christine Jacoba Aaftink   F  21.0   185.0    82.0     Netherlands   \n",
       "\n",
       "   NOC        Games  Year  Season       City          Sport  \\\n",
       "0  CHN  1992 Summer  1992  Summer  Barcelona     Basketball   \n",
       "1  CHN  2012 Summer  2012  Summer     London           Judo   \n",
       "2  DEN  1920 Summer  1920  Summer  Antwerpen       Football   \n",
       "3  DEN  1900 Summer  1900  Summer      Paris     Tug-Of-War   \n",
       "4  NED  1988 Winter  1988  Winter    Calgary  Speed Skating   \n",
       "\n",
       "                              Event Medal  \n",
       "0       Basketball Men's Basketball   NaN  \n",
       "1      Judo Men's Extra-Lightweight   NaN  \n",
       "2           Football Men's Football   NaN  \n",
       "3       Tug-Of-War Men's Tug-Of-War  Gold  \n",
       "4  Speed Skating Women's 500 metres   NaN  "
      ]
     },
     "execution_count": 23,
     "metadata": {},
     "output_type": "execute_result"
    }
   ],
   "source": [
    "df_athletes.head()"
   ]
  },
  {
   "cell_type": "code",
   "execution_count": 24,
   "metadata": {},
   "outputs": [
    {
     "data": {
      "text/html": [
       "<div>\n",
       "<style scoped>\n",
       "    .dataframe tbody tr th:only-of-type {\n",
       "        vertical-align: middle;\n",
       "    }\n",
       "\n",
       "    .dataframe tbody tr th {\n",
       "        vertical-align: top;\n",
       "    }\n",
       "\n",
       "    .dataframe thead th {\n",
       "        text-align: right;\n",
       "    }\n",
       "</style>\n",
       "<table border=\"1\" class=\"dataframe\">\n",
       "  <thead>\n",
       "    <tr style=\"text-align: right;\">\n",
       "      <th></th>\n",
       "      <th>NOC</th>\n",
       "      <th>region</th>\n",
       "      <th>notes</th>\n",
       "    </tr>\n",
       "  </thead>\n",
       "  <tbody>\n",
       "    <tr>\n",
       "      <th>0</th>\n",
       "      <td>AFG</td>\n",
       "      <td>Afghanistan</td>\n",
       "      <td>NaN</td>\n",
       "    </tr>\n",
       "    <tr>\n",
       "      <th>1</th>\n",
       "      <td>AHO</td>\n",
       "      <td>Curacao</td>\n",
       "      <td>Netherlands Antilles</td>\n",
       "    </tr>\n",
       "    <tr>\n",
       "      <th>2</th>\n",
       "      <td>ALB</td>\n",
       "      <td>Albania</td>\n",
       "      <td>NaN</td>\n",
       "    </tr>\n",
       "    <tr>\n",
       "      <th>3</th>\n",
       "      <td>ALG</td>\n",
       "      <td>Algeria</td>\n",
       "      <td>NaN</td>\n",
       "    </tr>\n",
       "    <tr>\n",
       "      <th>4</th>\n",
       "      <td>AND</td>\n",
       "      <td>Andorra</td>\n",
       "      <td>NaN</td>\n",
       "    </tr>\n",
       "  </tbody>\n",
       "</table>\n",
       "</div>"
      ],
      "text/plain": [
       "   NOC       region                 notes\n",
       "0  AFG  Afghanistan                   NaN\n",
       "1  AHO      Curacao  Netherlands Antilles\n",
       "2  ALB      Albania                   NaN\n",
       "3  ALG      Algeria                   NaN\n",
       "4  AND      Andorra                   NaN"
      ]
     },
     "execution_count": 24,
     "metadata": {},
     "output_type": "execute_result"
    }
   ],
   "source": [
    "df_regions.head()"
   ]
  },
  {
   "cell_type": "markdown",
   "metadata": {},
   "source": [
    "### Question 13\n",
    "*10 points*\n",
    "\n",
    "Select all the rows from the *dataframe, `df_athlets`,* where `Year` is greater than 1980. Assign this *dataframe* to *`ans13a`*.\n",
    "\n",
    "Next, select all the rows in *`ans13a`* where `Team` is equal to `China`, `United States`, `Italy`, or `Spain`. Save your results in a *dataframe* called *`ans13b`*.\n",
    "\n",
    "**HINT**: To select only the desired countries, create a *list* containing the countries and use the *function* `isin` as follows:\n",
    "\n",
    "```Python\n",
    "df.Team.isin([list_with_countries])\n",
    "```"
   ]
  },
  {
   "cell_type": "code",
   "execution_count": 27,
   "metadata": {},
   "outputs": [],
   "source": [
    "### GRADED\n",
    "\n",
    "### YOUR SOLUTION HERE\n",
    "ans13a = None\n",
    "ans13b = None\n",
    "\n",
    "### BEGIN SOLUTION\n",
    "ans13a = df_athletes.loc[df_athletes.Year > 1980]\n",
    "ans13b = ans13a.loc[ans13a.Team.isin([\"China\", \"United States\", \"Italy\", \"Spain\"])]\n",
    "### END SOLUTION"
   ]
  },
  {
   "cell_type": "markdown",
   "metadata": {},
   "source": [
    "## Question 14\n",
    "*8 points*\n",
    "    \n",
    "Use a left *join* to combine the *dataframes `df_athlets`* and *`df_regions`* into a new *dataframe* called *`ans14a`*. Set the column `NOC` as the key column."
   ]
  },
  {
   "cell_type": "code",
   "execution_count": 28,
   "metadata": {},
   "outputs": [],
   "source": [
    "### GRADED\n",
    "\n",
    "### YOUR SOLUTION HERE\n",
    "ans14a = None\n",
    "\n",
    "### BEGIN SOLUTION\n",
    "ans14a = pd.merge(df_athletes, df_regions, on='NOC', how='left')\n",
    "### END SOLUTION"
   ]
  },
  {
   "cell_type": "markdown",
   "metadata": {},
   "source": [
    "## Question 15\n",
    "*6 points*\n",
    "\n",
    "*Pivot* the *dataframe `df_regions`*  by setting:\n",
    "\n",
    "- index = `region`\n",
    "- columns = `NOC`\n",
    "- values = `notes`\n",
    "\n",
    "Assign the new *dataframe* to *`ans15a`*."
   ]
  },
  {
   "cell_type": "code",
   "execution_count": 29,
   "metadata": {},
   "outputs": [],
   "source": [
    "### GRADED\n",
    "\n",
    "### YOUR SOLUTION HERE\n",
    "\n",
    "### BEGIN SOLUTION\n",
    "ans15a = df_regions.pivot(index = 'region', columns = 'NOC', values = 'notes')\n",
    "### END SOLUTION"
   ]
  },
  {
   "cell_type": "markdown",
   "metadata": {},
   "source": [
    "## Question 16\n",
    "*7 points*\n",
    "\n",
    "Group the entries of the *dataframe `df_athlets`* by the columns `\"Season\"` and `\"Medal\"`. Assign the new *dataframe* to *`ans16a`*.\n",
    "\n",
    "Answer the following question: \n",
    "\n",
    "In which Olympic games did the first group of athletes participate?\n",
    "- a) 2014 Winter\n",
    "- b) 1920 Summer\n",
    "- c) 1994 Summer\n",
    "- d) 1920 Winter\n",
    "\n",
    "Assign the letter of the correct answer as a *string* to *`ans16b`*.\n",
    "\n",
    "For instance, if you believe the correct answer is *a) 2014 Winter*, your answer would be *`ans16b = 'a'`*."
   ]
  },
  {
   "cell_type": "code",
   "execution_count": 30,
   "metadata": {},
   "outputs": [],
   "source": [
    "### GRADED\n",
    "\n",
    "### YOUR SOLUTION HERE\n",
    "ans16a = None\n",
    "ans16b =  None\n",
    "\n",
    "### BEGIN SOLUTION\n",
    "ans16a = df_athletes.groupby([\"Season\", \"Medal\"])\n",
    "ans16a.first()\n",
    "ans16b= 'b'\n",
    "### END SOLUTION"
   ]
  },
  {
   "cell_type": "markdown",
   "metadata": {},
   "source": [
    "### Question 17\n",
    "*7 points*\n",
    "\n",
    "Perform the following aggregation operations on *`df_athlets`*:\n",
    "\n",
    "- Compute the `max` and the `min` on the column *`Age`*.\n",
    "- Compute the `mean` on the column *`Weight`*.\n",
    "\n",
    "Assign the new *dataframe* to *`ans17a`*.\n",
    "\n",
    "**HINT:** Use the *function [aggregate()](https://pandas.pydata.org/pandas-docs/stable/reference/api/pandas.DataFrame.aggregate.html)* with the following syntax:\n",
    "\n",
    "```Python\n",
    "\n",
    "df.aggregate({first_column:['max', 'min'], second_column:['mean']})\n",
    "\n",
    "```"
   ]
  },
  {
   "cell_type": "code",
   "execution_count": 31,
   "metadata": {},
   "outputs": [],
   "source": [
    "### GRADED\n",
    "\n",
    "### YOUR SOLUTION HERE\n",
    "ans17a = None\n",
    "\n",
    "### BEGIN SOLUTION\n",
    "ans17a = df_athletes.aggregate({ \"Age\":['max', 'min'], \n",
    "              \"Weight\":['mean']}) \n",
    "### END SOLUTION"
   ]
  },
  {
   "cell_type": "code",
   "execution_count": null,
   "metadata": {},
   "outputs": [],
   "source": []
  }
 ],
 "metadata": {
  "kernelspec": {
   "display_name": "Python 3 (ipykernel)",
   "language": "python",
   "name": "python3"
  },
  "language_info": {
   "codemirror_mode": {
    "name": "ipython",
    "version": 3
   },
   "file_extension": ".py",
   "mimetype": "text/x-python",
   "name": "python",
   "nbconvert_exporter": "python",
   "pygments_lexer": "ipython3",
   "version": "3.9.9"
  }
 },
 "nbformat": 4,
 "nbformat_minor": 4
}
