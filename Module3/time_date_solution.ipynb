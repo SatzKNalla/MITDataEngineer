{
 "cells": [
  {
   "cell_type": "markdown",
   "metadata": {},
   "source": [
    "# Codio Coding Activity 3.3: Time and Date Functionality in Pandas\n",
    "\n",
    "### Learning Outcome Addressed\n",
    "\n",
    "- 6. Explain time and date functionality in pandas.\n",
    "\n",
    "\n",
    "## Index:\n",
    "\n",
    "- [Question 1](#Question-1)\n",
    "- [Question 2](#Question-2)\n",
    "- [Question 3](#Question-3)\n",
    "- [Question 4](#Question-4)\n",
    "- [Question 5](#Question-5)"
   ]
  },
  {
   "cell_type": "markdown",
   "metadata": {},
   "source": [
    "### Importing Pandas\n",
    "\n",
    "Before you begin this activity, you need to import the *pandas library*.\n",
    "\n",
    "Run the code cell below:"
   ]
  },
  {
   "cell_type": "code",
   "execution_count": 2,
   "metadata": {},
   "outputs": [],
   "source": [
    "import pandas as pd"
   ]
  },
  {
   "cell_type": "markdown",
   "metadata": {},
   "source": [
    "### Question 1\n",
    "*3 points*\n",
    "\n",
    "Define a *series, `ans1a,`* with elements *`first`, `second`, `third`,* and *`fourth`*.\n",
    "\n",
    "Modify the *index* of the *series* so that each element contains a date, starting from October 31, 1990."
   ]
  },
  {
   "cell_type": "code",
   "execution_count": 3,
   "metadata": {},
   "outputs": [],
   "source": [
    "### GRADED\n",
    "\n",
    "\n",
    "### YOUR SOLUTION HERE\n",
    "ans1a = None\n",
    "\n",
    "### BEGIN SOLUTION\n",
    "ans1a = pd.Series(['first', 'second', 'third', 'fourth'])\n",
    "ans1a.index = pd.date_range(start = '31/10/1990', periods = 4)\n",
    "### END SOLUTION"
   ]
  },
  {
   "cell_type": "markdown",
   "metadata": {},
   "source": [
    "### Question 2\n",
    "*3 points*\n",
    "\n",
    "Define a *series, `ans2a,`* with elements *`fifth`* and *`sixth`*.\n",
    "\n",
    "Use the *function* [append](https://pandas.pydata.org/docs/reference/api/pandas.Series.append.html) to concatenate *`ans1a`* and *`ans2a.`* Assign this new *series* to *`ans2b`*.\n"
   ]
  },
  {
   "cell_type": "code",
   "execution_count": 4,
   "metadata": {},
   "outputs": [],
   "source": [
    "### GRADED\n",
    "\n",
    "\n",
    "### YOUR SOLUTION HERE\n",
    "ans2a = None\n",
    "ans2b = None\n",
    "\n",
    "### BEGIN SOLUTION\n",
    "ans2a = pd.Series(['fifth', 'sixth'])\n",
    "ans2b = ans1a.append(ans2a)\n",
    "### END SOLUTION"
   ]
  },
  {
   "cell_type": "markdown",
   "metadata": {},
   "source": [
    "### Question 3\n",
    "*3 points*\n",
    "\n",
    "Modify the *index* of the *series `ans2b`* so that each element contains a date, spaced monthly, starting from December 31, 2000. Assign the new *series* to *`ans3a.`*\n",
    "\n",
    "**HINT:** The monthly frequency can be set using the argument *`freq`* equal to `M`."
   ]
  },
  {
   "cell_type": "code",
   "execution_count": 1,
   "metadata": {},
   "outputs": [
    {
     "ename": "NameError",
     "evalue": "name 'ans2b' is not defined",
     "output_type": "error",
     "traceback": [
      "\u001b[0;31m---------------------------------------------------------------------------\u001b[0m",
      "\u001b[0;31mNameError\u001b[0m                                 Traceback (most recent call last)",
      "\u001b[0;32m/var/folders/5w/7z6194rx60v3sjqsxz6x35dm0000gn/T/ipykernel_98187/3734581247.py\u001b[0m in \u001b[0;36m<module>\u001b[0;34m\u001b[0m\n\u001b[1;32m      6\u001b[0m \u001b[0;34m\u001b[0m\u001b[0m\n\u001b[1;32m      7\u001b[0m \u001b[0;31m### BEGIN SOLUTION\u001b[0m\u001b[0;34m\u001b[0m\u001b[0;34m\u001b[0m\u001b[0m\n\u001b[0;32m----> 8\u001b[0;31m \u001b[0mans3a\u001b[0m \u001b[0;34m=\u001b[0m \u001b[0mans2b\u001b[0m\u001b[0;34m\u001b[0m\u001b[0;34m\u001b[0m\u001b[0m\n\u001b[0m\u001b[1;32m      9\u001b[0m \u001b[0mans3a\u001b[0m\u001b[0;34m.\u001b[0m\u001b[0mindex\u001b[0m \u001b[0;34m=\u001b[0m \u001b[0mpd\u001b[0m\u001b[0;34m.\u001b[0m\u001b[0mdate_range\u001b[0m\u001b[0;34m(\u001b[0m\u001b[0mstart\u001b[0m \u001b[0;34m=\u001b[0m \u001b[0;34m'12/31/2000'\u001b[0m\u001b[0;34m,\u001b[0m \u001b[0mfreq\u001b[0m \u001b[0;34m=\u001b[0m \u001b[0;34m'M'\u001b[0m\u001b[0;34m,\u001b[0m \u001b[0mperiods\u001b[0m \u001b[0;34m=\u001b[0m \u001b[0;36m6\u001b[0m\u001b[0;34m)\u001b[0m\u001b[0;34m\u001b[0m\u001b[0;34m\u001b[0m\u001b[0m\n\u001b[1;32m     10\u001b[0m \u001b[0;31m### END SOLUTION\u001b[0m\u001b[0;34m\u001b[0m\u001b[0;34m\u001b[0m\u001b[0m\n",
      "\u001b[0;31mNameError\u001b[0m: name 'ans2b' is not defined"
     ]
    }
   ],
   "source": [
    "### GRADED\n",
    "\n",
    "\n",
    "### YOUR SOLUTION HERE\n",
    "ans3a = None\n",
    "\n",
    "### BEGIN SOLUTION\n",
    "ans3a = ans2b\n",
    "ans3a.index = pd.date_range(start = '12/31/2000', freq = 'M', periods = 6)\n",
    "### END SOLUTION"
   ]
  },
  {
   "cell_type": "markdown",
   "metadata": {},
   "source": [
    "### Question 4\n",
    "*5 points*\n",
    "\n",
    "What day of the week was December 15, 1989? Assign your answer as a *string* to *`ans4b`*.\n",
    "\n",
    "**HINT:** Begin by defining a *pandas series* with integer elements from 1 to 7. For testing purposes, define this list as *`ans4a`*. The variable ans4b should contain the answer as weekday name, not a number."
   ]
  },
  {
   "cell_type": "code",
   "execution_count": 6,
   "metadata": {},
   "outputs": [],
   "source": [
    "### GRADED\n",
    "\n",
    "\n",
    "### YOUR SOLUTION HERE\n",
    "ans4a = None\n",
    "ans4b = None\n",
    "\n",
    "### BEGIN SOLUTION\n",
    "ans4a = pd.Series([1,2,3,4,5,6,7])\n",
    "ans4a.index = pd.date_range(start = '15/12/1989', periods = 7)\n",
    "ans4a.index.dayofweek\n",
    "ans4b = 'Friday'\n",
    "### END SOLUTION"
   ]
  },
  {
   "cell_type": "markdown",
   "metadata": {},
   "source": [
    "### Question 5\n",
    "*6 points*\n",
    "\n",
    "Use the *method* [is_leap_year](https://pandas.pydata.org/docs/reference/api/pandas.DatetimeIndex.is_leap_year.html) to check whether 1994 was a leap year. Assign your answer to *`ans5b.`*\n",
    "\n",
    "**HINT:** Begin by defining a *pandas* datetime *index* with date elements from January 1, 1993 to December 31, 1994, included. Make sure the elements are spaced yearly by setting the argument *`freq`* equal to *`Y`*. For testing purposes, define this list as *`ans5a`*."
   ]
  },
  {
   "cell_type": "code",
   "execution_count": 8,
   "metadata": {},
   "outputs": [],
   "source": [
    "### GRADED\n",
    "\n",
    "\n",
    "### YOUR SOLUTION HERE\n",
    "ans5a = None\n",
    "ans5b = None\n",
    "\n",
    "### BEGIN SOLUTION\n",
    "ans5a = pd.date_range(\"1993-01-01\", \"1995-01-01\", freq=\"Y\")\n",
    "ans5b = ans5a.is_leap_year[1]\n",
    "### END SOLUTION"
   ]
  },
  {
   "cell_type": "code",
   "execution_count": null,
   "metadata": {},
   "outputs": [],
   "source": []
  }
 ],
 "metadata": {
  "kernelspec": {
   "display_name": "Python 3",
   "language": "python",
   "name": "python3"
  },
  "language_info": {
   "codemirror_mode": {
    "name": "ipython",
    "version": 3
   },
   "file_extension": ".py",
   "mimetype": "text/x-python",
   "name": "python",
   "nbconvert_exporter": "python",
   "pygments_lexer": "ipython3",
   "version": "3.9.1"
  }
 },
 "nbformat": 4,
 "nbformat_minor": 4
}
