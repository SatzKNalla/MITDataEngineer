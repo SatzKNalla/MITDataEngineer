{
 "cells": [
  {
   "cell_type": "code",
   "execution_count": 1,
   "id": "4f49cf77-3b7b-4d26-8793-909f302d1588",
   "metadata": {},
   "outputs": [],
   "source": [
    "import numpy as np\n",
    "import pandas as pd\n",
    "import seaborn as sns"
   ]
  },
  {
   "cell_type": "code",
   "execution_count": null,
   "id": "44223977-3fa6-495a-bd03-6f2460f082b8",
   "metadata": {},
   "outputs": [],
   "source": []
  },
  {
   "cell_type": "code",
   "execution_count": 7,
   "id": "d610b9c4-3cac-4020-969a-eb3630c16ad3",
   "metadata": {},
   "outputs": [],
   "source": [
    "data = np.array([5,4,4,9,9,8,2,0,3,6])\n",
    "dataMean = data.mean()\n",
    "dataVar = np.var(data)\n"
   ]
  },
  {
   "cell_type": "code",
   "execution_count": 12,
   "id": "0c78e3c6-7986-4ed5-bea1-067fcb24f57b",
   "metadata": {},
   "outputs": [
    {
     "data": {
      "text/plain": [
       "(5.0, 5.6, 8.2, 8.3)"
      ]
     },
     "execution_count": 12,
     "metadata": {},
     "output_type": "execute_result"
    }
   ],
   "source": [
    "sampleData = np.array([5,4,9,8,2])\n",
    "sampleDataMean = sampleData.mean()\n",
    "sampleDataVar = np.var(sampleData, ddof=1)\n",
    "dataMean, sampleDataMean, dataVar, sampleDataVar"
   ]
  },
  {
   "cell_type": "code",
   "execution_count": 25,
   "id": "0c3f5587-6fd2-42fe-b1e7-6c9303e459b6",
   "metadata": {},
   "outputs": [
    {
     "name": "stdout",
     "output_type": "stream",
     "text": [
      "46.17477209021389 828.4269056120786\n"
     ]
    },
    {
     "data": {
      "image/png": "[encoded data removed]",
      "text/plain": [
       "<Figure size 432x288 with 1 Axes>"
      ]
     },
     "metadata": {
      "needs_background": "light"
     },
     "output_type": "display_data"
    }
   ],
   "source": [
    "import matplotlib.pyplot as plt\n",
    "from scipy.stats import norm\n",
    "\n",
    "Npoints = 200\n",
    "diffMean = []\n",
    "diffVariance = []\n",
    "bestMean = []\n",
    "bestVar = []\n",
    "p=np.random.uniform(0,100,Npoints)\n",
    "pmean = p.mean()\n",
    "pvar = np.var(p)\n",
    "N=1000\n",
    "\n",
    "for i in range(N):\n",
    "    sample = np.random.choice(p,50)\n",
    "    smean = sample.mean()\n",
    "    svar = np.var(sample,ddof=1)\n",
    "    \n",
    "    diffMean.append(pmean-smean)\n",
    "    bestMean.append(np.sum(diffMean)/(len(diffMean)))\n",
    "    diffVariance.append(pvar-svar)\n",
    "    bestVar.append(np.sum(diffVariance)/len(diffVariance))\n",
    "\n",
    "plt.scatter(range(N), bestMean, color='b', label = 'Mean Error')\n",
    "plt.ylabel('Error')\n",
    "plt.scatter(range(N), bestVar, color='g', label = 'Variance Error')\n",
    "plt.legend(loc='upper right')\n",
    "print(pmean, pvar)"
   ]
  },
  {
   "cell_type": "code",
   "execution_count": null,
   "id": "a428ff95-da9d-4e12-ae2a-79caabbbf00f",
   "metadata": {},
   "outputs": [],
   "source": []
  },
  {
   "cell_type": "code",
   "execution_count": 31,
   "id": "e1fb7b8e-35ef-433e-8272-0edfb5718d85",
   "metadata": {},
   "outputs": [
    {
     "name": "stdout",
     "output_type": "stream",
     "text": [
      "33.2\n",
      "24.2\n",
      "17.2\n",
      "12.2\n",
      "9.2\n",
      "8.2\n",
      "9.2\n",
      "12.2\n",
      "17.2\n",
      "24.2\n",
      "39.25\n",
      "27.0\n",
      "17.25\n",
      "10.0\n",
      "5.25\n",
      "3.0\n",
      "3.25\n",
      "6.0\n",
      "11.25\n",
      "19.0\n"
     ]
    },
    {
     "data": {
      "text/plain": [
       "<matplotlib.legend.Legend at 0x29cacdd2790>"
      ]
     },
     "execution_count": 31,
     "metadata": {},
     "output_type": "execute_result"
    },
    {
     "data": {
      "image/png": "[encoded data removed]",
      "text/plain": [
       "<Figure size 432x288 with 1 Axes>"
      ]
     },
     "metadata": {
      "needs_background": "light"
     },
     "output_type": "display_data"
    }
   ],
   "source": [
    "population = np.array([5,4,4,9,9,8,2,0,3,6])\n",
    "sample = np.array([5,4,4,8,6])\n",
    "\n",
    "def variance(sample, mean, bias):\n",
    "    s2 = 0\n",
    "    for i in range(0,len(sample)):\n",
    "        x= sample[i]-mean\n",
    "        s2=s2 + (x * x)\n",
    "    var = s2/(len(sample)-bias)\n",
    "    print(var)\n",
    "    return var\n",
    "\n",
    "N = 10\n",
    "var_pop = []\n",
    "var_sample = []\n",
    "\n",
    "for mean in range(0,N):\n",
    "    var_pop.append(variance(population, mean,0))\n",
    "\n",
    "for mean in range(0,N):\n",
    "    var_sample.append(variance(sample, mean,1))\n",
    "    \n",
    "plt.scatter(range(N), var_pop, color = 'b', label = 'Population')\n",
    "plt.scatter(range(N), var_sample, color = 'r', label = 'Sample')\n",
    "plt.ylabel('Variance')\n",
    "plt.xlabel('Mean')\n",
    "\n",
    "\n",
    "plt.legend(loc='upper right')"
   ]
  },
  {
   "cell_type": "code",
   "execution_count": 54,
   "id": "67309e0c-c4cb-4b06-8eea-4c787fb660de",
   "metadata": {},
   "outputs": [
    {
     "data": {
      "text/plain": [
       "7.242620765686655"
      ]
     },
     "execution_count": 54,
     "metadata": {},
     "output_type": "execute_result"
    }
   ],
   "source": [
    "blood_pressure = np.array([76,64,62,81,70,72,81,63,67,77])\n",
    "m = blood_pressure.mean()\n",
    "deviation = blood_pressure-m\n",
    "dev2 = sum(deviation*deviation)\n",
    "var=dev2/(len(deviation)-1)\n",
    "standard_deviation = np.sqrt(var)\n",
    "\n",
    "\n",
    "'''\n",
    "sample, sample_DeviationMean, sample_SquateDeviation\n",
    "sampleDf = pd.DataFrame(data = [sample,sample_DeviationMean,sample_SquateDeviation]).transpose()\n",
    "sampleDf\n",
    "columnNames = ['Blood Pressure','Deviation from Mean','Square Deviation']\n",
    "\n",
    "sampleDf.columns= columnNames\n",
    "sampleDf\n",
    "            \n",
    "\n",
    "'''\n",
    "standard_deviation\n",
    "\n",
    "data = {'Blood Pressure':blood_pressure}\n",
    "df = pd.DataFrame(data)\n",
    "df['Deviation from Mean'] = deviation\n",
    "df['Square Deviation'] = deviation*deviation\n",
    "##df\n",
    "standard_deviation"
   ]
  },
  {
   "cell_type": "code",
   "execution_count": 21,
   "id": "dc84b659-96df-46e6-bcb7-58cabb6cd015",
   "metadata": {},
   "outputs": [
    {
     "name": "stdout",
     "output_type": "stream",
     "text": [
      "Population Mean: 3.49964\n",
      "Population Variance S2: 2.9182998704\n",
      "Sample unbiased Variance S2: 2.918329053690537\n"
     ]
    }
   ],
   "source": [
    "s = np.random.randint(1,7,100000)\n",
    "Va = s.var()\n",
    "Sv = s.var(ddof=1)\n",
    "print(f'Population Mean: {s.mean()}')\n",
    "print(f'Population Variance S2: {Va}')\n",
    "print(f'Sample unbiased Variance S2: {Sv}')"
   ]
  },
  {
   "cell_type": "code",
   "execution_count": 11,
   "id": "a8c71a5c-b9da-410d-a040-2c7610f91434",
   "metadata": {},
   "outputs": [
    {
     "name": "stdout",
     "output_type": "stream",
     "text": [
      "Population Variance S2: 2.9121778391\n",
      "var Sample: 0.5851639999999999\n",
      "var Sample: 0.14856874999999997\n",
      "var Sample: 0.029241439999999994\n",
      "Best Estimate N*S2_sample: [2.9258199999999994, 2.971374999999999, 2.924143999999999]\n",
      "Unbiased Estimate : 2.8342424242424245\n",
      "Biased Estimate : 2.8059000000000003\n"
     ]
    },
    {
     "data": {
      "image/png": "[encoded data removed]",
      "text/plain": [
       "<Figure size 432x288 with 1 Axes>"
      ]
     },
     "metadata": {
      "needs_background": "light"
     },
     "output_type": "display_data"
    }
   ],
   "source": [
    "s = np.random.randint(1,7,100000)\n",
    "print(f'Population Variance S2: {s.var()}')\n",
    "\n",
    "x = 500\n",
    "V = []\n",
    "\n",
    "def getDistribution(s,M,N):\n",
    "    samples = []\n",
    "    np.random.seed(seed=3)\n",
    "    for i in np.arange(N):\n",
    "        sample = np.random.choice(s,M).sum()/M\n",
    "        samples.append(sample)\n",
    "    return samples\n",
    "\n",
    "N = 100\n",
    "for M in [5,20,100]:\n",
    "    S = getDistribution(s,M,N)\n",
    "    s2 = np.array(S).var(ddof = 0)\n",
    "    V.append({M:s2})\n",
    "    sns.kdeplot(data = S)\n",
    "    print(f'var Sample: {s2}')\n",
    "        \n",
    "print(f'Best Estimate N*S2_sample: {[list(var.keys())[0] * list(var.values())[0] for index, var in enumerate(V)]}')\n",
    "\n",
    "testSample = np.array(np.random.choice(s,100))\n",
    "print(f'Unbiased Estimate : {testSample.var(ddof = 1)}')\n",
    "print(f'Biased Estimate : {testSample.var(ddof = 0)}')"
   ]
  },
  {
   "cell_type": "code",
   "execution_count": 49,
   "id": "453035cf-3698-4ad7-b373-ab26cad4fe6f",
   "metadata": {},
   "outputs": [],
   "source": [
    "drinks = pd.read_csv('https://bit.ly/drinksbycountry')"
   ]
  },
  {
   "cell_type": "code",
   "execution_count": 48,
   "id": "8efc811c-5bcc-45bf-b03c-1e4b768b4d71",
   "metadata": {},
   "outputs": [
    {
     "data": {
      "text/html": [
       "<div>\n",
       "<style scoped>\n",
       "    .dataframe tbody tr th:only-of-type {\n",
       "        vertical-align: middle;\n",
       "    }\n",
       "\n",
       "    .dataframe tbody tr th {\n",
       "        vertical-align: top;\n",
       "    }\n",
       "\n",
       "    .dataframe thead th {\n",
       "        text-align: right;\n",
       "    }\n",
       "</style>\n",
       "<table border=\"1\" class=\"dataframe\">\n",
       "  <thead>\n",
       "    <tr style=\"text-align: right;\">\n",
       "      <th></th>\n",
       "      <th>country</th>\n",
       "      <th>beer_servings</th>\n",
       "      <th>spirit_servings</th>\n",
       "      <th>wine_servings</th>\n",
       "      <th>total_litres_of_pure_alcohol</th>\n",
       "      <th>continent</th>\n",
       "      <th>country_Numeric</th>\n",
       "      <th>continent_Numeric</th>\n",
       "      <th>country_Numeric_Numeric</th>\n",
       "      <th>continent_Numeric_Numeric</th>\n",
       "      <th>country_Numeric_Numeric_Numeric</th>\n",
       "      <th>continent_Numeric_Numeric_Numeric</th>\n",
       "    </tr>\n",
       "  </thead>\n",
       "  <tbody>\n",
       "    <tr>\n",
       "      <th>0</th>\n",
       "      <td>Afghanistan</td>\n",
       "      <td>0</td>\n",
       "      <td>0</td>\n",
       "      <td>0</td>\n",
       "      <td>0.0</td>\n",
       "      <td>Asia</td>\n",
       "      <td>Afghanistan</td>\n",
       "      <td>Asia</td>\n",
       "      <td>Afghanistan</td>\n",
       "      <td>Asia</td>\n",
       "      <td>Afghanistan</td>\n",
       "      <td>Asia</td>\n",
       "    </tr>\n",
       "    <tr>\n",
       "      <th>1</th>\n",
       "      <td>Albania</td>\n",
       "      <td>89</td>\n",
       "      <td>132</td>\n",
       "      <td>54</td>\n",
       "      <td>4.9</td>\n",
       "      <td>Europe</td>\n",
       "      <td>Albania</td>\n",
       "      <td>Europe</td>\n",
       "      <td>Albania</td>\n",
       "      <td>Europe</td>\n",
       "      <td>Albania</td>\n",
       "      <td>Europe</td>\n",
       "    </tr>\n",
       "    <tr>\n",
       "      <th>2</th>\n",
       "      <td>Algeria</td>\n",
       "      <td>25</td>\n",
       "      <td>0</td>\n",
       "      <td>14</td>\n",
       "      <td>0.7</td>\n",
       "      <td>Africa</td>\n",
       "      <td>Algeria</td>\n",
       "      <td>Africa</td>\n",
       "      <td>Algeria</td>\n",
       "      <td>Africa</td>\n",
       "      <td>Algeria</td>\n",
       "      <td>Africa</td>\n",
       "    </tr>\n",
       "    <tr>\n",
       "      <th>3</th>\n",
       "      <td>Andorra</td>\n",
       "      <td>245</td>\n",
       "      <td>138</td>\n",
       "      <td>312</td>\n",
       "      <td>12.4</td>\n",
       "      <td>Europe</td>\n",
       "      <td>Andorra</td>\n",
       "      <td>Europe</td>\n",
       "      <td>Andorra</td>\n",
       "      <td>Europe</td>\n",
       "      <td>Andorra</td>\n",
       "      <td>Europe</td>\n",
       "    </tr>\n",
       "    <tr>\n",
       "      <th>4</th>\n",
       "      <td>Angola</td>\n",
       "      <td>217</td>\n",
       "      <td>57</td>\n",
       "      <td>45</td>\n",
       "      <td>5.9</td>\n",
       "      <td>Africa</td>\n",
       "      <td>Angola</td>\n",
       "      <td>Africa</td>\n",
       "      <td>Angola</td>\n",
       "      <td>Africa</td>\n",
       "      <td>Angola</td>\n",
       "      <td>Africa</td>\n",
       "    </tr>\n",
       "  </tbody>\n",
       "</table>\n",
       "</div>"
      ],
      "text/plain": [
       "       country  beer_servings  spirit_servings  wine_servings  \\\n",
       "0  Afghanistan              0                0              0   \n",
       "1      Albania             89              132             54   \n",
       "2      Algeria             25                0             14   \n",
       "3      Andorra            245              138            312   \n",
       "4       Angola            217               57             45   \n",
       "\n",
       "   total_litres_of_pure_alcohol continent country_Numeric continent_Numeric  \\\n",
       "0                           0.0      Asia     Afghanistan              Asia   \n",
       "1                           4.9    Europe         Albania            Europe   \n",
       "2                           0.7    Africa         Algeria            Africa   \n",
       "3                          12.4    Europe         Andorra            Europe   \n",
       "4                           5.9    Africa          Angola            Africa   \n",
       "\n",
       "  country_Numeric_Numeric continent_Numeric_Numeric  \\\n",
       "0             Afghanistan                      Asia   \n",
       "1                 Albania                    Europe   \n",
       "2                 Algeria                    Africa   \n",
       "3                 Andorra                    Europe   \n",
       "4                  Angola                    Africa   \n",
       "\n",
       "  country_Numeric_Numeric_Numeric continent_Numeric_Numeric_Numeric  \n",
       "0                     Afghanistan                              Asia  \n",
       "1                         Albania                            Europe  \n",
       "2                         Algeria                            Africa  \n",
       "3                         Andorra                            Europe  \n",
       "4                          Angola                            Africa  "
      ]
     },
     "execution_count": 48,
     "metadata": {},
     "output_type": "execute_result"
    }
   ],
   "source": [
    "drinks.head()\n"
   ]
  },
  {
   "cell_type": "code",
   "execution_count": 23,
   "id": "70009c30-cab8-4aea-b9a2-870cb512e839",
   "metadata": {},
   "outputs": [
    {
     "data": {
      "text/html": [
       "<div>\n",
       "<style scoped>\n",
       "    .dataframe tbody tr th:only-of-type {\n",
       "        vertical-align: middle;\n",
       "    }\n",
       "\n",
       "    .dataframe tbody tr th {\n",
       "        vertical-align: top;\n",
       "    }\n",
       "\n",
       "    .dataframe thead th {\n",
       "        text-align: right;\n",
       "    }\n",
       "</style>\n",
       "<table border=\"1\" class=\"dataframe\">\n",
       "  <thead>\n",
       "    <tr style=\"text-align: right;\">\n",
       "      <th></th>\n",
       "      <th>beer_servings</th>\n",
       "      <th>spirit_servings</th>\n",
       "      <th>wine_servings</th>\n",
       "      <th>total_litres_of_pure_alcohol</th>\n",
       "    </tr>\n",
       "  </thead>\n",
       "  <tbody>\n",
       "    <tr>\n",
       "      <th>beer_servings</th>\n",
       "      <td>1.000000</td>\n",
       "      <td>-0.073411</td>\n",
       "      <td>0.409038</td>\n",
       "      <td>0.612514</td>\n",
       "    </tr>\n",
       "    <tr>\n",
       "      <th>spirit_servings</th>\n",
       "      <td>-0.073411</td>\n",
       "      <td>1.000000</td>\n",
       "      <td>0.219815</td>\n",
       "      <td>0.720400</td>\n",
       "    </tr>\n",
       "    <tr>\n",
       "      <th>wine_servings</th>\n",
       "      <td>0.409038</td>\n",
       "      <td>0.219815</td>\n",
       "      <td>1.000000</td>\n",
       "      <td>0.608532</td>\n",
       "    </tr>\n",
       "    <tr>\n",
       "      <th>total_litres_of_pure_alcohol</th>\n",
       "      <td>0.612514</td>\n",
       "      <td>0.720400</td>\n",
       "      <td>0.608532</td>\n",
       "      <td>1.000000</td>\n",
       "    </tr>\n",
       "  </tbody>\n",
       "</table>\n",
       "</div>"
      ],
      "text/plain": [
       "                              beer_servings  spirit_servings  wine_servings  \\\n",
       "beer_servings                      1.000000        -0.073411       0.409038   \n",
       "spirit_servings                   -0.073411         1.000000       0.219815   \n",
       "wine_servings                      0.409038         0.219815       1.000000   \n",
       "total_litres_of_pure_alcohol       0.612514         0.720400       0.608532   \n",
       "\n",
       "                              total_litres_of_pure_alcohol  \n",
       "beer_servings                                     0.612514  \n",
       "spirit_servings                                   0.720400  \n",
       "wine_servings                                     0.608532  \n",
       "total_litres_of_pure_alcohol                      1.000000  "
      ]
     },
     "execution_count": 23,
     "metadata": {},
     "output_type": "execute_result"
    }
   ],
   "source": [
    "drinks.head()\n",
    "\n",
    "asia = drinks.loc[drinks['continent'] == 'Asia']\n",
    "asia.head()\n",
    "asia.corr()\n",
    "\n",
    "NA = drinks.loc[drinks['continent'] == 'North America']\n",
    "import reNA.head()\n",
    "NA.corr()"
   ]
  },
  {
   "cell_type": "code",
   "execution_count": 51,
   "id": "4e96530e-ae52-4cf7-bbc4-df6aa1c1bbac",
   "metadata": {},
   "outputs": [
    {
     "name": "stdout",
     "output_type": "stream",
     "text": [
      "<class 'pandas.core.frame.DataFrame'>\n",
      "RangeIndex: 193 entries, 0 to 192\n",
      "Data columns (total 8 columns):\n",
      " #   Column                        Non-Null Count  Dtype  \n",
      "---  ------                        --------------  -----  \n",
      " 0   country                       193 non-null    object \n",
      " 1   beer_servings                 193 non-null    int64  \n",
      " 2   spirit_servings               193 non-null    int64  \n",
      " 3   wine_servings                 193 non-null    int64  \n",
      " 4   total_litres_of_pure_alcohol  193 non-null    float64\n",
      " 5   continent                     193 non-null    object \n",
      " 6   continent_Numeric             193 non-null    object \n",
      " 7   country_Numeric               193 non-null    object \n",
      "dtypes: float64(1), int64(3), object(4)\n",
      "memory usage: 12.2+ KB\n",
      "(193, 4)\n",
      "Index(['country', 'continent', 'continent_Numeric', 'country_Numeric'], dtype='object')\n",
      "['country', 'continent', 'continent_Numeric', 'country_Numeric']\n",
      "['continent', 'country']\n",
      "continent\n",
      "country\n",
      "{'continent': {'North America': 0, 'Africa': 1, 'Europe': 2, 'Asia': 3, 'Oceania': 4, 'South America': 5}, 'country': {'Kenya': 0, 'Fiji': 1, 'Japan': 2, 'Qatar': 3, 'Georgia': 4, 'Peru': 5, 'Poland': 6, 'Paraguay': 7, 'Finland': 8, 'Andorra': 9, 'Equatorial Guinea': 10, 'Australia': 11, 'Sri Lanka': 12, 'Zimbabwe': 13, 'Iraq': 14, 'Cook Islands': 15, 'Zambia': 16, 'Ecuador': 17, 'Angola': 18, 'Serbia': 19, 'Papua New Guinea': 20, 'Armenia': 21, 'United Kingdom': 22, 'Syria': 23, 'Trinidad & Tobago': 24, 'Mexico': 25, 'Belize': 26, 'Mauritania': 27, 'Afghanistan': 28, 'Dominican Republic': 29, 'Spain': 30, 'France': 31, 'Egypt': 32, 'Lithuania': 33, 'Belgium': 34, 'Jamaica': 35, 'Moldova': 36, 'Maldives': 37, 'Belarus': 38, 'Ethiopia': 39, 'Liberia': 40, 'Algeria': 41, 'Tunisia': 42, 'Estonia': 43, 'Netherlands': 44, 'India': 45, 'Latvia': 46, 'Mongolia': 47, 'Antigua & Barbuda': 48, 'Bolivia': 49, 'Costa Rica': 50, 'San Marino': 51, 'Laos': 52, 'Ireland': 53, 'Brazil': 54, 'Haiti': 55, 'Kiribati': 56, 'Italy': 57, 'Russian Federation': 58, 'Comoros': 59, 'Solomon Islands': 60, 'Cyprus': 61, 'Brunei': 62, 'Bosnia-Herzegovina': 63, 'Canada': 64, 'Singapore': 65, 'St. Kitts & Nevis': 66, 'Slovakia': 67, 'Chad': 68, 'St. Vincent & the Grenadines': 69, 'Niue': 70, 'Rwanda': 71, 'Malta': 72, 'Somalia': 73, 'Norway': 74, 'Morocco': 75, 'Czech Republic': 76, 'Guinea': 77, 'Malawi': 78, 'Kyrgyzstan': 79, 'Djibouti': 80, 'Cambodia': 81, 'Sao Tome & Principe': 82, 'Dominica': 83, 'Turkey': 84, 'Philippines': 85, 'Guinea-Bissau': 86, 'Central African Republic': 87, 'Ghana': 88, 'Guatemala': 89, 'Guyana': 90, 'Lesotho': 91, 'Indonesia': 92, 'Pakistan': 93, 'Oman': 94, 'Tonga': 95, 'Sweden': 96, \"Cote d'Ivoire\": 97, 'Uganda': 98, 'Myanmar': 99, 'Vanuatu': 100, 'Kazakhstan': 101, 'Eritrea': 102, 'Cuba': 103, 'Benin': 104, 'United Arab Emirates': 105, 'Congo': 106, 'Gabon': 107, 'Timor-Leste': 108, 'Bulgaria': 109, 'Tajikistan': 110, 'Ukraine': 111, 'Montenegro': 112, 'Iceland': 113, 'North Korea': 114, 'Madagascar': 115, 'Azerbaijan': 116, 'Croatia': 117, 'Chile': 118, 'Niger': 119, 'Venezuela': 120, 'Austria': 121, 'Jordan': 122, 'Malaysia': 123, 'El Salvador': 124, 'Iran': 125, 'Denmark': 126, 'Argentina': 127, 'Micronesia': 128, 'Mozambique': 129, 'South Korea': 130, 'Kuwait': 131, 'Sudan': 132, 'Albania': 133, 'Tanzania': 134, 'Turkmenistan': 135, 'Tuvalu': 136, 'Sierra Leone': 137, 'Libya': 138, 'Barbados': 139, 'Cabo Verde': 140, 'Nepal': 141, 'Greece': 142, 'Israel': 143, 'Portugal': 144, 'Bhutan': 145, 'New Zealand': 146, 'Senegal': 147, 'DR Congo': 148, 'Swaziland': 149, 'Switzerland': 150, 'Gambia': 151, 'Samoa': 152, 'Nicaragua': 153, 'Germany': 154, 'Monaco': 155, 'Panama': 156, 'Suriname': 157, 'Togo': 158, 'Mauritius': 159, 'Vietnam': 160, 'South Africa': 161, 'Colombia': 162, 'Bangladesh': 163, 'Nigeria': 164, 'Uzbekistan': 165, 'Lebanon': 166, 'Botswana': 167, 'Thailand': 168, 'St. Lucia': 169, 'Namibia': 170, 'Nauru': 171, 'Burkina Faso': 172, 'Cameroon': 173, 'Luxembourg': 174, 'Mali': 175, 'Slovenia': 176, 'Saudi Arabia': 177, 'Grenada': 178, 'Seychelles': 179, 'Yemen': 180, 'Burundi': 181, 'Honduras': 182, 'Uruguay': 183, 'Marshall Islands': 184, 'Macedonia': 185, 'Hungary': 186, 'China': 187, 'Bahrain': 188, 'Romania': 189, 'USA': 190, 'Bahamas': 191, 'Palau': 192}}\n"
     ]
    },
    {
     "data": {
      "text/plain": [
       "<bound method DataFrame.info of          country  beer_servings  spirit_servings  wine_servings  \\\n",
       "0    Afghanistan              0                0              0   \n",
       "1        Albania             89              132             54   \n",
       "2        Algeria             25                0             14   \n",
       "3        Andorra            245              138            312   \n",
       "4         Angola            217               57             45   \n",
       "..           ...            ...              ...            ...   \n",
       "188    Venezuela            333              100              3   \n",
       "189      Vietnam            111                2              1   \n",
       "190        Yemen              6                0              0   \n",
       "191       Zambia             32               19              4   \n",
       "192     Zimbabwe             64               18              4   \n",
       "\n",
       "     total_litres_of_pure_alcohol      continent continent_Numeric  \\\n",
       "0                             0.0           Asia              Asia   \n",
       "1                             4.9         Europe            Europe   \n",
       "2                             0.7         Africa            Africa   \n",
       "3                            12.4         Europe            Europe   \n",
       "4                             5.9         Africa            Africa   \n",
       "..                            ...            ...               ...   \n",
       "188                           7.7  South America     South America   \n",
       "189                           2.0           Asia              Asia   \n",
       "190                           0.1           Asia              Asia   \n",
       "191                           2.5         Africa            Africa   \n",
       "192                           4.7         Africa            Africa   \n",
       "\n",
       "    country_Numeric  \n",
       "0       Afghanistan  \n",
       "1           Albania  \n",
       "2           Algeria  \n",
       "3           Andorra  \n",
       "4            Angola  \n",
       "..              ...  \n",
       "188       Venezuela  \n",
       "189         Vietnam  \n",
       "190           Yemen  \n",
       "191          Zambia  \n",
       "192        Zimbabwe  \n",
       "\n",
       "[193 rows x 8 columns]>"
      ]
     },
     "execution_count": 51,
     "metadata": {},
     "output_type": "execute_result"
    }
   ],
   "source": [
    "import re\n",
    "drinks.info()\n",
    "\n",
    "stringCols = drinks.select_dtypes(exclude=[np.number])\n",
    "print(stringCols.shape)\n",
    "print(stringCols.columns)\n",
    "numberDict = {}\n",
    "stringCols = list(stringCols)\n",
    "print(stringCols)\n",
    "stringCols = list(set([re.sub('_Numeric', '', fname) for fname in stringCols]))\n",
    "print(stringCols)\n",
    "for col in stringCols:\n",
    "    print(col)\n",
    "    temp = list(drinks[col])\n",
    "    temp = set(temp)\n",
    "    numberDict[col] = {}\n",
    "    for id, val in enumerate(temp):\n",
    "        numberDict[col][val]=id\n",
    "    drinks[col+'_Numeric'] = drinks[col]\n",
    "    #drinks[col+'_Numeric'].replace(to_replace=numberDict[col], inplace = True)\n",
    "    \n",
    "print(numberDict)\n",
    "drinks.info\n",
    "        "
   ]
  }
 ],
 "metadata": {
  "kernelspec": {
   "display_name": "Python 3",
   "language": "python",
   "name": "python3"
  },
  "language_info": {
   "codemirror_mode": {
    "name": "ipython",
    "version": 3
   },
   "file_extension": ".py",
   "mimetype": "text/x-python",
   "name": "python",
   "nbconvert_exporter": "python",
   "pygments_lexer": "ipython3",
   "version": "3.9.1"
  }
 },
 "nbformat": 4,
 "nbformat_minor": 5
}
