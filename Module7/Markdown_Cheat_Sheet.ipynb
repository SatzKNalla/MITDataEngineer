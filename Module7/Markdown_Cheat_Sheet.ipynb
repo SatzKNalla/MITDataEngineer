{
 "cells": [
  {
   "cell_type": "markdown",
   "id": "68444bca",
   "metadata": {},
   "source": [
    "## Markdown Cheat Sheet"
   ]
  },
  {
   "cell_type": "markdown",
   "id": "6c7723f4",
   "metadata": {},
   "source": [
    "### Table of Contents\n",
    "1. [Headings](#anchor-ID-1)\n",
    "2. [Emphasis](#anchor-ID-2)\n",
    "3. [Italics](#anchor-ID-3)\n",
    "4. [Block Quote](#anchor-ID-4)\n",
    "5. [Ordered Lists](#anchor-ID-5)\n",
    "6. [Unordered Lists (Bullet Points)](#anchor-ID-6)\n",
    "7. [Links](#anchor-ID-7)\n",
    "8. [Images](#anchor-ID-8)\n",
    "9. [Tables](#anchor-ID-9)\n",
    "10. [Python code in a Markdown cell](#anchor-ID-10)\n",
    "11. [LaTeX](#anchor-ID-11)\n",
    "12. [Underline](#anchor-ID-12)"
   ]
  },
  {
   "cell_type": "markdown",
   "id": "3c773cd0",
   "metadata": {},
   "source": [
    "<u>What is Markdown?</u>: Markdown is the common way to format cells in a Jupyter Notebook so that between the code and the plotted results, there can be stylistic formatting to make the notebook look more professional and easier to read.\n",
    "\n",
    "<u>NOTE</u>: You can quickly change the cell to Markdown with ESC + \"m\" and back to Code with ESC + \"y\" "
   ]
  },
  {
   "cell_type": "markdown",
   "id": "c7df4c40",
   "metadata": {},
   "source": [
    "#### Headings <a class=\"anchor\" id=\"anchor-ID-1\"></a>\n",
    "\n",
    "# Biggest Header\n",
    "## 2nd Biggest Header\n",
    "### 3rd Biggest Header\n",
    "#### 4th Biggest Header (4 #'s)\n",
    "##### 4th Biggest Header (5 #'s) \n",
    "###### 4th Biggest Header (6 #'s)\n",
    "####### 7 hash signs stop being a header\n"
   ]
  },
  {
   "cell_type": "markdown",
   "id": "fc534729",
   "metadata": {},
   "source": [
    "#### Emphasis <a class=\"anchor\" id=\"anchor-ID-2\"></a>\n",
    "There are two ways to do Emphasis in markdown\n",
    "\n",
    "We can bold like **this** or like __this__\n"
   ]
  },
  {
   "cell_type": "markdown",
   "id": "c64fb53c",
   "metadata": {},
   "source": [
    "#### Italics <a class=\"anchor\" id=\"anchor-ID-3\"></a>\n",
    "There are two ways to do Emphasis in markdown\n",
    "\n",
    "We can bold like *this* or like _this_"
   ]
  },
  {
   "cell_type": "markdown",
   "id": "4cb9805f",
   "metadata": {},
   "source": [
    "#### Block Quote <a class=\"anchor\" id=\"anchor-ID-4\"></a>\n",
    "\n",
    ">Quote Block are done like this in Markdown"
   ]
  },
  {
   "cell_type": "markdown",
   "id": "519c733f",
   "metadata": {},
   "source": [
    "#### Ordered Lists <a class=\"anchor\" id=\"anchor-ID-5\"></a>\n",
    "\n",
    "1. This \n",
    "2. is\n",
    "3. how \n",
    "4. you \n",
    "5. make \n",
    "6. a\n",
    "7. ordered\n",
    "89. list\n",
    "\n",
    "The list needs to be numbered and the order will be auto-corrected. There needs to be a space after the period."
   ]
  },
  {
   "cell_type": "markdown",
   "id": "5750d049",
   "metadata": {},
   "source": [
    "#### Unordered Lists (Bullet Points) <a class=\"anchor\" id=\"anchor-ID-6\"></a>\n",
    "There are three signs used for unordered list in markdown (-,+,*)\n",
    "\n",
    "* This\n",
    "- is \n",
    "+ an\n",
    "* unordered\n",
    "- list\n",
    "\n",
    "For all lists, there needs to be a space after the list symbol. For unordered list, any of the signs result in a bullet point."
   ]
  },
  {
   "cell_type": "markdown",
   "id": "39e6ad4b",
   "metadata": {},
   "source": [
    "#### Links <a class=\"anchor\" id=\"anchor-ID-7\"></a>\n",
    "\n",
    "[This is a link to Wikipedia](https://www.wikipedia.org/)\n",
    "\n",
    "The bracketed item [] is what is displayed and the URL is given in the parentheses ()."
   ]
  },
  {
   "attachments": {
    "wikipedia.png": {
     "image/png": "[encoded data removed]"
    }
   },
   "cell_type": "markdown",
   "id": "9c071e84",
   "metadata": {},
   "source": [
    "#### Images <a class=\"anchor\" id=\"anchor-ID-8\"></a>\n",
    "\n",
    "Below is the way to add images to markdown with a URL \n",
    "![Can use this area to name/describe the image](https://en.wikipedia.org/static/images/icons/wikipedia.png)\n",
    "\n",
    "But you can add images from the top bar: \"Edit\" -> \"Insert Image\" -> \"Choose File\" -> Choose the image file -> \"OK\"\n",
    "![wikipedia.png](attachment:wikipedia.png)"
   ]
  },
  {
   "cell_type": "markdown",
   "id": "bf4e9f5c",
   "metadata": {
    "jp-MarkdownHeadingCollapsed": true,
    "tags": []
   },
   "source": [
    "#### Tables <a class=\"anchor\" id=\"anchor-ID-9\"></a>\n",
    "\n",
    "Example Table\n",
    "\n",
    "| Feature 1 | Feature 2 | Feature 3 | \n",
    "| :--------- | :---------: | ---------: | \n",
    "| Datapoint1Feature1 | Datapoint1Feature2 | Datapoint1Feature3 |\n",
    "| Datapoint2Feature1 | Datapoint2Feature2 | Datapoint2Feature3 | \n",
    "\n",
    "* We use the Vertical Line Character \"|\" here to separate columns\n",
    "* The placement of colons : above determine the alignment of the text in the column\n",
    "* The number of dashes - change the width of the columns\n",
    "\n",
    "For the example of the Table of Contents with anchors: see above and the headers of each cell. <br> <u>NOTE</u>: a cell with an anchor needs to be in the \"ran\" state (have a white background and not a grey box) to be able to link to correctly."
   ]
  },
  {
   "cell_type": "markdown",
   "id": "218eb01b",
   "metadata": {},
   "source": [
    "#### Python code in a Markdown cell <a class=\"anchor\" id=\"anchor-ID-10\"></a>\n",
    "\n",
    "So for displaying code in a Markdown cell, you need three backticks ``` to open and close the code (Not to be confused with single quotes '''). After the opening backticks, make sure to give the language (like python, java, etc.), so the formatting/styling will match that of the language.\n",
    "\n",
    "Example:\n",
    "```python\n",
    "import numpy as np\n",
    "x = [1,2,3,4]\n",
    "AVG = np.mean(x)\n",
    "print(AVG)\n",
    "```"
   ]
  },
  {
   "cell_type": "markdown",
   "id": "7a682954",
   "metadata": {},
   "source": [
    "#### LaTeX <a class=\"anchor\" id=\"anchor-ID-11\"></a>\n",
    "\n",
    "Since LaTex is really is own universe and fairly complex, I will just link to the help and make note that equations can be formatted nicely with LaTeX. <br>\n",
    "[LaTeX How-to and Examples](https://linuxhint.com/use-latex-jupyter-notebook/)\n"
   ]
  },
  {
   "cell_type": "markdown",
   "id": "c3342341",
   "metadata": {},
   "source": [
    "#### Underline <a class=\"anchor\" id=\"anchor-ID-12\"></a>\n",
    "\n",
    "You can also <u>underline</u> words"
   ]
  }
 ],
 "metadata": {
  "kernelspec": {
   "display_name": "Python 3",
   "language": "python",
   "name": "python3"
  },
  "language_info": {
   "codemirror_mode": {
    "name": "ipython",
    "version": 3
   },
   "file_extension": ".py",
   "mimetype": "text/x-python",
   "name": "python",
   "nbconvert_exporter": "python",
   "pygments_lexer": "ipython3",
   "version": "3.9.1"
  }
 },
 "nbformat": 4,
 "nbformat_minor": 5
}
