{
 "cells": [
  {
   "cell_type": "markdown",
   "metadata": {},
   "source": [
    "# Correlation\n",
    "\n",
    "\n",
    "**IMPORTANT INSTRUCTIONS:** This activity is designed for you to experiment with Python code about correlation. Feel free to change any numerical value throughout the code in the activity to visualize different outcomes and results."
   ]
  },
  {
   "cell_type": "markdown",
   "metadata": {},
   "source": [
    "## What is Correlation?\n",
    "\n",
    "In statistics, it is important to know the relationships between two or more variables in a dataset. \n",
    "\n",
    "As you know from Module 3, in a dataset,  each data point is an observation, and the features are the properties or attributes of those observations.\n",
    "\n",
    "Consider the following table that records the height of basketball players and their shooting accuracy.\n",
    "\n",
    "\n",
    "| Name      | Height in cm | Shooting Accuracy (%) |\n",
    "|-----------|--------------|-----------------------|\n",
    "| John M.   | 180          | 72                    |\n",
    "| Alex B.   | 188          | 84                    |\n",
    "| Briand C. | 193          | 87                    |\n",
    "\n",
    "After having a quick look at the data above, it's pretty easy to notice that the columns `Height in cm` and `Shooting Accuracy (%)` are related: the taller a player is, the more accurate his shooting will be."
   ]
  },
  {
   "cell_type": "markdown",
   "metadata": {},
   "source": [
    "## Linear Correlation\n",
    "\n",
    "Linear correlation measures the relationship between linear variables in a dataset. Mathematically, this coefficient is called the Pearson correlation coefficient.\n",
    "\n",
    "Consider a dataset with two features: $\\mathbf{x}$ and $\\mathbf{y}$. Each feature has $n$ values, so $\\mathbf{x}$ and $\\mathbf{y}$ have $n$ values each. \n",
    "\n",
    "Suppose that the first value $x_1$ from $\\mathbf{x}$ corresponds to the first value $y_1$ from $\\mathbf{y}$, the second value $x_2$ from $\\mathbf{x}$ corresponds to the second value $y_2$ from $\\mathbf{y}$, and so on. \n",
    "\n",
    "Then, there are $n$ pairs of corresponding values: $(x_1, y_1)$, $(x_2, y_2)$, and so on. Each of these $x$-$y$ pairs represents a single observation.\n",
    "\n",
    "The Pearson (product-moment) correlation coefficient is a measure of the linear relationship between two features. As you may remember, it is defined by the formula:\n",
    "\n",
    "$$r = \\frac{1}{N}\\sum_n\\frac{x_n}{\\sigma_x}\\frac{y_n}{\\sigma_y}.$$\n",
    "\n",
    "The Pearson correlation coefficient can take on any real value in the range $−1 \\leq r \\leq 1$.\n",
    "\n",
    "The table below summarizes the results about the coefficient $r$.\n",
    "\n",
    "\n",
    "\n",
    "| r value        | Correlation between $\\mathbf{x}$ and $\\mathbf{y}$ |\n",
    "|----------------|---------------------------------------------------|\n",
    "| 1              | perfect positive linear relationship              |\n",
    "| greater than 0 | positive correlation                              |\n",
    "| 0              | no correlation                                    |\n",
    "| lesser than 0  | negative correlation                              |\n",
    "| -1             | perfect negative linear relationship              |\n"
   ]
  },
  {
   "cell_type": "markdown",
   "metadata": {},
   "source": [
    "## Correlation in Python: NumPy\n",
    "\n",
    "NumPy has a statistics routines, [`np.corrcoef()`](https://numpy.org/doc/stable/reference/generated/numpy.corrcoef.html), that returns a matrix of Pearson correlation coefficients. \n",
    "\n",
    "Let's see how this works with an example.\n",
    "\n",
    "In the code cell below, is an *array,* `x`, containing the height (in cm) of basketball players. The *array* `y`, contains the shooting accuracy for those players. Run the code cell below.\n"
   ]
  },
  {
   "cell_type": "code",
   "execution_count": 1,
   "metadata": {},
   "outputs": [],
   "source": [
    "import numpy as np\n",
    "x = np.array([178, 180, 182, 185, 187, 190, 192, 197])\n",
    "y = np.array([78, 76, 79, 76, 81, 83, 85, 85])"
   ]
  },
  {
   "cell_type": "markdown",
   "metadata": {},
   "source": [
    "Now, you can call the *function* `np.corrcoef()` with both arrays as arguments to compute the correlation matrix."
   ]
  },
  {
   "cell_type": "code",
   "execution_count": 2,
   "metadata": {},
   "outputs": [
    {
     "data": {
      "text/plain": [
       "array([[1.        , 0.86903122],\n",
       "       [0.86903122, 1.        ]])"
      ]
     },
     "execution_count": 2,
     "metadata": {},
     "output_type": "execute_result"
    }
   ],
   "source": [
    "r = np.corrcoef(x, y)\n",
    "r"
   ]
  },
  {
   "cell_type": "markdown",
   "metadata": {},
   "source": [
    "For your convenenience, here is the matrix above in table form:\n",
    "\n",
    "|              | $\\mathbf{x}$ | $\\mathbf{y}$ |\n",
    "|--------------|--------------|--------------|\n",
    "| $\\mathbf{x}$ | 1            | 0.86903122   |\n",
    "| $\\mathbf{y}$ | 0.86903122   | 1            |"
   ]
  },
  {
   "cell_type": "markdown",
   "metadata": {},
   "source": [
    "In any correlation matrix, the values on the main diagonal of the correlation matrix (upper left and lower right) are equal to 1. The upper left value corresponds to the correlation coefficient for $\\mathbf{x}$ with itself, while the lower right value is the correlation coefficient for $\\mathbf{y}$ withitself. \n",
    "\n",
    "\n",
    "However, what you usually need are the lower left and upper right values of the correlation matrix. These values are equal and both represent the Pearson correlation coefficient for $\\mathbf{x}$ and $\\mathbf{y}$. In this case, it’s approximately 0.87, meaning that there is a positive correlation between the height of a basketball player and his shooting accuracy.\n",
    "\n",
    "Another way to plot the correlation between $\\mathbf{x}$ and $\\mathbf{y}$ is to use Matplotlib."
   ]
  },
  {
   "cell_type": "code",
   "execution_count": null,
   "metadata": {},
   "outputs": [],
   "source": [
    "import matplotlib.pyplot as plt\n",
    "\n",
    "plt.scatter(x,y)"
   ]
  },
  {
   "cell_type": "markdown",
   "metadata": {},
   "source": [
    "How would you need to change the values of the arrays `x` and `y` in order to display a negative correlation between them?"
   ]
  },
  {
   "cell_type": "markdown",
   "metadata": {},
   "source": [
    "## Correlation in Python: Pandas\n",
    "\n",
    "Whenever you are working with *dataframes*, it's more convenient to use the pandas *library* to compute the correlation between variables.\n",
    "\n",
    "Let's see how this works with an example.\n",
    "\n",
    "Consider the *dataframe* below:"
   ]
  },
  {
   "cell_type": "code",
   "execution_count": 3,
   "metadata": {},
   "outputs": [
    {
     "data": {
      "text/html": [
       "<div>\n",
       "<style scoped>\n",
       "    .dataframe tbody tr th:only-of-type {\n",
       "        vertical-align: middle;\n",
       "    }\n",
       "\n",
       "    .dataframe tbody tr th {\n",
       "        vertical-align: top;\n",
       "    }\n",
       "\n",
       "    .dataframe thead th {\n",
       "        text-align: right;\n",
       "    }\n",
       "</style>\n",
       "<table border=\"1\" class=\"dataframe\">\n",
       "  <thead>\n",
       "    <tr style=\"text-align: right;\">\n",
       "      <th></th>\n",
       "      <th>Gender</th>\n",
       "      <th>Height</th>\n",
       "      <th>Weight</th>\n",
       "    </tr>\n",
       "  </thead>\n",
       "  <tbody>\n",
       "    <tr>\n",
       "      <th>0</th>\n",
       "      <td>Male</td>\n",
       "      <td>73.847017</td>\n",
       "      <td>241.893563</td>\n",
       "    </tr>\n",
       "    <tr>\n",
       "      <th>1</th>\n",
       "      <td>Male</td>\n",
       "      <td>68.781904</td>\n",
       "      <td>162.310473</td>\n",
       "    </tr>\n",
       "    <tr>\n",
       "      <th>2</th>\n",
       "      <td>Male</td>\n",
       "      <td>74.110105</td>\n",
       "      <td>212.740856</td>\n",
       "    </tr>\n",
       "    <tr>\n",
       "      <th>3</th>\n",
       "      <td>Male</td>\n",
       "      <td>71.730978</td>\n",
       "      <td>220.042470</td>\n",
       "    </tr>\n",
       "    <tr>\n",
       "      <th>4</th>\n",
       "      <td>Male</td>\n",
       "      <td>69.881796</td>\n",
       "      <td>206.349801</td>\n",
       "    </tr>\n",
       "  </tbody>\n",
       "</table>\n",
       "</div>"
      ],
      "text/plain": [
       "  Gender     Height      Weight\n",
       "0   Male  73.847017  241.893563\n",
       "1   Male  68.781904  162.310473\n",
       "2   Male  74.110105  212.740856\n",
       "3   Male  71.730978  220.042470\n",
       "4   Male  69.881796  206.349801"
      ]
     },
     "execution_count": 3,
     "metadata": {},
     "output_type": "execute_result"
    }
   ],
   "source": [
    "import pandas as pd\n",
    "\n",
    "\n",
    "df = pd.read_csv('weight-height.csv')\n",
    "\n",
    "df.head()"
   ]
  },
  {
   "cell_type": "markdown",
   "metadata": {},
   "source": [
    "The *dataframe* below displays values about the height and  weight of some individuals.\n",
    "\n",
    "pandas has the *function* [corr()](https://pandas.pydata.org/docs/reference/api/pandas.DataFrame.corr.html) that computes the correlation between **numerical**  variables in a *dataframe*.\n",
    "\n",
    "In the cell below, fill-in the ellipsis to compute the correlation matrix for the *dataframe* above."
   ]
  },
  {
   "cell_type": "code",
   "execution_count": 4,
   "metadata": {},
   "outputs": [
    {
     "ename": "AttributeError",
     "evalue": "'ellipsis' object has no attribute 'corr'",
     "output_type": "error",
     "traceback": [
      "\u001b[1;31m---------------------------------------------------------------------------\u001b[0m",
      "\u001b[1;31mAttributeError\u001b[0m                            Traceback (most recent call last)",
      "\u001b[1;32m<ipython-input-4-54686bc147cf>\u001b[0m in \u001b[0;36m<module>\u001b[1;34m\u001b[0m\n\u001b[1;32m----> 1\u001b[1;33m \u001b[1;33m...\u001b[0m\u001b[1;33m.\u001b[0m\u001b[0mcorr\u001b[0m\u001b[1;33m(\u001b[0m\u001b[1;33m)\u001b[0m\u001b[1;33m\u001b[0m\u001b[1;33m\u001b[0m\u001b[0m\n\u001b[0m",
      "\u001b[1;31mAttributeError\u001b[0m: 'ellipsis' object has no attribute 'corr'"
     ]
    }
   ],
   "source": [
    "....corr()"
   ]
  },
  {
   "cell_type": "markdown",
   "metadata": {},
   "source": [
    "Notice that the *function* `corr()` returns a dataframe.\n",
    "\n",
    "We can also plot the correlation matrix using the *library* Seaborn.\n",
    "\n",
    "Observe the code below."
   ]
  },
  {
   "cell_type": "code",
   "execution_count": 5,
   "metadata": {},
   "outputs": [
    {
     "data": {
      "text/plain": [
       "<AxesSubplot: >"
      ]
     },
     "execution_count": 5,
     "metadata": {},
     "output_type": "execute_result"
    },
    {
     "data": {
      "image/png": "[encoded data removed]",
      "text/plain": [
       "<Figure size 432x288 with 2 Axes>"
      ]
     },
     "metadata": {
      "needs_background": "light"
     },
     "output_type": "display_data"
    }
   ],
   "source": [
    "import seaborn as sns\n",
    "\n",
    "\n",
    "sns.heatmap(df.corr())"
   ]
  },
  {
   "cell_type": "markdown",
   "metadata": {},
   "source": [
    "What happens if you add the argument `annot = True` inside the *function* `heatmap()`?"
   ]
  },
  {
   "cell_type": "code",
   "execution_count": null,
   "metadata": {},
   "outputs": [],
   "source": []
  }
 ],
 "metadata": {
  "kernelspec": {
   "display_name": "Python 3",
   "language": "python",
   "name": "python3"
  },
  "language_info": {
   "codemirror_mode": {
    "name": "ipython",
    "version": 3
   },
   "file_extension": ".py",
   "mimetype": "text/x-python",
   "name": "python",
   "nbconvert_exporter": "python",
   "pygments_lexer": "ipython3",
   "version": "3.9.1"
  }
 },
 "nbformat": 4,
 "nbformat_minor": 4
}
