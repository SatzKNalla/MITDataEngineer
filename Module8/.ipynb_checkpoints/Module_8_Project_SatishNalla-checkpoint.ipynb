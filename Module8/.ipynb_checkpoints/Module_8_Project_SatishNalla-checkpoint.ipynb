{
 "cells": [
  {
   "cell_type": "markdown",
   "id": "def59c3f-28e4-44dd-b9f7-5cbd77b23992",
   "metadata": {},
   "source": [
    "# ETL, Analysis, and Visualization\n",
    "\n",
    "**Satish Nalla**\n",
    "\n",
    "With the MRTS Sales Data cleansed as part of Data prepartion is being used here and building visulations for Analysis."
   ]
  },
  {
   "cell_type": "markdown",
   "id": "1b99a7f5-db3d-45f7-8daf-bafbcd3c35d0",
   "metadata": {},
   "source": [
    "# Index\n",
    "\n",
    "- [Abstract](#Abstract)\n",
    "- [1. Preproject Summary](#1.-Preproject-Summary)\n",
    "- [2. Initialization](#2.-Initialization)\n",
    "    - [2.1 Import the Python Modules](#2.1-Import-the-Modules)\n",
    "    - [2.2 Establishing the Database Connections](#2.2-Establishing-the-database-connections)\n",
    "    - [2.3 Preparing the SQL COmmands](#2.3-Preparing-the-SQL-Commands)\n",
    "    - [2.4 Executing the SQL Commands](#2.4-Executing-the-SQL-Commands)\n",
    "    - [2.5 Building the Pandas Dataframes](#2.5-Building-the-Pandas-Dataframes)\n",
    "- [3. The Data](#3.-The-Data)\n",
    "    - [3.1 Exploring the Schema of Dataframes](#3.1-Exploring-the-Schema-of-Dataframes)\n",
    "    - [3.2 Deepdiving the Total Data](#3.2-Deepdiving-the-Total-Data)\n",
    "    - [3.3 Deepdiving the Details Data](#3.3-Deepdiving-the-Details-Data)\n",
    "    - [3.4 Summary](#3.4-Summary)\n",
    "- [4. Preparing the Data](#4.-Preparing-the-Data)\n",
    "    - [4.1 Aggregating the Data](#4.1-Aggregating-the-Data)\n",
    "    - [4.2 Addition of Metrics](#4.2-Addition-of-Metrics)\n",
    "- [5. Data Visualizations](#5.-Data-Visualizations)\n",
    "    - [5.1 Visualizing Total Data](#5.1-Visualizing-Total-Data)\n",
    "    - [5.2 Visualizing Detail Data](#5.2-Visualizing-Detail-Data)\n",
    "- [6. Rolling Window Analysis](#6.-Rolling-Window-Analysis)\n",
    "    - [6.1 Rolling Window Details](#6.1-Rolling-Window-Details)\n",
    "    - [6.2 Preparing Data for Rolling window](#6.2-Preparing-Data-for-Rolling-window)\n",
    "    - [6.3 Visualizing the Rolling window data](#6.3-Visualizing-the-Rolling-window-data)\n",
    "- [Conclusion](#Conclusion)\n",
    "- [References](#References)"
   ]
  },
  {
   "cell_type": "markdown",
   "id": "0d3fcb2d-e395-4215-af6a-69310b874bd2",
   "metadata": {},
   "source": [
    "[Back to top](#Index)\n",
    "## Abstract"
   ]
  },
  {
   "cell_type": "markdown",
   "id": "1a8cbd61-9baf-4a53-85c5-a05fdacdd026",
   "metadata": {},
   "source": [
    "Importing the MRTS Sales Data and building the various visualizations to answer various questions on the data."
   ]
  },
  {
   "cell_type": "markdown",
   "id": "54f16c1b-5dad-44a3-bbfe-0227008f3b52",
   "metadata": {},
   "source": [
    "[Back to top](#Index)\n",
    "\n",
    "## 1. Preproject Summary"
   ]
  },
  {
   "cell_type": "markdown",
   "id": "c2cde870-946f-4f8f-b8e5-9c46330ab6f4",
   "metadata": {},
   "source": [
    "The Raw data has lot of Totals and Sub totals records, we have created the database views as only Totals and only subtotals for each kind of business subgroups in the excel file and used for the Analysis in this project."
   ]
  },
  {
   "cell_type": "markdown",
   "id": "91c6e7eb-bf81-43fe-b505-b2c94da690f9",
   "metadata": {},
   "source": [
    "[Back to top](#Index)\n",
    "\n",
    "## 2. Initialization"
   ]
  },
  {
   "cell_type": "markdown",
   "id": "ecbc00b5-ee49-47c6-8223-dac73373efb5",
   "metadata": {},
   "source": [
    "[Back to top](#Index)\n",
    "\n",
    "### 2.1 Import the Modules"
   ]
  },
  {
   "cell_type": "code",
   "execution_count": null,
   "id": "ce9be545-898d-468c-bd24-0eb10bcf2546",
   "metadata": {},
   "outputs": [],
   "source": [
    "#Importing the Pandas Variables to use in this project\n",
    "import pandas as pd\n",
    "import numpy as np\n",
    "import matplotlib.pyplot as plt\n",
    "from datetime import datetime\n",
    "from dateutil.parser import parse\n",
    "import math\n",
    "import mysql.connector"
   ]
  },
  {
   "cell_type": "markdown",
   "id": "b5b15bb5-672f-4fab-8633-46b51ae2e171",
   "metadata": {},
   "source": [
    "[Back to top](#Index)\n",
    "\n",
    "### 2.2 Establishing the database connections"
   ]
  },
  {
   "cell_type": "code",
   "execution_count": null,
   "id": "0297cf9e-2c9b-45a9-a02b-1b0a6ba6f0dd",
   "metadata": {},
   "outputs": [],
   "source": [
    "#Establisgin the MYSQL Database connection\n",
    "connection = mysql.connector.connect(user='root',password='Aaira2020',host = '127.0.0.1',database = 'MRTSSALES', auth_plugin='mysql_native_password')\n",
    "cursor = connection.cursor()"
   ]
  },
  {
   "cell_type": "markdown",
   "id": "ac34c469-695e-4d7c-bbfc-de8c96db00fd",
   "metadata": {},
   "source": [
    "[Back to top](#Index)\n",
    "\n",
    "### 2.3 Preparing the SQL Commands"
   ]
  },
  {
   "cell_type": "code",
   "execution_count": null,
   "id": "7dc19f02-a4d3-40bf-ab1b-484b1480ba3d",
   "metadata": {},
   "outputs": [],
   "source": [
    "#PReparing the SQL Query statements to use in this project\n",
    "sqlStatementDetails = 'SELECT * FROM VW_MRTSALES_DATA;'\n",
    "sqlStatementTotals = 'SELECT * FROM VW_MRTSALES_DATA_TOTAL;'"
   ]
  },
  {
   "cell_type": "markdown",
   "id": "3b96af0a-4ee5-4937-8c28-3edd41f77ac9",
   "metadata": {},
   "source": [
    "[Back to top](#Index)\n",
    "\n",
    "### 2.4 Executing the SQL Commands"
   ]
  },
  {
   "cell_type": "markdown",
   "id": "4cb340c6-634a-457b-8fc3-414c3f98c5b7",
   "metadata": {},
   "source": [
    "Executing the SQL Commands and Import the Data to this project"
   ]
  },
  {
   "cell_type": "code",
   "execution_count": null,
   "id": "50420c3c-77c1-4b22-8c53-b084d401a98c",
   "metadata": {},
   "outputs": [],
   "source": [
    "#Executing the Detail SQL Statement created in 2.3\n",
    "cursor.execute(sqlStatementDetails)\n",
    "detailColumns = cursor.column_names\n",
    "detailData = cursor.fetchall()"
   ]
  },
  {
   "cell_type": "code",
   "execution_count": null,
   "id": "83b8754c-a2d5-4a04-bcc5-f71a6b70c171",
   "metadata": {},
   "outputs": [],
   "source": [
    "#Executing the Total SQL Statement created in 2.3\n",
    "cursor.execute(sqlStatementTotals)\n",
    "totalColumns = cursor.column_names\n",
    "totalData = data = cursor.fetchall()"
   ]
  },
  {
   "cell_type": "code",
   "execution_count": null,
   "id": "15e01edd-d7e9-4312-8647-5747d854b17f",
   "metadata": {},
   "outputs": [],
   "source": [
    "#Closing the Cursor and Connection to save the heap memory\n",
    "cursor.close()\n",
    "connection.close()"
   ]
  },
  {
   "cell_type": "markdown",
   "id": "a025145e-e607-4a74-8896-27c42fbb1b1c",
   "metadata": {},
   "source": [
    "[Back to top](#Index)\n",
    "\n",
    "### 2.5 Building the Pandas Dataframes"
   ]
  },
  {
   "cell_type": "markdown",
   "id": "07da7d77-9d25-4104-a21b-7714381a9340",
   "metadata": {},
   "source": [
    "Building the Pandas Dataframes, loading the data into them, and few other attributes for further analysis"
   ]
  },
  {
   "cell_type": "code",
   "execution_count": null,
   "id": "7e5be5df-b3e9-4528-a675-cc7ef4921d13",
   "metadata": {},
   "outputs": [],
   "source": [
    "#Converting the Query outputs to Pandas dataframes\n",
    "DetailDataDf = pd.DataFrame(detailData)\n",
    "DetailDataDf.columns = detailColumns\n",
    "\n",
    "totalDataDf = pd.DataFrame(totalData)\n",
    "totalDataDf.columns = totalColumns"
   ]
  },
  {
   "cell_type": "code",
   "execution_count": null,
   "id": "3411533e-0d75-49eb-ba89-ff9df14fb20c",
   "metadata": {},
   "outputs": [],
   "source": [
    "#Assigning the colors to each Kind of Business Attributes in both the datasets\n",
    "uniqueKinds = totalDataDf.KIND_OF_BUSINESS.unique()\n",
    "colorCodes = ['#FF4136','#0074D9','#2ECC40','#FF851B','#B10DC9','#FFDC00','#7FDBFF','#001f3f','#39CCCC','#F012BE','#3D9970','#FF69B4','#85144b','#AAAAAA','#FFC300','#00796B','#F37735','#008080','#7FDBFF','#6B8E23']\n",
    "\n",
    "colorIter = 0\n",
    "colors = {}\n",
    "\n",
    "for i in totalDataDf.KIND_OF_BUSINESS.unique():\n",
    "    colors[i]=colorCodes[colorIter]\n",
    "    colorIter += 1\n",
    "\n",
    "for i in DetailDataDf.KIND_OF_BUSINESS.unique():\n",
    "    colors[i]=colorCodes[colorIter]\n",
    "    colorIter += 1"
   ]
  },
  {
   "cell_type": "markdown",
   "id": "c103947e-da6d-4543-a288-8a66f58c7447",
   "metadata": {},
   "source": [
    "[Back to top](#Index)\n",
    "\n",
    "## 3. The Data"
   ]
  },
  {
   "cell_type": "markdown",
   "id": "febf3fda-9b4e-4b2b-a218-515bac306efc",
   "metadata": {},
   "source": [
    "Exploring the data"
   ]
  },
  {
   "cell_type": "markdown",
   "id": "194434d1-a9a8-4ae4-8a9b-4011078f1a74",
   "metadata": {},
   "source": [
    "[Back to top](#Index)\n",
    "\n",
    "### 3.1 Exploring the Schema of Dataframes"
   ]
  },
  {
   "cell_type": "markdown",
   "id": "d2732757-03f2-4651-9ca3-dfea66cdcb63",
   "metadata": {},
   "source": [
    "Checking the both Totals and Details Dataframes"
   ]
  },
  {
   "cell_type": "code",
   "execution_count": null,
   "id": "2ed23e00-8da9-4f2c-9cac-d4a32c8534c9",
   "metadata": {},
   "outputs": [],
   "source": [
    "totalDataDf.info()"
   ]
  },
  {
   "cell_type": "code",
   "execution_count": null,
   "id": "4c0bf2e0-28a6-44d9-94b4-9e27ed289fe2",
   "metadata": {},
   "outputs": [],
   "source": [
    "totalDataDf.describe()"
   ]
  },
  {
   "cell_type": "code",
   "execution_count": null,
   "id": "9cbfd767-0386-490d-b2bf-1710379fa139",
   "metadata": {},
   "outputs": [],
   "source": [
    "totalDataDf.head()"
   ]
  },
  {
   "cell_type": "code",
   "execution_count": null,
   "id": "39d6e9e7-dfa7-413b-99d5-285a7b718d20",
   "metadata": {},
   "outputs": [],
   "source": [
    "totalDataDf.tail()"
   ]
  },
  {
   "cell_type": "code",
   "execution_count": null,
   "id": "45ff6eed-780c-478a-8f6c-df33522ce4de",
   "metadata": {},
   "outputs": [],
   "source": [
    "DetailDataDf.info()"
   ]
  },
  {
   "cell_type": "code",
   "execution_count": null,
   "id": "e04dae0b-9d97-4f1a-9eab-d2c5d2782547",
   "metadata": {},
   "outputs": [],
   "source": [
    "DetailDataDf.describe()"
   ]
  },
  {
   "cell_type": "code",
   "execution_count": null,
   "id": "75e301bc-09ec-403e-a972-b3a42954e4de",
   "metadata": {},
   "outputs": [],
   "source": [
    "DetailDataDf.head()"
   ]
  },
  {
   "cell_type": "code",
   "execution_count": null,
   "id": "f6755053-967d-4099-afc1-6a0b61933463",
   "metadata": {},
   "outputs": [],
   "source": [
    "DetailDataDf.tail()"
   ]
  },
  {
   "cell_type": "markdown",
   "id": "3ad22bc2-1f9e-4fc6-a765-2d8b33781e68",
   "metadata": {},
   "source": [
    "[Back to top](#Index)\n",
    "\n",
    "### 3.2 Deepdiving the Total Data"
   ]
  },
  {
   "cell_type": "code",
   "execution_count": null,
   "id": "abad5a19-b65e-428b-8662-596c4d44295c",
   "metadata": {},
   "outputs": [],
   "source": [
    "#Plotting the Total data to Analyze if any further Aggregations needed\n",
    "i = 0\n",
    "j = 0\n",
    "\n",
    "x = len(totalDataDf.YEAR.unique())\n",
    "y = len(totalDataDf.KIND_OF_BUSINESS.unique())\n",
    "\n",
    "print(x,y)\n",
    "\n",
    "fig, axs = plt.subplots(x,y, figsize=(40, 130))\n",
    "fig.suptitle(f'Plotting All the Total KPIs for each Year', fontsize = 16, y = 0.9)\n",
    "\n",
    "for eachYear in totalDataDf.YEAR.unique():\n",
    "    j = 0\n",
    "    for eachKind in totalDataDf.KIND_OF_BUSINESS.unique():\n",
    "        axs[i][j].plot(totalDataDf[(totalDataDf['KIND_OF_BUSINESS']==eachKind) & (totalDataDf['YEAR']==eachYear)]['DATE'], totalDataDf[(totalDataDf['KIND_OF_BUSINESS']==eachKind) & (totalDataDf['YEAR']==eachYear)]['VALUE'],color = colors[eachKind])\n",
    "        axs[i][j].set_title(eachKind, fontsize = 10)\n",
    "        axs[i][0].set_ylabel('Sales')\n",
    "        j += 1\n",
    "        #print(i,j,eachYear,eachKind)    \n",
    "    i += 1\n",
    "\n",
    "#print(i,j)\n",
    "        \n",
    "plt.show()"
   ]
  },
  {
   "cell_type": "markdown",
   "id": "d825e601-8ba1-4718-ab24-6c5e2a4f1fb6",
   "metadata": {},
   "source": [
    "[Back to top](#Index)\n",
    "\n",
    "### 3.3 Deepdiving the Details Data"
   ]
  },
  {
   "cell_type": "code",
   "execution_count": null,
   "id": "01bfa281-d7b3-4c9f-996f-51c32a94c6a8",
   "metadata": {},
   "outputs": [],
   "source": [
    "#Plotting the Details data to Analyze if any further Aggregations needed\n",
    "i = 0\n",
    "j = 0\n",
    "\n",
    "x = len(DetailDataDf.YEAR.unique())*2\n",
    "y = math.ceil(len(DetailDataDf.KIND_OF_BUSINESS.unique())/2)\n",
    "\n",
    "print(x,y)\n",
    "\n",
    "fig, axs = plt.subplots(x,y, figsize=(40, 200))\n",
    "fig.suptitle(f'Plotting All the Sub Total KPIs for Each Year', fontsize = 16, y = 0.9)\n",
    "\n",
    "for eachYear in DetailDataDf.YEAR.unique():\n",
    "    j = 0\n",
    "    for eachKind in DetailDataDf.KIND_OF_BUSINESS.unique():\n",
    "        if j == y:\n",
    "            i += 1\n",
    "            j = 0\n",
    "        axs[i][j].plot(DetailDataDf[(DetailDataDf['KIND_OF_BUSINESS']==eachKind) & (DetailDataDf['YEAR']==eachYear)]['DATE'], DetailDataDf[(DetailDataDf['KIND_OF_BUSINESS']==eachKind) & (DetailDataDf['YEAR']==eachYear)]['VALUE'],color = colors[eachKind])\n",
    "        axs[i][j].set_title(eachKind, fontsize = 10)\n",
    "        axs[i][0].set_ylabel('Sales')\n",
    "        j += 1\n",
    "        #print(i,j,eachYear,eachKind)\n",
    "        #print(i,j)\n",
    "\n",
    "    i += 1\n",
    "\n",
    "#print(i,j)\n",
    "        \n",
    "plt.show()"
   ]
  },
  {
   "cell_type": "markdown",
   "id": "43959c1b-6dbf-4ecc-aa9c-835e24d49cfc",
   "metadata": {},
   "source": [
    "[Back to top](#Index)\n",
    "\n",
    "### 3.4 Summary"
   ]
  },
  {
   "cell_type": "markdown",
   "id": "a9c5dbd7-df0e-4e54-8ae9-1b015cd4e3e3",
   "metadata": {},
   "source": [
    "#### Summary of Data Explorations"
   ]
  },
  {
   "cell_type": "markdown",
   "id": "bb7c8773-a59e-4045-b642-b9802c686f55",
   "metadata": {},
   "source": [
    "As we could see tha above visualizations most of the data for each year trending by month looks consistent pattern, for further analysis the data is being aggregated by year."
   ]
  },
  {
   "cell_type": "markdown",
   "id": "486b6c27-4dc5-4949-9d6d-a508b94d79f7",
   "metadata": {},
   "source": [
    "[Back to top](#Index)\n",
    "\n",
    "## 4. Preparing the Data"
   ]
  },
  {
   "cell_type": "markdown",
   "id": "9c513a19-d436-4c47-9598-cf2613acdb86",
   "metadata": {},
   "source": [
    "[Back to top](#Index)\n",
    "\n",
    "### 4.1 Aggregating the Data"
   ]
  },
  {
   "cell_type": "markdown",
   "id": "efd048f6-129b-4227-9e40-a0423ee5ea05",
   "metadata": {},
   "source": [
    "Aggregating the Totals and Details data to the Year for further analysis and usage"
   ]
  },
  {
   "cell_type": "code",
   "execution_count": null,
   "id": "bd85d939-9bcb-4f08-8577-afdc15453efc",
   "metadata": {},
   "outputs": [],
   "source": [
    "#As we summarized data has to be aggregated creating the Aggregated Dataframes for both Total and Detail Dataframes\n",
    "totalDataAggDf = totalDataDf.groupby(['NAICS_CODE','KIND_OF_BUSINESS','ADJUSTMENT_TYPE','YEAR'])['VALUE'].sum().reset_index()\n",
    "DetailDataAggDf = DetailDataDf.groupby(['NAICS_CODE','KIND_OF_BUSINESS','ADJUSTMENT_TYPE','YEAR'])['VALUE'].sum().reset_index()"
   ]
  },
  {
   "cell_type": "markdown",
   "id": "426459cf-99ec-44fc-a061-8a3b1752ef60",
   "metadata": {},
   "source": [
    "[Back to top](#Index)\n",
    "\n",
    "### 4.2 Addition of Metrics"
   ]
  },
  {
   "cell_type": "markdown",
   "id": "d30bc59d-5b90-47a0-a783-b982f7b5c409",
   "metadata": {},
   "source": [
    "Addition of Prior Year value and YOY Values to Aggregate Dataframes"
   ]
  },
  {
   "cell_type": "code",
   "execution_count": null,
   "id": "dea6f47d-057a-4eee-af67-f43c4515a710",
   "metadata": {},
   "outputs": [],
   "source": [
    "#Adding Prior Year Sales Values and YoY calculations data to the Aggregated Dataframes\n",
    "totalDataAggDf['YOY_VALUE'] = 0\n",
    "totalDataAggDf['PY_VALUE'] = 0\n",
    "for index,row in totalDataAggDf.iterrows():\n",
    "    priorYearRow = totalDataAggDf[(totalDataAggDf['KIND_OF_BUSINESS']==row['KIND_OF_BUSINESS']) & (totalDataAggDf['ADJUSTMENT_TYPE']==row['ADJUSTMENT_TYPE']) & (totalDataAggDf['NAICS_CODE']==row['NAICS_CODE']) & (totalDataAggDf['YEAR']==row['YEAR']-1)]\n",
    "    priorYearRow.reset_index()\n",
    "\n",
    "    if len(priorYearRow) == 0:\n",
    "        totalDataAggDf.loc[index,'PY_VALUE'] = 0\n",
    "        totalDataAggDf.loc[index,'YOY'] = 0\n",
    "    else:\n",
    "        totalDataAggDf.loc[index,'PY_VALUE'] = priorYearRow['VALUE'].max()\n",
    "        totalDataAggDf.loc[index,'YOY'] = (row['VALUE']/totalDataAggDf.loc[index,'PY_VALUE'])-1\n",
    "        \n",
    "    #print(index,row['VALUE'],row['PY_VALUE'],row['YOY_VALUE'])"
   ]
  },
  {
   "cell_type": "code",
   "execution_count": null,
   "id": "7fd708d1-9fed-46ff-96c4-1f4e80ff6afb",
   "metadata": {},
   "outputs": [],
   "source": [
    "#Adding Prior Year Sales Values and YoY calculations data to the Aggregated Dataframes\n",
    "DetailDataAggDf['YOY_VALUE'] = 0\n",
    "DetailDataAggDf['PY_VALUE'] = 0\n",
    "for index,row in DetailDataAggDf.iterrows():\n",
    "    priorYearRow = DetailDataAggDf[(DetailDataAggDf['KIND_OF_BUSINESS']==row['KIND_OF_BUSINESS']) & (DetailDataAggDf['ADJUSTMENT_TYPE']==row['ADJUSTMENT_TYPE']) & (DetailDataAggDf['NAICS_CODE']==row['NAICS_CODE']) & (DetailDataAggDf['YEAR']==row['YEAR']-1)]\n",
    "    priorYearRow.reset_index()\n",
    "\n",
    "    if len(priorYearRow) == 0:\n",
    "        DetailDataAggDf.loc[index,'PY_VALUE'] = 0\n",
    "        DetailDataAggDf.loc[index,'YOY'] = 0\n",
    "    else:\n",
    "        DetailDataAggDf.loc[index,'PY_VALUE'] = priorYearRow['VALUE'].max()\n",
    "        DetailDataAggDf.loc[index,'YOY'] = (row['VALUE']/DetailDataAggDf.loc[index,'PY_VALUE'])-1\n",
    "        \n",
    "    #print(index,row['VALUE'],row['PY_VALUE'],row['YOY_VALUE'])"
   ]
  },
  {
   "cell_type": "markdown",
   "id": "cdef671b-ad9e-48db-baeb-107a8d7b6a35",
   "metadata": {},
   "source": [
    "[Back to top](#Index)\n",
    "\n",
    "## 5. Data Visualizations"
   ]
  },
  {
   "cell_type": "markdown",
   "id": "cb9cb957-3760-4cb7-925d-7756563e83ff",
   "metadata": {},
   "source": [
    "[Back to top](#Index)\n",
    "\n",
    "### 5.1 Visualizing Total Data."
   ]
  },
  {
   "cell_type": "markdown",
   "id": "b1d68078-75e2-4624-bedf-256b773e894c",
   "metadata": {},
   "source": [
    "Visualizing Total Data by Time Trending and Year over Year of each Kind of Business."
   ]
  },
  {
   "cell_type": "code",
   "execution_count": null,
   "id": "8fa9ad77-428e-433e-99e2-27352cf5b5b9",
   "metadata": {},
   "outputs": [],
   "source": [
    "#Visualizing the Total Aggregated Data\n",
    "i = 0\n",
    "j = 0\n",
    "\n",
    "x = len(totalDataAggDf.KIND_OF_BUSINESS.unique())\n",
    "y = 2\n",
    "\n",
    "print(x,y)\n",
    "\n",
    "fig, axs = plt.subplots(x,y, figsize=(20, 40))\n",
    "fig.suptitle(f'Plotting All the Total KPIs', fontsize = 16, y = 0.9)\n",
    "\n",
    "for eachKind in totalDataAggDf.KIND_OF_BUSINESS.unique():\n",
    "    axs[i][0].plot(totalDataAggDf[(totalDataAggDf['KIND_OF_BUSINESS']==eachKind) & (totalDataAggDf['YEAR']!=2021) ]['YEAR'], totalDataAggDf[(totalDataAggDf['KIND_OF_BUSINESS']==eachKind) & (totalDataAggDf['YEAR']!=2021)]['VALUE'], color = colors[eachKind])\n",
    "    axs[i][0].scatter(totalDataAggDf[(totalDataAggDf['KIND_OF_BUSINESS']==eachKind) ]['YEAR'], totalDataAggDf[(totalDataAggDf['KIND_OF_BUSINESS']==eachKind)]['VALUE'], s = 10, color = colors[eachKind])\n",
    "    axs[i][0].set_title(eachKind, fontsize = 10)\n",
    "    axs[i][0].set_ylabel('Sales')\n",
    "\n",
    "    axs[i][1].plot(totalDataAggDf[(totalDataAggDf['KIND_OF_BUSINESS']==eachKind) & (totalDataAggDf['YEAR']!=2021) ]['YEAR'], totalDataAggDf[(totalDataAggDf['KIND_OF_BUSINESS']==eachKind) & (totalDataAggDf['YEAR']!=2021)]['YOY'], color = colors[eachKind])\n",
    "    axs[i][1].set_title(eachKind, fontsize = 10)\n",
    "    axs[i][1].set_ylabel('% Change')\n",
    "    axs[i][1].set_xlabel('Year')\n",
    "    axs[i][1].xaxis.set_major_formatter(plt.FuncFormatter('{:.0f}'.format))\n",
    "    axs[i][1].yaxis.set_major_formatter(plt.FuncFormatter('{:.0f}%'.format))\n",
    "    i += 1\n",
    "    \n",
    "\n",
    "#print(i,j)\n",
    "        \n",
    "plt.show()"
   ]
  },
  {
   "cell_type": "markdown",
   "id": "5609e156-5b2b-4565-bb8f-15add9ef95dd",
   "metadata": {},
   "source": [
    "[Back to top](#Index)\n",
    "\n",
    "### 5.2 Visualizing Detail Data"
   ]
  },
  {
   "cell_type": "markdown",
   "id": "add23319-1c29-4e59-bbf1-192c44ff7c0c",
   "metadata": {},
   "source": [
    "Visualizing Detail Data by Time Trending and Year over Year of each Kind of Business.[Back to top](#Index)"
   ]
  },
  {
   "cell_type": "code",
   "execution_count": null,
   "id": "d18c7460-dc11-42e8-9cea-9b78637973df",
   "metadata": {},
   "outputs": [],
   "source": [
    "#Visualizing the Detail Aggregated Data\n",
    "i = 0\n",
    "j = 0\n",
    "\n",
    "x = len(DetailDataAggDf.KIND_OF_BUSINESS.unique())\n",
    "y = 2\n",
    "\n",
    "print(x,y)\n",
    "\n",
    "fig, axs = plt.subplots(x,y, figsize=(20, 60))\n",
    "fig.suptitle(f'Plotting All the Detail Kind of Business KPIs', fontsize = 16, y = 0.9)\n",
    "l = {}\n",
    "for eachKind in DetailDataAggDf.KIND_OF_BUSINESS.unique():\n",
    "    \n",
    "    axs[i][0].plot(DetailDataAggDf[(DetailDataAggDf['KIND_OF_BUSINESS']==eachKind) & (DetailDataAggDf['YEAR']!=2021) ]['YEAR'], DetailDataAggDf[(DetailDataAggDf['KIND_OF_BUSINESS']==eachKind) & (DetailDataAggDf['YEAR']!=2021)]['VALUE'],color = colors[eachKind])\n",
    "    axs[i][0].scatter(DetailDataAggDf[(DetailDataAggDf['KIND_OF_BUSINESS']==eachKind) ]['YEAR'], DetailDataAggDf[(DetailDataAggDf['KIND_OF_BUSINESS']==eachKind)]['VALUE'], s = 10, color = colors[eachKind])\n",
    "    axs[i][0].set_title(eachKind, fontsize = 10)\n",
    "    axs[i][0].set_ylabel('Sales')\n",
    "\n",
    "    axs[i][1].plot(DetailDataAggDf[(DetailDataAggDf['KIND_OF_BUSINESS']==eachKind) & (DetailDataAggDf['YEAR']!=2021) ]['YEAR'], DetailDataAggDf[(DetailDataAggDf['KIND_OF_BUSINESS']==eachKind) & (DetailDataAggDf['YEAR']!=2021)]['YOY'],color = colors[eachKind])\n",
    "    axs[i][1].set_title(eachKind, fontsize = 10)\n",
    "    axs[i][1].set_ylabel('% Change')\n",
    "    axs[i][1].set_xlabel('Year')\n",
    "    axs[i][1].xaxis.set_major_formatter(plt.FuncFormatter('{:.0f}'.format))\n",
    "    axs[i][1].yaxis.set_major_formatter(plt.FuncFormatter('{:.0f}%'.format))\n",
    "    \n",
    "    \n",
    "    i += 1\n",
    "    \n",
    "\n",
    "#print(i,j)\n",
    "\n",
    "plt.show()"
   ]
  },
  {
   "cell_type": "markdown",
   "id": "f7611ce1-a219-4ded-b7c8-a081555c0dcc",
   "metadata": {},
   "source": [
    "[Back to top](#Index)\n",
    "\n",
    "## 6. Rolling Window Analysis"
   ]
  },
  {
   "cell_type": "markdown",
   "id": "031ade82-6d85-4612-a388-2a848e9618d5",
   "metadata": {},
   "source": [
    "[Back to top](#Index)\n",
    "\n",
    "### 6.1 Rolling Window Details"
   ]
  },
  {
   "cell_type": "markdown",
   "id": "8c249ce4-741b-4829-8ca4-01922ce0ac42",
   "metadata": {},
   "source": [
    "Rolling windows are checking the averages for past specific periods like every month what was the average for last n months,\n",
    "\n",
    "Dataframes will be updated with Rolling 3 months, Rolling 6 months, Rolling 12 months calculations as below."
   ]
  },
  {
   "cell_type": "markdown",
   "id": "e0c875e0-74a5-48a7-b6e7-f18fba9abfd5",
   "metadata": {},
   "source": [
    "[Back to top](#Index)\n",
    "\n",
    "### 6.2 Preparing Data for Rolling window"
   ]
  },
  {
   "cell_type": "markdown",
   "id": "a55ec7c8-d045-4f98-bb15-0538eaf1b046",
   "metadata": {},
   "source": [
    "Creating the Rolling window calculations to our monthly dataset as its a monthly data"
   ]
  },
  {
   "cell_type": "code",
   "execution_count": null,
   "id": "7e8f6c3d-3bd1-4a46-9820-727b4460a2ac",
   "metadata": {},
   "outputs": [],
   "source": [
    "#Sorting the data as we will be calculating the Rolling window calculations based on month\n",
    "totalDataDf = totalDataDf.sort_values(by=['ADJUSTMENT_TYPE','NAICS_CODE','KIND_OF_BUSINESS','DATE'], ascending=True)\n",
    "totalDataDf = totalDataDf.reset_index()\n",
    "totalDataDf.drop(['index'], axis=1)\n",
    "\n",
    "#Adding few rolling caluclation to the pandas Total dataframe.\n",
    "totalDataDf['R3M'] = totalDataDf['VALUE'].rolling(3).mean()\n",
    "totalDataDf['R6M'] = totalDataDf['VALUE'].rolling(6).mean()\n",
    "totalDataDf['R12M'] = totalDataDf['VALUE'].rolling(12).mean()"
   ]
  },
  {
   "cell_type": "code",
   "execution_count": null,
   "id": "891d7013-40d3-4da6-80b7-9a75d8a5ff08",
   "metadata": {},
   "outputs": [],
   "source": [
    "#Adding few rolling caluclation to the pandas Detail dataframe.\n",
    "DetailDataDf['R3M'] = 0.0\n",
    "DetailDataDf['R6M'] = 0.0\n",
    "DetailDataDf['R12M'] = 0.0\n",
    "\n",
    "DetailDataDf = DetailDataDf.sort_values(by=['ADJUSTMENT_TYPE','NAICS_CODE','KIND_OF_BUSINESS','DATE'], ascending=True)\n",
    "DetailDataDf = DetailDataDf.reset_index()\n",
    "DetailDataDf.drop(['index'], axis=1)\n",
    "\n",
    "#Adding few rolling caluclation to the pandas Total dataframe.\n",
    "DetailDataDf['R3M'] = DetailDataDf['VALUE'].rolling(3).mean()\n",
    "DetailDataDf['R6M'] = DetailDataDf['VALUE'].rolling(6).mean()\n",
    "DetailDataDf['R12M'] = DetailDataDf['VALUE'].rolling(12).mean()"
   ]
  },
  {
   "cell_type": "markdown",
   "id": "f69700ce-7cac-470f-bf3c-0a1483e1dec6",
   "metadata": {},
   "source": [
    "[Back to top](#Index)\n",
    "\n",
    "### 6.3 Visualizing the Rolling window data"
   ]
  },
  {
   "cell_type": "markdown",
   "id": "d5a60ab4-300d-409a-b211-a44589964ffb",
   "metadata": {},
   "source": [
    "Visualizing Rolliing window data for Total Kind of Business KPIs"
   ]
  },
  {
   "cell_type": "code",
   "execution_count": null,
   "id": "c17ca3bc-0903-41a9-b8fe-54e7b837e572",
   "metadata": {},
   "outputs": [],
   "source": [
    "#Plotting the Rolling Window Metrics for Total data \n",
    "i = 0\n",
    "j = 0\n",
    "\n",
    "x = len(totalDataDf.KIND_OF_BUSINESS.unique())\n",
    "y = 1\n",
    "\n",
    "print(x,y)\n",
    "\n",
    "fig, axs = plt.subplots(x,y, figsize=(40, 130))\n",
    "fig.suptitle(f'Plotting All the Rolling window KPIs for Total Data', fontsize = 16, y = 0.9)\n",
    "\n",
    "j = 0 \n",
    "for eachKind in totalDataDf.KIND_OF_BUSINESS.unique():\n",
    "    axs[i].plot(totalDataDf[(totalDataDf['KIND_OF_BUSINESS']==eachKind)]['DATE'], totalDataDf[(totalDataDf['KIND_OF_BUSINESS']==eachKind)]['R3M'], label = 'Rolling 3 Months')\n",
    "    axs[i].plot(totalDataDf[(totalDataDf['KIND_OF_BUSINESS']==eachKind)]['DATE'], totalDataDf[(totalDataDf['KIND_OF_BUSINESS']==eachKind)]['R6M'], label = 'Rolling 6 Months')\n",
    "    axs[i].plot(totalDataDf[(totalDataDf['KIND_OF_BUSINESS']==eachKind)]['DATE'], totalDataDf[(totalDataDf['KIND_OF_BUSINESS']==eachKind)]['R12M'], label = 'Rolling 12 Months')\n",
    "    axs[i].set_title(eachKind, fontsize = 10)\n",
    "    axs[i].set_ylabel('Sales')\n",
    "    axs[i].legend()\n",
    "    i += 1\n",
    "    #print(i,j,eachYear,eachKind)    \n",
    "\n",
    "#print(i,j)\n",
    "        \n",
    "plt.show()"
   ]
  },
  {
   "cell_type": "code",
   "execution_count": null,
   "id": "a4124fec-64a1-426a-a7b9-29298b75910b",
   "metadata": {},
   "outputs": [],
   "source": [
    "line1, = ax.plot([1, 2, 3], label='label1')\n",
    "line2, = ax.plot([1, 2, 3], label='label2')\n",
    "ax.legend(handles=[line1, line2])"
   ]
  },
  {
   "cell_type": "markdown",
   "id": "a02de170-6a45-4944-9363-b19b34ca88e1",
   "metadata": {},
   "source": [
    "Visualizing Rolliing window data for Detail Kind of Business KPIs"
   ]
  },
  {
   "cell_type": "code",
   "execution_count": null,
   "id": "035fb9c8-124d-46ac-9b30-c8459cc29c1a",
   "metadata": {},
   "outputs": [],
   "source": [
    "#Plotting the Rolling Window Metrics for Detail data \n",
    "i = 0\n",
    "j = 0\n",
    "\n",
    "x = len(DetailDataDf.KIND_OF_BUSINESS.unique())\n",
    "y = 1\n",
    "\n",
    "print(x,y)\n",
    "\n",
    "fig, axs = plt.subplots(x,y, figsize=(40, 130))\n",
    "fig.suptitle(f'Plotting All the Rolling window KPIs for Detail Data', fontsize = 16, y = 0.9)\n",
    "\n",
    "j = 0 \n",
    "for eachKind in DetailDataDf.KIND_OF_BUSINESS.unique():\n",
    "    axs[i].plot(DetailDataDf[(DetailDataDf['KIND_OF_BUSINESS']==eachKind)]['DATE'], DetailDataDf[(DetailDataDf['KIND_OF_BUSINESS']==eachKind)]['R3M'], label = 'Rolling 3 Months')\n",
    "    axs[i].plot(DetailDataDf[(DetailDataDf['KIND_OF_BUSINESS']==eachKind)]['DATE'], DetailDataDf[(DetailDataDf['KIND_OF_BUSINESS']==eachKind)]['R6M'], label = 'Rolling 6 Months')\n",
    "    axs[i].plot(DetailDataDf[(DetailDataDf['KIND_OF_BUSINESS']==eachKind)]['DATE'], DetailDataDf[(DetailDataDf['KIND_OF_BUSINESS']==eachKind)]['R12M'], label = 'Rolling 12 Months')\n",
    "    axs[i].set_title(eachKind, fontsize = 10)\n",
    "    axs[i].set_ylabel('Sales')\n",
    "    axs[i].legend()\n",
    "    i += 1\n",
    "    #print(i,j,eachYear,eachKind)    \n",
    "\n",
    "#print(i,j)\n",
    "        \n",
    "plt.show()"
   ]
  },
  {
   "cell_type": "markdown",
   "id": "af60f7a7-4ae2-4e7d-94c9-0a847652d69b",
   "metadata": {},
   "source": [
    "[Back to top](#Index)\n",
    "\n",
    "## Conclusion"
   ]
  },
  {
   "cell_type": "markdown",
   "id": "51969700-2a17-40b6-b1ab-84b83b8003e3",
   "metadata": {},
   "source": [
    "This whole project is ready to answer all Sales related questions like Sales Trending by month or by Year, YOY percentages for each Kind of Business or overall buiness, time trending Analysis for period of time either few months or years."
   ]
  },
  {
   "cell_type": "markdown",
   "id": "3f805f26-b4db-4175-8814-88246feeec21",
   "metadata": {},
   "source": [
    "[Back to top](#Index)\n",
    "\n",
    "## References"
   ]
  },
  {
   "cell_type": "markdown",
   "id": "b17a1579-d3c7-402b-a496-4c10d7c2e6bf",
   "metadata": {},
   "source": [
    "Adding the References which have been used in this notebook"
   ]
  },
  {
   "cell_type": "markdown",
   "id": "337ab232-28a2-4f42-be69-365f56c9a5e4",
   "metadata": {},
   "source": [
    "- Christopher, Antony \"Python MYSQL Connector\" https://medium.com/analytics-vidhya/importing-data-from-a-mysql-database-into-pandas-data-frame-a06e392d27d7\n",
    "- “Using Matplotlib” https://pandas.pydata.org/pandas-docs/version/0.9.1/visualization.html\n",
    "- “Pandas Data Aggregation” https://pandas.pydata.org/docs/reference/api/pandas.DataFrame.aggregate.html\n",
    "- “Pandas DataFrame Rolling window” https://pandas.pydata.org/docs/reference/api/pandas.DataFrame.rolling.html\n"
   ]
  }
 ],
 "metadata": {
  "kernelspec": {
   "display_name": "Python 3",
   "language": "python",
   "name": "python3"
  },
  "language_info": {
   "codemirror_mode": {
    "name": "ipython",
    "version": 3
   },
   "file_extension": ".py",
   "mimetype": "text/x-python",
   "name": "python",
   "nbconvert_exporter": "python",
   "pygments_lexer": "ipython3",
   "version": "3.9.1"
  }
 },
 "nbformat": 4,
 "nbformat_minor": 5
}
