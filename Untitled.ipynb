{
 "cells": [
  {
   "cell_type": "code",
   "execution_count": 1,
   "id": "6a5ba555-302b-451a-a7b7-9e16007a4f81",
   "metadata": {},
   "outputs": [
    {
     "name": "stdout",
     "output_type": "stream",
     "text": [
      "{'a': 1, 'b': 2, 'c': 3}\n",
      "<class 'dict'>\n",
      "{'a': 1, 'b': 2, 'c': 3}\n",
      "<class 'dict'>\n"
     ]
    }
   ],
   "source": [
    "a = {\n",
    "    'a':1\n",
    "    ,'b':2\n",
    "    ,'c':3\n",
    "    }\n",
    "print(a)\n",
    "print(type(a))\n",
    "\n",
    "a2 = dict(a.items())\n",
    "print(a2)\n",
    "print(type(a2))\n",
    "\n"
   ]
  },
  {
   "cell_type": "code",
   "execution_count": 37,
   "id": "d58962da-1f37-48e7-a341-44d17166c405",
   "metadata": {},
   "outputs": [
    {
     "name": "stdout",
     "output_type": "stream",
     "text": [
      "[3, 4, 'bar', '1']\n",
      "[3, 2, 'bar', '1']\n",
      "[3, 2, 'bar', '1']\n",
      "2\n"
     ]
    }
   ],
   "source": [
    "foo = [3,4, 'bar', '1']\n",
    "\n",
    "var = foo\n",
    "print(var)\n",
    "var[1] = 2\n",
    "print(var)\n",
    "print(foo)\n",
    "print(foo[1])"
   ]
  },
  {
   "cell_type": "code",
   "execution_count": 31,
   "id": "93dc2b86-5f6b-4ea3-8d86-ed7f1656d9cc",
   "metadata": {},
   "outputs": [
    {
     "data": {
      "text/plain": [
       "[3, 4, 'bar', '1']"
      ]
     },
     "execution_count": 31,
     "metadata": {},
     "output_type": "execute_result"
    }
   ],
   "source": [
    "list1 = [3,4, 'bar', '1']\n",
    "\n",
    "list2=list1\n",
    "list2"
   ]
  },
  {
   "cell_type": "code",
   "execution_count": 11,
   "id": "ec31fac2-e8b7-4960-bcc9-7a47221c6872",
   "metadata": {},
   "outputs": [
    {
     "name": "stdout",
     "output_type": "stream",
     "text": [
      "index : 0 & 1\n",
      "index : 1 & 2\n",
      "index : 2 & 3\n",
      "index : 0 & value: 1\n",
      "index : 1 & value: 2\n",
      "index : 2 & value: 3\n",
      "{0: 1, 1: 2, 2: 3}\n",
      "key: 0 & value: 1\n",
      "key: 1 & value: 2\n",
      "key: 2 & value: 3\n",
      "{0: 7, 1: 14, 2: 21}\n"
     ]
    }
   ],
   "source": [
    "a = [1, 2, 3]\n",
    "b=[]\n",
    "c={}\n",
    "\n",
    "for index in range(0,len(a)):\n",
    "    print(f\"index : {index} & {a[index]}\")\n",
    "    b.append(a[index] * 2)\n",
    "\n",
    "    \n",
    "for index, value in enumerate(a):\n",
    "    print(f\"index : {index} & value: {value}\")\n",
    "    c[index]=value\n",
    "    \n",
    "print(c)\n",
    "\n",
    "d={}\n",
    "for key, value in c.items():\n",
    "    print(f\"key: {key} & value: {value}\")\n",
    "    d[key]= value*7\n",
    "    \n",
    "print(d)"
   ]
  },
  {
   "cell_type": "code",
   "execution_count": 12,
   "id": "e0c421b6-238f-4c78-a639-a2d2cb9d8e20",
   "metadata": {},
   "outputs": [
    {
     "name": "stdout",
     "output_type": "stream",
     "text": [
      "ok b\n"
     ]
    }
   ],
   "source": [
    "d = {'a': 0, 'b': 1, 'c': 0}\n",
    "\n",
    "if d['a'] > 0:\n",
    "\n",
    "    print('ok a')\n",
    "\n",
    "elif d['b'] > 0:\n",
    "\n",
    "    print('ok b')\n",
    "\n",
    "elif d['c'] > 0:\n",
    "\n",
    "    print('ok c')\n",
    "\n",
    "elif d['d'] > 0:\n",
    "\n",
    "    print('ok d')\n",
    "\n",
    "else:\n",
    "\n",
    "    print('not ok')"
   ]
  },
  {
   "cell_type": "code",
   "execution_count": 14,
   "id": "136b4cc4-41e1-454d-9769-2afac31b145c",
   "metadata": {},
   "outputs": [
    {
     "name": "stdout",
     "output_type": "stream",
     "text": [
      "qux\n",
      "baz\n"
     ]
    },
    {
     "ename": "KeyboardInterrupt",
     "evalue": "",
     "output_type": "error",
     "traceback": [
      "\u001b[1;31m---------------------------------------------------------------------------\u001b[0m",
      "\u001b[1;31mKeyboardInterrupt\u001b[0m                         Traceback (most recent call last)",
      "\u001b[1;32m<ipython-input-14-111640801cae>\u001b[0m in \u001b[0;36m<module>\u001b[1;34m\u001b[0m\n\u001b[0;32m      3\u001b[0m \u001b[1;32mwhile\u001b[0m \u001b[0ma\u001b[0m\u001b[1;33m:\u001b[0m\u001b[1;33m\u001b[0m\u001b[1;33m\u001b[0m\u001b[0m\n\u001b[0;32m      4\u001b[0m \u001b[1;33m\u001b[0m\u001b[0m\n\u001b[1;32m----> 5\u001b[1;33m     \u001b[1;32mif\u001b[0m \u001b[0mlen\u001b[0m\u001b[1;33m(\u001b[0m\u001b[0ma\u001b[0m\u001b[1;33m)\u001b[0m \u001b[1;33m<\u001b[0m \u001b[1;36m3\u001b[0m\u001b[1;33m:\u001b[0m\u001b[1;33m\u001b[0m\u001b[1;33m\u001b[0m\u001b[0m\n\u001b[0m\u001b[0;32m      6\u001b[0m \u001b[1;33m\u001b[0m\u001b[0m\n\u001b[0;32m      7\u001b[0m         \u001b[1;32mcontinue\u001b[0m\u001b[1;33m\u001b[0m\u001b[1;33m\u001b[0m\u001b[0m\n",
      "\u001b[1;31mKeyboardInterrupt\u001b[0m: "
     ]
    }
   ],
   "source": [
    "a = ['foo', 'bar', 'baz', 'qux']\n",
    "\n",
    "while a:\n",
    "\n",
    "    if len(a) < 3:\n",
    "\n",
    "        continue\n",
    "\n",
    "    print(a.pop())\n",
    "\n",
    "print('Done.')"
   ]
  },
  {
   "cell_type": "code",
   "execution_count": 24,
   "id": "85dc809b-367a-4f50-bb7b-9db70a9a63e7",
   "metadata": {},
   "outputs": [
    {
     "name": "stdout",
     "output_type": "stream",
     "text": [
      "If your goal is to master how to write a good Spanish essay make sure your body has a good flow in between paragraphs so they do not end up being separate miniessays It is also essential that each body paragraph contains only one main argument or claim However this central idea can and should be supported by approximately 5 to 6 other sentences\n",
      "['If', 'your', 'goal', 'is', 'to', 'master', 'how', 'to', 'write', 'a', 'good', 'Spanish', 'essay', 'make', 'sure', 'your', 'body', 'has', 'a', 'good', 'flow', 'in', 'between', 'paragraphs', 'so', 'they', 'do', 'not', 'end', 'up', 'being', 'separate', 'miniessays', 'It', 'is', 'also', 'essential', 'that', 'each', 'body', 'paragraph', 'contains', 'only', 'one', 'main', 'argument', 'or', 'claim', 'However', 'this', 'central', 'idea', 'can', 'and', 'should', 'be', 'supported', 'by', 'approximately', '5', 'to', '6', 'other', 'sentences']\n",
      "{'If': 1, 'your': 2, 'goal': 1, 'is': 2, 'to': 3, 'master': 1, 'how': 1, 'write': 1, 'a': 2, 'good': 2, 'Spanish': 1, 'essay': 1, 'make': 1, 'sure': 1, 'body': 2, 'has': 1, 'flow': 1, 'in': 1, 'between': 1, 'paragraphs': 1, 'so': 1, 'they': 1, 'do': 1, 'not': 1, 'end': 1, 'up': 1, 'being': 1, 'separate': 1, 'miniessays': 1, 'It': 1, 'also': 1, 'essential': 1, 'that': 1, 'each': 1, 'paragraph': 1, 'contains': 1, 'only': 1, 'one': 1, 'main': 1, 'argument': 1, 'or': 1, 'claim': 1, 'However': 1, 'this': 1, 'central': 1, 'idea': 1, 'can': 1, 'and': 1, 'should': 1, 'be': 1, 'supported': 1, 'by': 1, 'approximately': 1, '5': 1, '6': 1, 'other': 1, 'sentences': 1}\n"
     ]
    }
   ],
   "source": [
    "latin = 'If your goal is to master how to write a good Spanish essay make sure your body has a good flow in between paragraphs, so they do not end up being separate mini-essays. It is also essential that each body paragraph contains only one main argument or claim. However, this central idea can (and should) be supported by approximately 5 to 6 other sentences.'\n",
    "symbols = [',', '.', '-','(',')']\n",
    "for eachSymbol in symbols:\n",
    "    latin = latin.replace(eachSymbol,'')\n",
    "\n",
    "latinWords = latin.split(' ')\n",
    "words = {}\n",
    "\n",
    "\n",
    "for word in latinWords:\n",
    "    if word in words:\n",
    "        words[word] += 1\n",
    "    else:\n",
    "        words[word] = 1\n",
    "\n",
    "print(latin)\n",
    "print(latinWords)\n",
    "print(words)"
   ]
  },
  {
   "cell_type": "code",
   "execution_count": 40,
   "id": "ce8323d6-51be-4fb7-8559-2bab08908af0",
   "metadata": {},
   "outputs": [
    {
     "name": "stdout",
     "output_type": "stream",
     "text": [
      "[0, 1, 2, 3, 4, 5, 6, 7, 8, 9, 10, 11, 12, 13, 14, 15, 16, 17, 18, 19, 20, 21, 22, 23, 24, 25, 26, 27, 28, 29, 30, 31, 32, 33, 34, 35, 36, 37, 38, 39, 40, 41, 42, 43, 44, 45, 46, 47, 48, 49, 50, 51, 52, 53, 54, 55, 56, 57, 58, 59, 60, 61, 62, 63]\n",
      "[[0, 1, 2, 3, 4, 5, 6, 7], [8, 9, 10, 11, 12, 13, 14, 15], [16, 17, 18, 19, 20, 21, 22, 23], [24, 25, 26, 27, 28, 29, 30, 31], [32, 33, 34, 35, 36, 37, 38, 39], [40, 41, 42, 43, 44, 45, 46, 47], [48, 49, 50, 51, 52, 53, 54, 55], [56, 57, 58, 59, 60, 61, 62, 63]]\n",
      "[[0, 1, 2, 3], [4, 5, 6, 7], [8, 9, 10, 11], [12, 13, 14, 15], [16, 17, 18, 19], [20, 21, 22, 23], [24, 25, 26, 27], [28, 29, 30, 31], [32, 33, 34, 35], [36, 37, 38, 39], [40, 41, 42, 43], [44, 45, 46, 47], [48, 49, 50, 51], [52, 53, 54, 55], [56, 57, 58, 59], [60, 61, 62, 63]]\n"
     ]
    }
   ],
   "source": [
    "mat = list(range(0,64))\n",
    "print(mat)\n",
    "\n",
    "matOutput1 = []\n",
    "matOutput2 = []\n",
    "\n",
    "def makeMatrix(a,n1):\n",
    "    b=[]\n",
    "    tempList = []\n",
    "    for value in a:\n",
    "        if value%n1 == 0:\n",
    "            #print(tempList)\n",
    "            if len(tempList) > 0:\n",
    "                b.append(tempList)\n",
    "            tempList = []\n",
    "            tempList.append(value)\n",
    "        elif value%n1 != 0:\n",
    "            tempList.append(value)\n",
    "\n",
    "    if len(tempList) > 0:\n",
    "        b.append(tempList)\n",
    "    \n",
    "    return b\n",
    "###END of Function makeMatrix ####\n",
    "\n",
    "matOutput1 = makeMatrix(mat, 8)\n",
    "print(matOutput1)    \n",
    "matOutput2 = makeMatrix(mat, 4)\n",
    "print(matOutput2)    \n"
   ]
  },
  {
   "cell_type": "code",
   "execution_count": 52,
   "id": "cdc34ef6-d1e4-427a-ac4e-67b208ba09d8",
   "metadata": {},
   "outputs": [
    {
     "data": {
      "text/plain": [
       "{0: 5, 1: 10, 2: 30}"
      ]
     },
     "execution_count": 52,
     "metadata": {},
     "output_type": "execute_result"
    }
   ],
   "source": [
    "a = [1, 2, 3]\n",
    "b = {index:value for index, value in enumerate(a)}\n",
    "\n",
    "d = {key:value*7 for key, value in b.items() if key ==1}\n",
    "\n",
    "r = [item*3 for item in a if item < 3]\n",
    "\n",
    "d = {index:value*5 if value < 3 else value*10 for index, value in enumerate(a)}\n",
    "d\n"
   ]
  }
 ],
 "metadata": {
  "kernelspec": {
   "display_name": "Python 3",
   "language": "python",
   "name": "python3"
  },
  "language_info": {
   "codemirror_mode": {
    "name": "ipython",
    "version": 3
   },
   "file_extension": ".py",
   "mimetype": "text/x-python",
   "name": "python",
   "nbconvert_exporter": "python",
   "pygments_lexer": "ipython3",
   "version": "3.9.1"
  }
 },
 "nbformat": 4,
 "nbformat_minor": 5
}
