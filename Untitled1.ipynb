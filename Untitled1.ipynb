{
 "cells": [
  {
   "cell_type": "code",
   "execution_count": 32,
   "id": "081a3e27-cb36-4dfe-9d23-79bbbb752655",
   "metadata": {},
   "outputs": [],
   "source": [
    "import numpy as np\n",
    "import matplotlib.pyplot as plt\n"
   ]
  },
  {
   "cell_type": "code",
   "execution_count": null,
   "id": "4b4c7913-873a-4fd6-b7a0-0bdd78a428c6",
   "metadata": {},
   "outputs": [],
   "source": []
  },
  {
   "cell_type": "code",
   "execution_count": 33,
   "id": "11038d9c-0e50-4752-98a6-7e8378c75172",
   "metadata": {},
   "outputs": [
    {
     "name": "stdout",
     "output_type": "stream",
     "text": [
      "[1, 3, 6, 3, 1, 6, 5, 4, 6, 4]\n"
     ]
    },
    {
     "data": {
      "text/plain": [
       "(array([0.16, 0.24]),\n",
       " array([1. , 3.5, 6. ]),\n",
       " <BarContainer object of 2 artists>)"
      ]
     },
     "execution_count": 33,
     "metadata": {},
     "output_type": "execute_result"
    },
    {
     "data": {
      "image/png": "[encoded data removed]",
      "text/plain": [
       "<Figure size 432x288 with 1 Axes>"
      ]
     },
     "metadata": {
      "needs_background": "light"
     },
     "output_type": "display_data"
    }
   ],
   "source": [
    "tosses = []\n",
    "for i in range(1,11):\n",
    "    tosses.append(np.random.randint(1,7))\n",
    "    \n",
    "print(tosses)\n",
    "\n",
    "plt.hist(tosses, bins = 2, density = True)"
   ]
  },
  {
   "cell_type": "code",
   "execution_count": 34,
   "id": "c37b8cd6-cb43-4051-ba6a-d05dc468fd10",
   "metadata": {},
   "outputs": [
    {
     "data": {
      "text/plain": [
       "(array([0.06666667, 0.26666667]),\n",
       " array([0., 3., 6.]),\n",
       " <BarContainer object of 2 artists>)"
      ]
     },
     "execution_count": 34,
     "metadata": {},
     "output_type": "execute_result"
    },
    {
     "data": {
      "image/png": "[encoded data removed]",
      "text/plain": [
       "<Figure size 432x288 with 1 Axes>"
      ]
     },
     "metadata": {
      "needs_background": "light"
     },
     "output_type": "display_data"
    }
   ],
   "source": [
    "plt.hist(tosses, bins = 2, density = True, range = [0,6])"
   ]
  },
  {
   "cell_type": "code",
   "execution_count": 2,
   "id": "521924f5-c10b-4923-9ca3-a275476607ed",
   "metadata": {},
   "outputs": [
    {
     "name": "stdout",
     "output_type": "stream",
     "text": [
      "Honda Accord which is 2022 built, which is years old, its Black in color, its a Pretty New Front Wheel Drive car in Sedan type, it runs on Gasoline,it has 4 cylinders, and this Car has a mileage of 1000  miles,  the listing price is USD 20000, the car is 147 Miles away from your current location.\n",
      "\n",
      "\n",
      "Honda CRV which is 2020 built, which is years old, its White in color, its a Pretty Used All Wheel Drive car in Sedan type, it runs on Gasoline,it has 4 cylinders, and this Car has a mileage of 12500  miles,  the listing price is USD 50000, the car is 603 Miles away from your current location.\n",
      "\n",
      "\n",
      "Tesla Model 3 which is 2023 built, which is years old, its Red in color, its a Pretty New Front Wheel Drive car in Sedan type, it runs on Electric, and this Car has a mileage of 7500  miles,  the listing price is USD 55000, the car is 567 Miles away from your current location.\n",
      "\n",
      "\n",
      "Tesla Model Y which is 2021 built, which is years old, its Blue in color, its a Pretty Used Front Wheel Drive car in Sedan type, it runs on Electric, and this Car has a mileage of 12500  miles,  the listing price is USD 72000, the car is 6 Miles away from your current location.\n",
      "\n",
      "\n",
      "Toyota Prius which is 2019 built, which is years old, its Silver in color, its a Pretty Used Front Wheel Drive car in Sedan type, it runs on Hybrid,it has 4 cylinders, and this Car has a mileage of 50000  miles,  the listing price is USD 20000, the car is 6 Miles away from your current location.\n"
     ]
    }
   ],
   "source": [
    "\n",
    "import pgeocode\n",
    "\n",
    "global myZipCode\n",
    "global myCountryCode\n",
    "\n",
    "myZipCode = 19403\n",
    "myCountryCode = 'US'\n",
    "\n",
    "def CarMakeCountry(iCountry):\n",
    "    CarMakes= {\n",
    "                'Japan' : ['Honda','Toyota']\n",
    "                ,'Sweden' : ['Volvo']\n",
    "                ,'Germany' : ['Audi','BMW']\n",
    "                ,'US' : ['GMC','Tesla','Ford']\n",
    "                ,'South Korea' : ['Kia','Hyundai']\n",
    "                }\n",
    "\n",
    "    for key, value in CarMakes.items():\n",
    "        if iCountry.upper() in [x.upper() for x in value]:\n",
    "            return key\n",
    "\n",
    "class CarModels:\n",
    "    def __init__(self, Year, Make, Model, Color, Cylinders, Country, Zipcode, Mileage, Price, Currency, BodyType, Fuel, Drivetrain):\n",
    "        self.Year = Year\n",
    "        self.Make = Make\n",
    "        self.Model = Model\n",
    "        self.Color = Color\n",
    "        self.Cylinders = Cylinders\n",
    "        self.Zipcode = Zipcode\n",
    "        self.Country = Country\n",
    "        self.Mileage = Mileage\n",
    "        self.Price = Price\n",
    "        self.Currency = Currency\n",
    "        self.BodyType = BodyType\n",
    "        self.Fuel = Fuel\n",
    "        self.Drivetrain = Drivetrain\n",
    "    \n",
    "    def CarSummary(self):\n",
    "        dist = pgeocode.GeoDistance(myCountryCode)\n",
    "        distance = dist.query_postal_code(str(myZipCode), str(self.Zipcode))\n",
    "        carCountry = CarMakeCountry(self.Make)\n",
    "        CylindersDesc =  ''\n",
    "        \n",
    "        if self.Mileage <= 100:\n",
    "            carCondition = 'Brand New'\n",
    "        elif self.Mileage <= 10000:\n",
    "            carCondition = 'Pretty New'\n",
    "        elif self.Mileage <= 10000:\n",
    "            carCondition = 'Used'\n",
    "        elif self.Mileage <= 50000:\n",
    "            carCondition = 'Pretty Used'\n",
    "        else:\n",
    "            carCondition = 'Pretty Old'\n",
    "\n",
    "        \n",
    "        if self.Drivetrain == 'FWD':\n",
    "            DrivetrainDesc = 'Front Wheel Drive'\n",
    "        elif self.Drivetrain == 'AWD':\n",
    "            DrivetrainDesc = 'All Wheel Drive'\n",
    "            \n",
    "        if self.Cylinders > 0:\n",
    "            CylindersDesc = f\"it has {self.Cylinders} cylinders,\"\n",
    "            \n",
    "        SummaryStatement = (\n",
    "                                f\"{self.Make} {self.Model} which is {self.Year} built, which is years old,\"\n",
    "                                f\" its {self.Color} in color, its a {carCondition}\"\n",
    "                                f\" {DrivetrainDesc} car in {self.BodyType} type, it runs on {self.Fuel},{CylindersDesc}\"\n",
    "                                f\" and this Car has a mileage of {self.Mileage}  miles, \"\n",
    "                                f\" the listing price is {self.Currency} {self.Price}, \"\n",
    "                                f\"the car is {int(distance)}\"\n",
    "                                f\" Miles away from your current location.\"\n",
    "                            )\n",
    "        return SummaryStatement\n",
    "\n",
    "\n",
    "HondaAccord = CarModels(2022, 'Honda', 'Accord', 'Black', 4, 'US', 11356, 1000, 20000, 'USD', 'Sedan',  'Gasoline', 'FWD')\n",
    "HondaCRV = CarModels(2020, 'Honda', 'CRV', 'White', 4, 'US', 27506, 12500, 50000, 'USD', 'Sedan',  'Gasoline', 'AWD')\n",
    "TeslaModel3 = CarModels(2023, 'Tesla', 'Model 3', 'Red', 0, 'US', 27560, 7500, 55000, 'USD', 'Sedan',  'Electric', 'FWD')\n",
    "TeslaModelY = CarModels(2021, 'Tesla', 'Model Y', 'Blue', 0, 'US', 19406, 12500, 72000, 'USD', 'Sedan',  'Electric', 'FWD')\n",
    "ToyotaPrius = CarModels(2019, 'Toyota', 'Prius', 'Silver', 4, 'US', 19406, 50000, 20000, 'USD', 'Sedan',  'Hybrid', 'FWD')\n",
    "\n",
    "print(HondaAccord.CarSummary())\n",
    "print(\"\\n\")\n",
    "print(HondaCRV.CarSummary())\n",
    "print(\"\\n\")\n",
    "print(TeslaModel3.CarSummary())\n",
    "print(\"\\n\")\n",
    "print(TeslaModelY.CarSummary())\n",
    "print(\"\\n\")\n",
    "print(ToyotaPrius.CarSummary())\n",
    "\n",
    "\n"
   ]
  }
 ],
 "metadata": {
  "kernelspec": {
   "display_name": "Python 3",
   "language": "python",
   "name": "python3"
  },
  "language_info": {
   "codemirror_mode": {
    "name": "ipython",
    "version": 3
   },
   "file_extension": ".py",
   "mimetype": "text/x-python",
   "name": "python",
   "nbconvert_exporter": "python",
   "pygments_lexer": "ipython3",
   "version": "3.9.1"
  }
 },
 "nbformat": 4,
 "nbformat_minor": 5
}
