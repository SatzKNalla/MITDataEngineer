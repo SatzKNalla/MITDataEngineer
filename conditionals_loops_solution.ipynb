{
 "cells": [
  {
   "cell_type": "markdown",
   "metadata": {},
   "source": [
    "# Codio Coding Activity 1.5: Conditionals and Looping Over Collections\n",
    "\n",
    "\n",
    "### Learning Outcome Addressed\n",
    "\n",
    "- 8. Integrate *loops* and *conditionals* in a Python coding environment.\n",
    "\n",
    "\n",
    "\n",
    "## Index:\n",
    "\n",
    "- [Question 1](#Question-1)\n",
    "- [Question 2](#Question-2)\n",
    "- [Question 3](#Question-3)\n",
    "- [Question 4](#Question-4)\n",
    "- [Question 5](#Question-5)\n",
    "- [Question 6](#Question-6)\n",
    "- [Question 7](#Question-7)\n",
    "- [Question 8](#Question-8)\n",
    "- [Question 9](#Question-9)\n",
    "- [Question 10](#Question-10)"
   ]
  },
  {
   "cell_type": "markdown",
   "metadata": {},
   "source": [
    "## *Conditionals*\n",
    "\n",
    "Everything you have seen so far has consisted of sequential execution, in which statements are always performed one after the other, in exactly the order specified.\n",
    "\n",
    "However, frequently, a program needs to skip over some statements, execute a series of statements repetitively, or choose between alternate sets of statements to execute.\n",
    "\n",
    "\n",
    "This is where control structures come in—a control structure directs the order of execution of the statements within a program.\n",
    "\n",
    "### If Statement\n",
    "\n",
    "The first *`Python`* control structure you will be practicing here is the *`if`* statement.\n",
    "\n",
    "In the real world, you commonly must evaluate information around yuo and then choose one course of action or another based on what you observe.\n",
    "\n",
    "The basic structure of  an *`if`* statement is:\n",
    "\n",
    "```Python\n",
    "if <expression>:\n",
    "    <statement>\n",
    "```\n",
    "\n",
    "In the form shown above:\n",
    "\n",
    "- `<expression>` is an expression evaluated in a *Boolean* context\n",
    "- `<statement>` is a valid Python statement that must be indented\n",
    "\n",
    "If `<expression>` is true, then `<statement>`  is executed. If `<statement>` is false, then `<statement>` is skipped over and not executed.\n",
    "\n",
    "Note that the colon (:) following `<expression>` is required."
   ]
  },
  {
   "cell_type": "markdown",
   "metadata": {},
   "source": [
    "### Question 1\n",
    "*2 points*\n",
    "\n",
    "Given *`num1a`*, *`num1b`*, and the *list* *`ans1`* defined below, write a program that appends the *Boolean `True`* to *`ans1`* if *`num1a`* is less than 0 and `False` to *`ans1`* if *`num1b`* is greater than 0."
   ]
  },
  {
   "cell_type": "code",
   "execution_count": 2,
   "metadata": {},
   "outputs": [],
   "source": [
    "### GRADED\n",
    "\n",
    "num1a = -738.9\n",
    "num1b = 11\n",
    "ans1 = []\n",
    "\n",
    "### YOUR SOLUTION HERE\n",
    "\n",
    "### BEGIN SOLUTION\n",
    "if num1a < 0:\n",
    "    ans1.append(True)\n",
    "if num1b > 0:\n",
    "    ans1.append(False)\n",
    "### END SOLUTION"
   ]
  },
  {
   "cell_type": "markdown",
   "metadata": {},
   "source": [
    "### Question 2\n",
    "*2 points*\n",
    "\n",
    "Given *`str1`* and the *list* *`ans2`* defined below, write a program that appends the *Boolean `True`* to *`ans2`* if *`str1`* contains only letters.\n",
    "\n",
    "**HINT:** You can use the method *`isalpha()`* to check whether a *string* contains only letters."
   ]
  },
  {
   "cell_type": "code",
   "execution_count": 1,
   "metadata": {},
   "outputs": [],
   "source": [
    "### GRADED\n",
    "\n",
    "str1 = \"This is the 1st week of the course\"\n",
    "ans2 = []\n",
    "\n",
    "### YOUR SOLUTION HERE\n",
    "\n",
    "### BEGIN SOLUTION\n",
    "if str1.isalpha():\n",
    "    ans2.append(True)\n",
    "### END SOLUTION"
   ]
  },
  {
   "cell_type": "markdown",
   "metadata": {},
   "source": [
    "### The Else and Elif *Clauses*\n",
    "\n",
    "Sometimes, you will want to evaluate a condition and take one path if the condition is true, but specify an alternate path if it is false. This is accomplished with an else *clause*:\n",
    "\n",
    "```Python\n",
    "if <expression>:\n",
    "    <statement(s)>\n",
    "else:\n",
    "    <statement(s)>\n",
    "\n",
    "```\n",
    "\n",
    "If `<expression>` is true, the first suite is executed, and the second is skipped. If `<expression>` is false, the first suite is skipped and the second is executed. Either way, execution then resumes after the second suite."
   ]
  },
  {
   "cell_type": "markdown",
   "metadata": {},
   "source": [
    "### Question 3\n",
    "*2 points*\n",
    "\n",
    "Given *`num3`* and the *list* *`ans3`* defined below, write a program that appends the *Boolean `True`* to *`ans3`* if *`num2`* is less than 0 or *`False`* otherwise."
   ]
  },
  {
   "cell_type": "code",
   "execution_count": 2,
   "metadata": {},
   "outputs": [],
   "source": [
    "### GRADED\n",
    "\n",
    "num3 = 34.67\n",
    "ans3 = []\n",
    "\n",
    "### YOUR SOLUTION HERE\n",
    "\n",
    "### BEGIN SOLUTION\n",
    "if num3 < 0:\n",
    "    ans3.append(False)\n",
    "if num3 > 0:\n",
    "    ans3.append(True)\n",
    "### END SOLUTION"
   ]
  },
  {
   "cell_type": "markdown",
   "metadata": {},
   "source": [
    "There is also syntax for branching execution based on several alternatives. For this, use one or more *`elif`* (short for else if) *clauses*. Python evaluates each `<expression>` in turn and executes the suite corresponding to the first true expression. If none of the expressions are true, and an else *clause* is specified, then its suite is executed:\n",
    "\n",
    "```Python\n",
    "if <expression>:\n",
    "    <statement(s)>\n",
    "elif <expression>:\n",
    "    <statement(s)>\n",
    "elif <expression>:\n",
    "    <statement(s)>\n",
    "    ...\n",
    "else:\n",
    "    <statement(s)>\n",
    "```\n",
    "\n",
    "### Question 4\n",
    "*3 points*\n",
    "\n",
    "Given *`name`* defined below, write a program that:\n",
    "- assigns the value *`True`* to *`ans4a`* if the first letter in *`name`* is equal to *`A`*, \n",
    "- assigns the value *`True`* to *`ans4b`* if the last letter in *`name`* is equal to *`b`*\n",
    "- assigns the *string `Conditions not satisfied`* to *`ans4c`* if non of the expressions above are true.\n",
    "\n"
   ]
  },
  {
   "cell_type": "code",
   "execution_count": 3,
   "metadata": {},
   "outputs": [],
   "source": [
    "### GRADED\n",
    "name = \"Alexander\"\n",
    "\n",
    "ans4a = None\n",
    "ans4b = None\n",
    "and4c = None\n",
    "\n",
    "### YOUR SOLUTION HERE\n",
    "\n",
    "### BEGIN SOLUTION\n",
    "if name[0] == 'A':\n",
    "    ans4a = True\n",
    "elif name[-1] == 'b':\n",
    "    ans4b = False\n",
    "else:\n",
    "    ans4c = 'Conditions not satisfied'\n",
    "### END SOLUTION"
   ]
  },
  {
   "cell_type": "markdown",
   "metadata": {},
   "source": [
    "## Python For *Loops*\n",
    "A *`for` loop* is used for iterating over a sequence (that is either a *list*, a *tuple*, a *dictionary*, a *set*, or a *string*).\n",
    "\n",
    "With the for *loop* you can execute a set of statements, once for each item in a *list, tuple, set* etc.\n",
    "\n",
    "The general syntax for a *`for` loop* is given by:\n",
    "\n",
    "``` Python\n",
    "for <var> in <iterable>:\n",
    "    <statement(s)>\n",
    "```\n",
    "\n",
    "where `<iterable>` is a collection of objects - for example, a *list* or *tuple*. The `<statement(s)>` in the *loop* body are denoted by indentation and are executed once for each item in `<iterable>`. The *loop* variable `<var>` takes on the value of the next element in `<iterable>` each time through the *loop*."
   ]
  },
  {
   "cell_type": "markdown",
   "metadata": {},
   "source": [
    "\n",
    "### Question 5\n",
    "\n",
    "*1 points*  \n",
    "\n",
    "Given the *list* *`fruits`* defined below, create a program that iterates over *`fruits`* and appends all the elements inside *`fruits`* to the *list* *`fruits_list`*."
   ]
  },
  {
   "cell_type": "code",
   "execution_count": 4,
   "metadata": {},
   "outputs": [],
   "source": [
    "### GRADED\n",
    "\n",
    "fruits = ['apple', 'lime', 'orange', 'watermelon', 'apricot', 'peach']\n",
    "fruits_list = []\n",
    "\n",
    "### YOUR SOLUTION HERE\n",
    "\n",
    "### BEGIN SOLUTION\n",
    "for fruit in fruits:\n",
    "    fruits_list.append(fruit)\n",
    "### END SOLUTION"
   ]
  },
  {
   "cell_type": "markdown",
   "metadata": {},
   "source": [
    "### The Break Statement\n",
    "\n",
    "\n",
    "With the break statement you can stop the *loop* before it has looped through all the items.\n",
    "\n",
    "For example, the code below\n",
    "    \n",
    "```Python    \n",
    "fruits = [item1, item2, item3]\n",
    "for x in fruits:\n",
    "  print(x) \n",
    "  if x == item2:\n",
    "    break\n",
    "```\n",
    "\n",
    "returns:\n",
    "\n",
    "```Python\n",
    "item1\n",
    "```"
   ]
  },
  {
   "cell_type": "markdown",
   "metadata": {},
   "source": [
    "### Question 6\n",
    "\n",
    "*1 points*  \n",
    "\n",
    "Given the list *`fruits`* defined below, create a program that iterates over *`fruits`* and assigns the first four elements in *`fruits`* to a new *list* *`new_fruits`*."
   ]
  },
  {
   "cell_type": "code",
   "execution_count": 5,
   "metadata": {},
   "outputs": [],
   "source": [
    "### GRADED\n",
    "### YOUR ANSWER BELOW\n",
    "\n",
    "fruits = ['apple', 'lime', 'orange', 'watermelon', 'apricot', 'peach']\n",
    "new_fruits = []\n",
    "\n",
    "### YOUR SOLUTION HERE\n",
    "\n",
    "### BEGIN SOLUTION\n",
    "for x in fruits:\n",
    "    new_fruits.append(x) \n",
    "    if x == \"watermelon\":\n",
    "        break\n",
    "### END SOLUTION"
   ]
  },
  {
   "cell_type": "markdown",
   "metadata": {},
   "source": [
    "You can also combine *`for` loops* and *`if`* statements for a better control over your program.\n",
    "\n",
    "### Question 7\n",
    "\n",
    "*3 points*  \n",
    "\n",
    "Given the *list `time`*, with elements from 7 to 24 create a program that iterates over *`time`* and \n",
    "\n",
    "- appends the *string `Good morning`* to the *list `result_time`* if the element in the *list `time`* is less than or equal to 12;\n",
    "- appends *`Good afternoon`* if the element is greater than 12 and less than 20;\n",
    "- appends *`Good night`* otherwise."
   ]
  },
  {
   "cell_type": "code",
   "execution_count": 6,
   "metadata": {},
   "outputs": [],
   "source": [
    "### GRADED\n",
    "### YOUR ANSWER BELOW\n",
    "\n",
    "time = list(range(7,25))\n",
    "result_time = []\n",
    "\n",
    "### YOUR SOLUTION HERE\n",
    "\n",
    "### BEGIN SOLUTION\n",
    "for hour in time:\n",
    "    if hour <= 12:\n",
    "        result_time.append(\"Good morning\")\n",
    "    elif hour < 20:\n",
    "        result_time.append(\"Good afternoon\")\n",
    "    else:\n",
    "        result_time.append(\"Good night\")\n",
    "### END SOLUTION"
   ]
  },
  {
   "cell_type": "markdown",
   "metadata": {},
   "source": [
    "\n",
    "### Question 8\n",
    "\n",
    "*3 points* \n",
    "\n",
    "Define a *list `list8`* with all integer values from 1 to 14 and an empty *list, `ans8`*.\n",
    "\n",
    "Create a program that iterates using a *`for` loop* over all values of `list_mod`. The program must check each value and append the *Boolean `True`* to the *list `result`* if the value is even or append the *Boolean `False`* to the *list* result otherwise.\n",
    "\n",
    "**HINT:** Remember that the modulo division performed by the *`%`* operator can be useful to to check if a number is even or odd."
   ]
  },
  {
   "cell_type": "code",
   "execution_count": 8,
   "metadata": {},
   "outputs": [],
   "source": [
    "### GRADED\n",
    "### YOUR ANSWER BELOW\n",
    "\n",
    "\n",
    "### BEGIN SOLUTION\n",
    "list8 = list(range(1,15))\n",
    "ans8 = []\n",
    "for number in list8:\n",
    "    if number % 2 == 0:\n",
    "        ans8.append(True)\n",
    "    else:\n",
    "        ans8.append(False)\n",
    "### END SOLUTION"
   ]
  },
  {
   "cell_type": "markdown",
   "metadata": {},
   "source": [
    "## The While *Loop*\n",
    "\n",
    "With the *`while` loop* you can execute a set of statements as long as a condition is true.\n",
    "\n",
    "The general syntax for  *`while` loop* is given by:\n",
    "\n",
    "```Python\n",
    "while <expression>:\n",
    "    <statement(s)>\n",
    "else:\n",
    "    <statement(s)>\n",
    "```\n",
    "\n",
    "Note that the *`else`* *clause* is not always necessary."
   ]
  },
  {
   "cell_type": "markdown",
   "metadata": {},
   "source": [
    "### Question 9\n",
    "\n",
    "*2 points* \n",
    "\n",
    "Initialize an *index* *`i`* equal to 1 and an empty *list `list9`*.\n",
    "\n",
    "Write a program that uses a *`while` loop* to append integer numbers to *`list9`* until the *index* is less than 6. You can achieve this by increasing the value of the *index* after each iteration in the *loop*.\n",
    "\n",
    "Exit the *loop* once all the necessary iterations have been performed and assign the *string `i is no longer less than 6`* to `ans9`."
   ]
  },
  {
   "cell_type": "code",
   "execution_count": 9,
   "metadata": {},
   "outputs": [],
   "source": [
    "### GRADED\n",
    "\n",
    "### YOUR SOLUTION HERE\n",
    "\n",
    "### BEGIN SOLUTION\n",
    "i = 1\n",
    "list9 = []\n",
    "while i < 6:\n",
    "  list9.append(i)\n",
    "  i += 1\n",
    "else:\n",
    "  ans9 = \"i is no longer less than 6\"\n",
    "### END SOLUTION"
   ]
  },
  {
   "cell_type": "markdown",
   "metadata": {},
   "source": [
    "You can also use a *`break`* statement to exit a *`while`* *loop*.\n",
    "\n",
    "### Question 10\n",
    "\n",
    "*1 point* \n",
    "\n",
    "Initialize an *index* *`i`* equal to 1 and an empty *list* *`list10`*.\n",
    "\n",
    "Write a program that uses a *`while` loop* to append integer numbers to *`list9`*. You can achieve this by increasing the value of the *index* after each iteration in the *loop*.\n",
    "\n",
    "Exit the *loop* when the *index* is equal to three."
   ]
  },
  {
   "cell_type": "code",
   "execution_count": 10,
   "metadata": {},
   "outputs": [
    {
     "data": {
      "text/plain": [
       "[1, 2, 3]"
      ]
     },
     "execution_count": 10,
     "metadata": {},
     "output_type": "execute_result"
    }
   ],
   "source": [
    "### GRADED\n",
    "\n",
    "### YOUR SOLUTION HERE\n",
    "\n",
    "### BEGIN SOLUTION\n",
    "i = 1\n",
    "list10 = []\n",
    "while i < 6:\n",
    "  list10.append(i)\n",
    "  if i == 3:\n",
    "    break\n",
    "  i += 1\n",
    "### END SOLUTION\n",
    "list10"
   ]
  },
  {
   "cell_type": "code",
   "execution_count": null,
   "metadata": {},
   "outputs": [],
   "source": []
  }
 ],
 "metadata": {
  "kernelspec": {
   "display_name": "Python 3",
   "language": "python",
   "name": "python3"
  },
  "language_info": {
   "codemirror_mode": {
    "name": "ipython",
    "version": 3
   },
   "file_extension": ".py",
   "mimetype": "text/x-python",
   "name": "python",
   "nbconvert_exporter": "python",
   "pygments_lexer": "ipython3",
   "version": "3.9.1"
  }
 },
 "nbformat": 4,
 "nbformat_minor": 4
}
